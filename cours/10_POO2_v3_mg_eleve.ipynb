{
 "cells": [
  {
   "cell_type": "markdown",
   "metadata": {},
   "source": [
    "# Programmation orientée objet avancée"
   ]
  },
  {
   "cell_type": "markdown",
   "metadata": {},
   "source": [
    "## Table des matières\n",
    "\n",
    "1. [Objectifs](#objectifs)\n",
    "1. [Introduction](#introduction)\n",
    "1. [Composition des objets](#composition-des-objets)\n",
    "1. [Exemple de jeu de cartes](#exemple-de-jeu-de-cartes)\n",
    "1. [Héritage](#héritage)\n",
    "1. [Redéfintion des méthodes](#redifinition-des-methodes)\n",
    "1. [Héritage multiple](#heritage-multiple)\n",
    "1. [Classes abstraites](#classes-abstraites)\n",
    "1. [Polymorphisme](#polymorphisme)\n",
    "1. [Références](#references)"
   ]
  },
  {
   "cell_type": "markdown",
   "metadata": {},
   "source": [
    "## Objectifs\n",
    "\n",
    "1. Savoir utiliser des classes comme composants d'autres classes\n",
    "1. Comprendre la notion d'interaction par envoi de messages\n",
    "1. Maîtriser l'héritage et le polymorphisme\n",
    "1. Découvrir quelques principes de conception orientée objet"
   ]
  },
  {
   "cell_type": "markdown",
   "metadata": {},
   "source": [
    "## Introduction\n",
    "Jusqu'à présent, nous nous sommes limités à des classes très simple. Dans ce chapitre, nous allons apprendre à utiliser des classes existantes pour en créer des nouvelles. Nous verrons ensuite qu'une classe peut hériter d'une autre classe. Nous expliquerons ensuite le concept de polymorphisme et son utilité dans le développement des programmes."
   ]
  },
  {
   "cell_type": "markdown",
   "metadata": {},
   "source": [
    "Les concepts avancés en programmation orientée objet sont essentiels car ils permettent de créer des programmes puissants, facilement maintenable et évolutif. Ces concepts de génie logiciels sont utilisés dans tous les programmes de grande complexité et il et nécessaire de les connaître. \n",
    "\n",
    "![image](https://encrypted-tbn0.gstatic.com/images?q=tbn:ANd9GcQBnZC6XF_ZL4x-0soBBRAGxOQhnaqecIQJQTJsWeZBSloNFJA&s)"
   ]
  },
  {
   "cell_type": "markdown",
   "metadata": {},
   "source": [
    "## Composition des objets\n",
    "Nous avons vu jusqu'à présent que chaque attribut de notre classe est composé de **types primitifs** (string, int, float...). En réalité, les attributs peuvent être de n'importe quel type, y compris une classe. \n",
    "On peut ainsi construire un **objet composé** plus complexe, composé d'autres objets défini par une classe. \n",
    "Autrement dit, chaque classe peut servir de composant élémentaire pour composer d'autres classes."
   ]
  },
  {
   "cell_type": "markdown",
   "metadata": {},
   "source": [
    "Pour illustrer cela nous allons reprendre l'exemple de notre moto. Le code ci-dessous illustre une classe qui possède des attributs qui sont eux-même des classes."
   ]
  },
  {
   "cell_type": "code",
   "execution_count": 2,
   "metadata": {},
   "outputs": [],
   "source": [
    "class Wheel:\n",
    "    def __init__(self, pressure=100):\n",
    "        self.pressure = pressure\n",
    "        \n",
    "    def __str__(self):\n",
    "        return f'The current pressure of the wheel is {self.pressure}'"
   ]
  },
  {
   "cell_type": "markdown",
   "metadata": {},
   "source": [
    "Nous pouvons instancier un objet de la classe ``Wheel``."
   ]
  },
  {
   "cell_type": "code",
   "execution_count": 3,
   "metadata": {},
   "outputs": [
    {
     "name": "stdout",
     "output_type": "stream",
     "text": [
      "The current pressure of the wheel is 100\n"
     ]
    }
   ],
   "source": [
    "wheel = Wheel()\n",
    "print(wheel)"
   ]
  },
  {
   "cell_type": "markdown",
   "metadata": {},
   "source": [
    "Nous pouvons utiliser cette classe ``Wheel`` dans la définition de la classe ``Bike``"
   ]
  },
  {
   "cell_type": "code",
   "execution_count": 4,
   "metadata": {},
   "outputs": [],
   "source": [
    "class Bike:\n",
    "    def __init__(self, brand, model):\n",
    "        self.brand = brand\n",
    "        self.model = model\n",
    "        self.wheel = Wheel()\n",
    "        \n",
    "    def __str__(self):\n",
    "        return f'Bike {self.brand} with wheel pressure: {self.wheel.pressure}'    "
   ]
  },
  {
   "cell_type": "markdown",
   "metadata": {},
   "source": [
    "Nous pouvons instancier un object ``Bike`` et l'afficher."
   ]
  },
  {
   "cell_type": "code",
   "execution_count": 5,
   "metadata": {},
   "outputs": [
    {
     "name": "stdout",
     "output_type": "stream",
     "text": [
      "Bike Kawasaki with wheel pressure: 100\n"
     ]
    }
   ],
   "source": [
    "bike = Bike('Kawasaki', 'Ninja')\n",
    "print(bike) "
   ]
  },
  {
   "cell_type": "markdown",
   "metadata": {},
   "source": [
    "L'exemple ci-dessus nous montre que nous avons deux classes. La classe ``Bike`` qui va nous servir de classe de base et la classe ``Wheel`` qui va être une classe que l'on va embarquer dans la classe ``Bike``.\n",
    "\n",
    "L'attribut ``wheel`` est de **type complexe**."
   ]
  },
  {
   "cell_type": "markdown",
   "metadata": {},
   "source": [
    "Pour accéder à l'instace de notre classe ``wheel`` il suffit de faire ``self.wheel`` et nous avons accès directement à la référence de la classe ``Wheel``. Pour accéder à un attribut de cette classe, il faut écrire ``self.wheel.pressure`` afin d'obtenir la pression du pneu."
   ]
  },
  {
   "cell_type": "code",
   "execution_count": 7,
   "metadata": {},
   "outputs": [
    {
     "name": "stdout",
     "output_type": "stream",
     "text": [
      "Bike Kawasaki with wheel pressure: 100\n",
      "The current pressure of the wheel is 100\n",
      "100\n"
     ]
    }
   ],
   "source": [
    "print(bike)\n",
    "print(bike.wheel)\n",
    "print(bike.wheel.pressure)"
   ]
  },
  {
   "cell_type": "markdown",
   "metadata": {},
   "source": [
    "#### Exercice\n",
    "* Definissez une nouvelle classe ``Engine`` qui a comme attribut la puissance (power). \n",
    "* Ajoutez ensuite cette nouvelle classe comme objet dans la classe ``Bike``. \n",
    "* Puis affichez dans le terminal les détails de votre classe ``Bike``."
   ]
  },
  {
   "cell_type": "code",
   "execution_count": 15,
   "metadata": {},
   "outputs": [],
   "source": [
    "class Engine:\n",
    "    def __init__(self):\n",
    "        self.power = 90\n",
    "    \n",
    "    def __str__(self):\n",
    "        return f'{self.power}'"
   ]
  },
  {
   "cell_type": "code",
   "execution_count": 16,
   "metadata": {},
   "outputs": [
    {
     "name": "stdout",
     "output_type": "stream",
     "text": [
      "Honda CBR1000RR with an engine of 90 hp\n"
     ]
    }
   ],
   "source": [
    "class Bike:\n",
    "    def __init__(self, brand, model):\n",
    "        self.brand = brand\n",
    "        self.model = model\n",
    "        self.wheel = Wheel()\n",
    "        self.engine = Engine()\n",
    "\n",
    "    def __str__(self):\n",
    "        return f'{self.brand} {self.model} with an engine of {self.engine} hp'\n",
    "        \n",
    "bike = Bike(\"Honda\", \"CBR1000RR\")\n",
    "print(bike)"
   ]
  },
  {
   "cell_type": "markdown",
   "metadata": {},
   "source": [
    "### Les méthodes dans les classes composées\n",
    "Tout l'art de la programmation orientée objet réside dans le fait de savoir distribuer les responsabilités dans les différentes classes. En effet, les méthodes doivent être implémentées dans les classes en respectant le principe **separation of concern**. "
   ]
  },
  {
   "cell_type": "markdown",
   "metadata": {},
   "source": [
    "Le principe du **loosely coupling** ou faible couplage est de faire en sorte d'avoir deux objets qui dépendent le moins l'une de l'autre. Par exemple une classe ``Wheel`` qui est une roue doit pouvoir fonctionner normalement peut importe le type de classe ``Bike`` qu'on va utiliser. Pour se faire, il faut rendre la classe ``Wheel`` la plus indépendante possible des autres classes et ainsi elle sera moins exposée aux effets des autres classes."
   ]
  },
  {
   "cell_type": "markdown",
   "metadata": {},
   "source": [
    "Le principe **separation of concern** ou séparation des préoccupations est le fait de ségmenter le code en plusieurs classes et que chaque classe s'occupe d'une partie du problème ou un aspect précis de la problématique générale. Par exemple on a notre classe ``Bike`` qui est notre moto en général et les classes ``Wheel`` embarquent toutes les méthodes afin de gérer la pression et l'état des pneus. La classe ``Bike`` n'a pas besoin de savoir comment la classe ``Wheel`` fait son travail car cela ne la concerne pas. "
   ]
  },
  {
   "cell_type": "markdown",
   "metadata": {},
   "source": [
    "## Exemple de jeu de carte\n",
    "Le but est de simuler le jeu de la bataille entre deux joueurs. Il y a la classe ``Battle`` qui est la classe de base et c'est elle qui va gérer toutes les interactions. \n",
    "\n",
    "Il y a la classe ``Player`` qui représente un joueur. Cette classe a comme attributs ``decks`` qui sont les cartes qu'il possède au début du jeu et ``deck_won`` qui sont les cartes qu'il a gagné.\n",
    "\n",
    "Il y a la classe ``Deck`` qui représente une liste de cartes. \n",
    "\n",
    "Et enfin, il y a la classe ``Card`` qui représente une carte. \n",
    "\n",
    "Cette dernière classe a deux attributs: ``color`` qui représente la couleure de la carte et ``rang`` qui représente le rang de la carte. Ces deux attributs forment la carte.\n",
    "\n",
    "![image](https://static.grosjean.io/bugnon/bataille.jpg)"
   ]
  },
  {
   "cell_type": "markdown",
   "metadata": {},
   "source": [
    "### La classe Card\n",
    "Dans le jeu de la bataille nous avons les cartes suivantes :\n",
    "* le rang des cartes est: \t**2 3 4 5 6 7 8 9 J Q K A**\n",
    "* la couleur des cartes est: **Clubs (♣), Diamonds (♦), Hearts (♥), Spades (♠)**\n",
    "\n",
    "La classe ``Card`` représente une carte du jeu et l'attribut ``color`` est sa couleur et l'attribut ``rank`` son rang."
   ]
  },
  {
   "cell_type": "code",
   "execution_count": 20,
   "metadata": {},
   "outputs": [],
   "source": [
    "class Card:\n",
    "    ranks = '  23456789JQKA'\n",
    "    colors = 'CDHS'\n",
    "    \n",
    "    def __init__(self, color, rank):\n",
    "        self.color = color\n",
    "        self.rank = rank\n",
    "                \n",
    "    def __str__(self):\n",
    "        return f'{Card.colors[self.color]} {Card.ranks[self.rank]}' "
   ]
  },
  {
   "cell_type": "markdown",
   "metadata": {},
   "source": [
    "Nous pouvons maintenant instancier une carte"
   ]
  },
  {
   "cell_type": "code",
   "execution_count": 21,
   "metadata": {},
   "outputs": [
    {
     "name": "stdout",
     "output_type": "stream",
     "text": [
      "D 2\n"
     ]
    }
   ],
   "source": [
    "# Two of Diamonds (color=1, rank=2)\n",
    "c1 = Card(1, 2)\n",
    "print(c1)"
   ]
  },
  {
   "cell_type": "markdown",
   "metadata": {},
   "source": [
    "Instanciez une deuxième carte: Queeen of Hearts"
   ]
  },
  {
   "cell_type": "code",
   "execution_count": 22,
   "metadata": {},
   "outputs": [
    {
     "name": "stdout",
     "output_type": "stream",
     "text": [
      "H Q\n"
     ]
    }
   ],
   "source": [
    "# Queen of Hearts\n",
    "c2 = Card(2, 11)\n",
    "print(c2)"
   ]
  },
  {
   "cell_type": "markdown",
   "metadata": {},
   "source": [
    "#### La méthode compare\n",
    "Il est important de pouvoir comparer des objets entre eux. Jusqu'à présent nous avons appris à comparer des variables de types primitifs entre elles."
   ]
  },
  {
   "cell_type": "markdown",
   "metadata": {},
   "source": [
    "Ainsi l'exemple suivant montre comment se comporte la comparaison de deux variables primitives:"
   ]
  },
  {
   "cell_type": "code",
   "execution_count": 23,
   "metadata": {},
   "outputs": [
    {
     "name": "stdout",
     "output_type": "stream",
     "text": [
      "False\n"
     ]
    }
   ],
   "source": [
    "x = 123\n",
    "y = 456\n",
    "print(x > y)"
   ]
  },
  {
   "cell_type": "markdown",
   "metadata": {},
   "source": [
    "Aini nous pouvons facilement comparer deux types primitifs et le résultat de la comparaison retourne un booléen."
   ]
  },
  {
   "cell_type": "markdown",
   "metadata": {},
   "source": [
    "Maintenant nous allons comparer deux classes avec la même méthode. Nous allons créer la variable ``c1`` et ``c2`` de type ``Card`` et les comparer avec les opérateurs de comparaisons :"
   ]
  },
  {
   "cell_type": "code",
   "execution_count": 24,
   "metadata": {},
   "outputs": [
    {
     "name": "stdout",
     "output_type": "stream",
     "text": [
      "False\n"
     ]
    }
   ],
   "source": [
    "# seven of Diamonds (color=1, rank=7)\n",
    "c1 = Card(1, 7)\n",
    "c2 = Card(1, 7)\n",
    "\n",
    "print(c1 == c2)"
   ]
  },
  {
   "cell_type": "markdown",
   "metadata": {},
   "source": [
    "L'exemple ci-dessus montre que nous avonns deux variables qui contiennent des objets identiques de la classe ``Card`` mais quand nous les comparons avec les opérateurs classiques de comparaison, nous obtenons comme résultats qu'elles ne sont pas identiques. "
   ]
  },
  {
   "cell_type": "markdown",
   "metadata": {},
   "source": [
    "En fait, ce que nous avons fait là c'est que nous avons comparé deux adresses mémoire différentes car les variables ``c1`` et ``c2`` bien qu'elles aient des attributs identiques, ont une adresse mémoire différente. "
   ]
  },
  {
   "cell_type": "markdown",
   "metadata": {},
   "source": [
    "Il n'est donc pas possible d'utiliser les oprérateurs de comparaison classiques avec des objets ! "
   ]
  },
  {
   "cell_type": "markdown",
   "metadata": {},
   "source": [
    "La comparaison d'objets ne se fait pas automatiquement. Le développeur doit implémenter lui-même une méthode permettant de comparer des objets entre eux. "
   ]
  },
  {
   "cell_type": "markdown",
   "metadata": {},
   "source": [
    "La méthode ``compare()`` sert à comparer deux objets entre eux. Elle retourne \n",
    "* **-1** si la carte en paramètres est plus grande, \n",
    "* **0** si les deux cartes sont identiques et \n",
    "* **+1** si la carte en paramètre est plus petite."
   ]
  },
  {
   "cell_type": "code",
   "execution_count": 25,
   "metadata": {},
   "outputs": [],
   "source": [
    "class Card:\n",
    "    ranks = '  23456789JQKA'\n",
    "    colors = 'CDHS'\n",
    "    \n",
    "    def __init__(self, color, rank):\n",
    "        self.color = color\n",
    "        self.rank = rank\n",
    "    \n",
    "    def compare(self, other):\n",
    "        if self.rank < other.rank:\n",
    "            return -1\n",
    "        elif self.rank == other.rank:\n",
    "            return 0\n",
    "        else:\n",
    "            return 1\n",
    "    \n",
    "    def __str__(self):\n",
    "        return Card.colors[self.color] + Card.ranks[self.rank] "
   ]
  },
  {
   "cell_type": "markdown",
   "metadata": {},
   "source": [
    "Nous pouvons créer trois cartes ``c1``, ``c2`` et ``c3`` et les comparer entre elles :"
   ]
  },
  {
   "cell_type": "code",
   "execution_count": 29,
   "metadata": {},
   "outputs": [
    {
     "name": "stdout",
     "output_type": "stream",
     "text": [
      "D2\n",
      "HQ\n",
      "S2\n",
      "-1\n",
      "1\n",
      "0\n"
     ]
    }
   ],
   "source": [
    "# Two of Diamonds\n",
    "c1 = Card(1, 2)\n",
    "# Queen of Hearts\n",
    "c2 = Card(2, 11)\n",
    "# Two of Spades\n",
    "c3 = Card(3, 2)\n",
    "print(c1)\n",
    "print(c2)\n",
    "print(c3)\n",
    "# two of diamonds is smaller than queen of hearts\n",
    "print(c1.compare(c2))\n",
    "# queen of hearts is bigger than two of diamonds\n",
    "print(c2.compare(c1))\n",
    "# two of diamonds if equals to two of spades\n",
    "print(c1.compare(c3))"
   ]
  },
  {
   "cell_type": "markdown",
   "metadata": {},
   "source": [
    "### Class Deck\n",
    "\n",
    "La classe ``Deck`` représente ensemble de cartes. La méthode ``add`` permet d'ajouter une carte à la liste. La méthode ``pop`` permet d'enlever une carte à la liste et de la retourner. La méthode ``get`` permet de retourner toutes les cartes."
   ]
  },
  {
   "cell_type": "code",
   "execution_count": 31,
   "metadata": {},
   "outputs": [],
   "source": [
    "class Deck:\n",
    "    def __init__(self):\n",
    "        self.cards = []\n",
    "        \n",
    "    def add(self, card):\n",
    "        self.cards.append(card)\n",
    "        \n",
    "    def pop(self):\n",
    "        return self.cards.pop()\n",
    "    \n",
    "    def get(self):\n",
    "        return self.cards\n",
    "    \n",
    "    def __str__(self):\n",
    "        deck = ''\n",
    "        for card in self.cards:\n",
    "            deck += f'{card} '\n",
    "        return deck"
   ]
  },
  {
   "cell_type": "markdown",
   "metadata": {},
   "source": [
    "Nous pouvons créer un deck et y ajouter des cartes :"
   ]
  },
  {
   "cell_type": "code",
   "execution_count": 32,
   "metadata": {},
   "outputs": [
    {
     "name": "stdout",
     "output_type": "stream",
     "text": [
      "D2 HQ \n"
     ]
    }
   ],
   "source": [
    "d = Deck()\n",
    "d.add(c1)\n",
    "d.add(c2)\n",
    "\n",
    "print(d)"
   ]
  },
  {
   "cell_type": "markdown",
   "metadata": {},
   "source": [
    "### La classe Player\n",
    "Cette classe représente un joueur. Ce dernier à l'attribut ``name`` qui est son nom, ``cards`` qui est le deck de cartes qu'il a dès le départ et ``cards_won`` qui est le deck de cartes gagnées à la fin de la partie."
   ]
  },
  {
   "cell_type": "code",
   "execution_count": 42,
   "metadata": {},
   "outputs": [],
   "source": [
    "class Player:\n",
    "    def __init__(self, name):\n",
    "        print(f'Player {name} created')\n",
    "        self.name = name\n",
    "        self.cards = Deck()\n",
    "        self.cards_won = Deck()\n",
    "        \n",
    "    def __str__(self):\n",
    "        deck = \"\"\n",
    "        won  = \"\"\n",
    "\n",
    "        for card in self.cards.get():\n",
    "            deck += f'{card} '\n",
    "        for card in self.cards_won.get():\n",
    "            won += f'{card} '\n",
    "        \n",
    "        deck = \"nothing\" if deck == \"\" else deck\n",
    "        won  = \"nothing\" if won == \"\" else won\n",
    "        \n",
    "        return f'{self.name} has {deck} in his deck and won {won} = {len(won)} cards'"
   ]
  },
  {
   "cell_type": "markdown",
   "metadata": {},
   "source": [
    "Nous pouvons créer un ``Player`` et lui donner deux cartes :"
   ]
  },
  {
   "cell_type": "code",
   "execution_count": 43,
   "metadata": {},
   "outputs": [
    {
     "name": "stdout",
     "output_type": "stream",
     "text": [
      "Player Luc created\n",
      "Luc has D4 H7  in his deck and won nothing = 7 cards\n"
     ]
    }
   ],
   "source": [
    "# create two cards\n",
    "c1 = Card(1, 4)\n",
    "c2 = Card(2, 7)\n",
    "\n",
    "# create a player\n",
    "player = Player('Luc')\n",
    "\n",
    "# add the cards to the player\n",
    "player.cards.add(c1)\n",
    "player.cards.add(c2)\n",
    "\n",
    "print(player)\n"
   ]
  },
  {
   "cell_type": "markdown",
   "metadata": {},
   "source": [
    "### La classe Battle\n",
    "La classe ``Battle`` est la classe qui va gérer les interaction entre les différents joueurs de la bataille. Elle va initialiser le jeu grâce à son **constructeur**. Elle a comme attribut ``player1`` et ``player2`` qui sont nos deux joueurs."
   ]
  },
  {
   "cell_type": "markdown",
   "metadata": {},
   "source": [
    "La méthode ``generate_cards()`` permet de générer un jeu de carte complet mélangé aléatoirement. \n",
    "\n",
    "La méthode ``simulate_game()`` permet de simuler une partie de bataille entre deux joueurs. "
   ]
  },
  {
   "cell_type": "markdown",
   "metadata": {},
   "source": [
    "Pour pouvoir fonctionner correctement, la méthode ``simulate_game()`` doit être completée. A chaque tirage de carte, chaque joueur sort une carte de son jeu. Le simulateur les compare et les règles suivantes s'appliquent : \n",
    "* si la carte tirée par le joueur1 est la plus grande alors il remporte les deux cartes\n",
    "* si la carte tirée par le joueur2 est la plus grande alors il remporte les deux cartes\n",
    "* si les deux cartes tirées sont identiques alors chacun garde sa carte"
   ]
  },
  {
   "cell_type": "code",
   "execution_count": 48,
   "metadata": {},
   "outputs": [
    {
     "name": "stdout",
     "output_type": "stream",
     "text": [
      "Create a new game...\n",
      "Create new players\n",
      "Player Albert created\n",
      "Player Bernard created\n",
      "Generate a new set of cards...\n",
      "Distribute the cards among the two players...\n",
      "Albert has H7 S6 D7 S2 CQ H6 H2 H4 D3 CJ H8 HJ C7 S9 D6 D5 D4 S3 D9 C4  in his deck and won nothing = 7 cards\n",
      "Bernard has HQ S5 DJ S4 S7 S8 C6 C8 C2 D8 H5 SQ C3 SJ H9 D2 DQ H3 C9 C5  in his deck and won nothing = 7 cards\n",
      "\n",
      "The game can now start...\n",
      "\n",
      "\n",
      "Round 1 \n",
      "Albert played C4 and Bernard played C5\n",
      "Bernard won\n",
      "\n",
      "Round 2 \n",
      "Albert played D9 and Bernard played C9\n",
      "egality\n",
      "\n",
      "Round 3 \n",
      "Albert played S3 and Bernard played H3\n",
      "egality\n",
      "\n",
      "Round 4 \n",
      "Albert played D4 and Bernard played DQ\n",
      "Bernard won\n",
      "\n",
      "Round 5 \n",
      "Albert played D5 and Bernard played D2\n",
      "Albert won\n",
      "\n",
      "Round 6 \n",
      "Albert played D6 and Bernard played H9\n",
      "Bernard won\n",
      "\n",
      "Round 7 \n",
      "Albert played S9 and Bernard played SJ\n",
      "Bernard won\n",
      "\n",
      "Round 8 \n",
      "Albert played C7 and Bernard played C3\n",
      "Albert won\n",
      "\n",
      "Round 9 \n",
      "Albert played HJ and Bernard played SQ\n",
      "Bernard won\n",
      "\n",
      "Round 10 \n",
      "Albert played H8 and Bernard played H5\n",
      "Albert won\n",
      "\n",
      "Round 11 \n",
      "Albert played CJ and Bernard played D8\n",
      "Albert won\n",
      "\n",
      "Round 12 \n",
      "Albert played D3 and Bernard played C2\n",
      "Albert won\n",
      "\n",
      "Round 13 \n",
      "Albert played H4 and Bernard played C8\n",
      "Bernard won\n",
      "\n",
      "Round 14 \n",
      "Albert played H2 and Bernard played C6\n",
      "Bernard won\n",
      "\n",
      "Round 15 \n",
      "Albert played H6 and Bernard played S8\n",
      "Bernard won\n",
      "\n",
      "Round 16 \n",
      "Albert played CQ and Bernard played S7\n",
      "Albert won\n",
      "\n",
      "Round 17 \n",
      "Albert played S2 and Bernard played S4\n",
      "Bernard won\n",
      "\n",
      "Round 18 \n",
      "Albert played D7 and Bernard played DJ\n",
      "Bernard won\n",
      "\n",
      "Round 19 \n",
      "Albert played S6 and Bernard played S5\n",
      "Albert won\n",
      "\n",
      "Round 20 \n",
      "Albert played H7 and Bernard played HQ\n",
      "Bernard won\n",
      "\n",
      "\n",
      "End of the game... Display results: \n",
      "Albert has nothing in his deck and won D9 S3 D5 D2 C7 C3 H8 H5 CJ D8 D3 C2 CQ S7 S6 S5  = 48 cards\n",
      "Bernard has nothing in his deck and won C4 C5 C9 H3 D4 DQ D6 H9 S9 SJ HJ SQ H4 C8 H2 C6 H6 S8 S2 S4 D7 DJ H7 HQ  = 72 cards\n",
      "And the winner is ...\n",
      "Bernard !!! Congratulation !\n"
     ]
    }
   ],
   "source": [
    "import random\n",
    "\n",
    "class Battle:\n",
    "    def __init__(self, name1, name2):\n",
    "        print(\"Create a new game...\")\n",
    "        print(\"Create new players\")\n",
    "        self.player1 = Player(name1)\n",
    "        self.player2 = Player(name2)\n",
    "        \n",
    "        print(\"Generate a new set of cards...\")\n",
    "        cards = self.generate_cards()\n",
    "        \n",
    "        print(\"Distribute the cards among the two players...\")\n",
    "        for i in range (0, len(cards)):\n",
    "            if not i % 2:\n",
    "                self.player1.cards.add(cards[i])\n",
    "            else:\n",
    "                self.player2.cards.add(cards[i])\n",
    "        \n",
    "        print(self.player1)\n",
    "        print(self.player2)\n",
    "        print(\"\\r\\nThe game can now start...\\r\\n\")\n",
    "        \n",
    "    def generate_cards(self):\n",
    "        \"\"\"Generate a new set of cards\"\"\"\n",
    "        cards = []\n",
    "        \n",
    "        # Build the cards\n",
    "        for color in range(4):\n",
    "            for rank in range(2, 12):\n",
    "                cards.append(Card(color, rank))\n",
    "        \n",
    "        # Shuffle the deck once\n",
    "        random.shuffle(cards)\n",
    "\n",
    "        return cards\n",
    "    \n",
    "    def simulate_game(self):\n",
    "        \"\"\"Generate a full game and print the results in the terminal\"\"\"\n",
    "        \n",
    "        round = 1\n",
    "        while len(self.player1.cards.get()) > 0:\n",
    "            ## We get the card of each player and compare them\n",
    "            card1 = self.player1.cards.pop()\n",
    "            card2 = self.player2.cards.pop()\n",
    "            print(\"\\r\\nRound {} \".format(round))\n",
    "            print(f'{self.player1.name} played {card1} and {self.player2.name} played {card2}')\n",
    "            \n",
    "            #To-Do : Write the rest of the code to finish the game\n",
    "            #Write from here\n",
    "            result = card1.compare(card2)\n",
    "            \n",
    "            if result == -1:\n",
    "                self.player2.cards_won.add(card1)\n",
    "                self.player2.cards_won.add(card2)\n",
    "                print(self.player2.name + ' won')\n",
    "            elif result == 0:\n",
    "                self.player1.cards_won.add(card1)\n",
    "                self.player2.cards_won.add(card2)\n",
    "                print('egality')\n",
    "            else:\n",
    "                self.player1.cards_won.add(card1)\n",
    "                self.player1.cards_won.add(card2)\n",
    "                print(self.player1.name + ' won')\n",
    "            round += 1\n",
    "            \n",
    "        print(\"\\r\\n\\r\\nEnd of the game... Display results: \")\n",
    "        print(self.player1)\n",
    "        print(self.player2)\n",
    "        print('And the winner is ...')\n",
    "        if len(self.player1.cards_won.cards) > len(self.player2.cards_won.cards):\n",
    "            print(self.player1.name + ' !!! Congratulation !')\n",
    "        elif len(self.player1.cards_won.cards) < len(self.player2.cards_won.cards):\n",
    "            print(self.player2.name + ' !!! Congratulation !')\n",
    "        else:\n",
    "            print('egality')\n",
    "# Init the game here !\n",
    "game = Battle(\"Albert\", \"Bernard\")\n",
    "game.simulate_game()"
   ]
  },
  {
   "cell_type": "markdown",
   "metadata": {},
   "source": [
    "Nous avons vu que cet exercice est représentatif du mode de pensée et de la manière de programmer des classes ainsi que de leur interaction dans la programmation orientée objet. Même si cet exercice peut paraître complexe, les logiciels sont souvent d'une complexité bien supérieure et on voit dans ces cas là qu'une approche objet est alors nécessaire afin de structurer le code source. "
   ]
  },
  {
   "cell_type": "markdown",
   "metadata": {},
   "source": [
    "**\"La programmation orientée objet est un paradigme de programmation permettant de structurer les logiciels comme un assemblage d'entités indépendantes qui interagissent.\"** "
   ]
  },
  {
   "cell_type": "markdown",
   "metadata": {},
   "source": [
    "## Héritage\n",
    "La programmation orientée objet se distingue par le fait qu'on peut réutiliser des classes existances pour en créer de nouvelles. Nous avons vu en début de chapitre une première façon de réutiliser des classes. "
   ]
  },
  {
   "cell_type": "markdown",
   "metadata": {},
   "source": [
    "Une classe **A** peut être un composant d'une classe **B**. Il suffit pour cela de donner à **B** un attribut de type **A**.\n",
    "\n",
    "La programmation orientée objet offre un second moyen de réutiliser des classes existantes : Une classe **A** peut alors **hériter** d'une classe **B**. Dans ce cas **A** est un cas particulier ou un enfant de **B**. \n",
    "\n",
    "Lorsqu'une classe **A** hérite d'une classe **B**, elle hérite de toutes ses propriétés et peut en ajouter d'autres. Il est aussi possible de **redéfinir** certaines propriétés et méthodes d'une classe parent **A** vers une classe enfant **B**. \n",
    "\n",
    "Une classe qui se fait **hériter** est une **classe parent** et une classe qui hérite des propriétés et méthodes d'une autre classe est une **classe enfant**. Ainsi si **B** hérite de **A**."
   ]
  },
  {
   "cell_type": "markdown",
   "metadata": {},
   "source": [
    "![Image](https://static.grosjean.io/bugnon/test_uml2.png)\n",
    "\n",
    "L'image dessus représente trois classes : La classe parent ``Book`` et les deux classes enfants ``Manga`` et ``Manual`` qui ont toutes deux héritées de la classe ``Livre``. \n",
    "\n",
    "Nous voyons que la classe ``Livre`` possède un attribut commun à tous les livres qui est le nom et aussi le nombre de pages. Il est donc logique de les mettres ici. Les deux sous classes ou classes enfants ont des attributs qui leurs sont propre et il n'est donc pas nécessaire de partager ces attributs avec toutes les classes. "
   ]
  },
  {
   "cell_type": "markdown",
   "metadata": {},
   "source": [
    "### La classe Book\n",
    "Pour commencer, nous allons créer la classe ``Book``. Cette classe est la classe parent car les classes qui vont hériter de la classe ``Book`` sont des types de livre. \n",
    "\n",
    "Il est important de mettre dans la classe parent les attributs qui sont communs à toutes les classes. Par exemple, quelque soit le type de livre, ils auront toujours un nom ``name`` et un nombre de page ``pages``. La méthodes ``get_pages()`` permet de retourner le nombre de pages.\n",
    "\n",
    "Il faut rappeler que la classe ``Book`` est la classe parent et que les classes enfants qui vont hériter de cette classe vont aussi hériter de toutes ses méthodes et de tous ses attributs."
   ]
  },
  {
   "cell_type": "code",
   "execution_count": 72,
   "metadata": {},
   "outputs": [],
   "source": [
    "class Book:\n",
    "    def __init__(self, name, pages):\n",
    "        self.name  = name\n",
    "        self.pages = pages\n",
    "    \n",
    "    def get_pages(self):\n",
    "        return self.pages\n",
    "    \n",
    "    def __str__(self):\n",
    "        return f'{self.name} is a simple book of {self.pages} pages'\n",
    "        "
   ]
  },
  {
   "cell_type": "markdown",
   "metadata": {},
   "source": [
    "Nous pouvons instancier un livre :"
   ]
  },
  {
   "cell_type": "code",
   "execution_count": 73,
   "metadata": {},
   "outputs": [
    {
     "name": "stdout",
     "output_type": "stream",
     "text": [
      "<class '__main__.Book'>\n",
      "Mathematics 101 is a simple book of 1400 pages\n",
      "This book has 1400 pages\n",
      "\n"
     ]
    }
   ],
   "source": [
    "#book = ?\n",
    "print(type(book))\n",
    "print(book)\n",
    "print(f'This book has {book.get_pages()} pages\\r\\n')"
   ]
  },
  {
   "cell_type": "markdown",
   "metadata": {},
   "source": [
    "Nous pouvons voir que l'objet est bien de type ``Book`` et que les données que nous affichons au terminal sont bien celles d'un livre."
   ]
  },
  {
   "cell_type": "markdown",
   "metadata": {},
   "source": [
    "### La classe Manga\n",
    "Un ``Manga`` est un type de livre. Il possède tous les attributs de la classe ``Book`` car il en a hérité. "
   ]
  },
  {
   "cell_type": "markdown",
   "metadata": {},
   "source": [
    "Pour qu'une classe hérite d'une autre classe, il faut utiliser la sytaxe suivante :\n",
    "```python\n",
    "class Manga(Book):\n",
    "     pass\n",
    "```\n",
    "\n",
    "Pour que la classe ``Manga`` hérite de la classe ``Book``, il faut mettre entre parenthèse à la fin de la déclaration de la classe l'autre classe dont on veut hériter."
   ]
  },
  {
   "cell_type": "markdown",
   "metadata": {},
   "source": [
    "Notons que quand nous appelons le constructeur de la classe ``Manga``, les attributs hérités de la classe ``Book`` ne sont pas définis automatiquement. \n",
    "\n",
    "Quand on appelle le constructeur d'une classe enfant, il est très recommandé d'appeler le constructeur de la classe parent afin de construire les attributs de l'objet parent. \n",
    "\n",
    "Pour se faire on utilise la syntaxe suivante dans le constructeur de la classe ``Manga`` :\n",
    "\n",
    "```python\n",
    "Book.__init__(self, name, pages)\n",
    "```\n",
    "\n",
    "On doit donc spécifier la classe parent puis appeler son constructeur avec les bons paramètres."
   ]
  },
  {
   "cell_type": "markdown",
   "metadata": {},
   "source": [
    "Voici le code de la classe ``Manga`` qui hérite de tous les attributs et méthodes de la classe ``Book``. La classe manga a un attribut ``manga_type`` qui lui est propre. "
   ]
  },
  {
   "cell_type": "code",
   "execution_count": 75,
   "metadata": {},
   "outputs": [],
   "source": [
    "class Manga(Book):\n",
    "    def __init__(self, name, pages, manga_type):\n",
    "        Book.__init__(self, name, pages)\n",
    "        self.manga_type = manga_type\n",
    "        \n",
    "    def __str__(self):\n",
    "        return f'{self.name} is a manga of {self.pages} pages of type {self.manga_type}'\n",
    "    "
   ]
  },
  {
   "cell_type": "markdown",
   "metadata": {},
   "source": [
    "On peut instancier un manga :"
   ]
  },
  {
   "cell_type": "code",
   "execution_count": 77,
   "metadata": {},
   "outputs": [
    {
     "name": "stdout",
     "output_type": "stream",
     "text": [
      "<class '__main__.Manga'>\n",
      "Shingeki no kyojin is a manga of 80 pages of type Shonen\n",
      "This manga has 80 pages\n",
      "\n"
     ]
    }
   ],
   "source": [
    "#manga  = ?\n",
    "print(type(manga))\n",
    "print(manga)\n",
    "print(f'This manga has {manga.pages} pages\\r\\n')"
   ]
  },
  {
   "cell_type": "markdown",
   "metadata": {},
   "source": [
    "Nous pouvons voir avec l'exemple ci-dessus que le type de l'objet est ``Manga``. Nous vons aussi qu'il hérite de l'attribut ``pages`` qui se trouve dans la classe parent."
   ]
  },
  {
   "cell_type": "markdown",
   "metadata": {},
   "source": [
    "### La classe Manual\n",
    "La classe ``Manual`` est un type de livre car elle hérite de la classe ``Book``. Un manuel est définit par un modèle avec l'attribut ``model``. "
   ]
  },
  {
   "cell_type": "markdown",
   "metadata": {},
   "source": [
    "Voici le code pour la classe ``Manual`` :"
   ]
  },
  {
   "cell_type": "code",
   "execution_count": 78,
   "metadata": {},
   "outputs": [],
   "source": [
    "class Manual(Book):\n",
    "    def __init__(self, name, pages, model):\n",
    "        Book.__init__(self, name, pages)\n",
    "        self.model = model\n",
    "        \n",
    "    def __str__(self):\n",
    "        return f'{self.name} is a manual of {self.pages} pages for the model {self.model}'\n",
    "        "
   ]
  },
  {
   "cell_type": "markdown",
   "metadata": {},
   "source": [
    "Nous pouvons instancier la classe :"
   ]
  },
  {
   "cell_type": "code",
   "execution_count": 78,
   "metadata": {},
   "outputs": [
    {
     "name": "stdout",
     "output_type": "stream",
     "text": [
      "<class '__main__.Manual'>\n",
      "Mercedes car manual is a manual of 50 pages for the model Class A\n",
      "This manual has 50 pages\n",
      "\n"
     ]
    }
   ],
   "source": [
    "manual = Manual(\"Mercedes car manual\", 50, \"Class A\") \n",
    "print(type(manual))\n",
    "print(manual)\n",
    "print(f'This manual has {manual.get_pages()} pages\\r\\n')"
   ]
  },
  {
   "cell_type": "markdown",
   "metadata": {},
   "source": [
    "Nous voyons ici bien que le type de l'objet est ``Manual`` et qu'il hérite de la méthode ``get_pages()`` qui se trouve dans la classe parent. "
   ]
  },
  {
   "cell_type": "markdown",
   "metadata": {},
   "source": [
    "#### Exercice\n",
    "Vous devez maintenant pratiquer l'héritage. Pour se faire, veuillez suivre les consignes suivantes : \n",
    "\n",
    "* Créer une classe parent ``Animal``\n",
    "    * Elle possède un attribut ``name``\n",
    "* Créer une classe ``Cat`` qui hérite de la classe ``Animal``\n",
    "    * Un chat possède un attribut ``sleep`` qui définit si le chat dort ou pas\n",
    "    * Il possède la méthode ``set_sleep()`` qui changel'état de sommeil du chat\n",
    "* Créer une classe ``Dog`` qui hérite de la classe ``Animal``   \n",
    "    * Un chien possède un attribut ``food_per_day`` qui est la quantité de nourritude qu'il peut manger par jour\n",
    "    * Il possède la méthode ``set_food(kg)`` qui permet de définir la quantité de nourriture qu'il peut manger par jour\n",
    "    * Un chien ne peut manger que entre 0 et 5 (inclut) kg de nourriture par jour \n",
    "* Toutes les classes affichent la méthode spéciale ``__str__()`` pour afficher leur état"
   ]
  },
  {
   "cell_type": "code",
   "execution_count": 93,
   "metadata": {},
   "outputs": [],
   "source": [
    "class Animal:\n",
    "    pass"
   ]
  },
  {
   "cell_type": "code",
   "execution_count": 93,
   "metadata": {},
   "outputs": [],
   "source": [
    "class Cat(Animal):\n",
    "    pass"
   ]
  },
  {
   "cell_type": "code",
   "execution_count": 93,
   "metadata": {},
   "outputs": [],
   "source": [
    "class Dog(Animal):\n",
    "    pass"
   ]
  },
  {
   "cell_type": "code",
   "execution_count": 93,
   "metadata": {},
   "outputs": [
    {
     "name": "stdout",
     "output_type": "stream",
     "text": [
      "<class '__main__.Cat'>\n",
      "The cat's name is TRex and it is sleeping\n",
      "<class '__main__.Dog'>\n",
      "The dog's name is Pixel and it eats 5 kg of food per day\n"
     ]
    }
   ],
   "source": [
    "#cat = Cat(\"TRex\", True)\n",
    "#cat.set_sleep()\n",
    "#print(type(cat))\n",
    "#print(cat)\n",
    "\n",
    "#dog = Dog(\"Pixel\", 3)\n",
    "#dog.set_food(10)\n",
    "#print(type(dog))\n",
    "#print(dog)"
   ]
  },
  {
   "cell_type": "markdown",
   "metadata": {},
   "source": [
    "## Redéfinition de méthodes\n",
    "Une sous classe hérite des attributs et méthodes de la classe parent. \n",
    "\n",
    "Ainsi si une classe ``Cat`` hérite d'une classe ``Animal`` et que la classe ``Animal`` possède une méthode ``faire_du_bruit()`` par exemple alors la classe ``Cat`` aura accès à la méthode ``faire_du bruit()``. "
   ]
  },
  {
   "cell_type": "markdown",
   "metadata": {},
   "source": [
    "Par défaut, quand on appelle une méthode sur une instance de classe, python va déjà regarder si la méthode existe dans la classe actuelle et si elle n'existe pas, il va remonter vers chacun des parents pour voir si elle existe. \n",
    "\n",
    "Ainsi imaginons que si dans notre classe enfant, on appelle la méthode ``afficher()`` qui n'existe pas, alors il va chercher dans les classes parents si la méthode ``afficher()`` existe."
   ]
  },
  {
   "cell_type": "markdown",
   "metadata": {},
   "source": [
    "Quand on hérite d'une méthode d'une classe parent, le comportement de la méthode héritée ne correspond pas toujours à ce que l'on veut. \n",
    "\n",
    "Il est possible de redéfinir une méthode héritée si le comportement de la méthode de la classe parent ne nous convient pas. Pour cela il suffit de redéfinir la méthode dans la classe enfant."
   ]
  },
  {
   "cell_type": "markdown",
   "metadata": {},
   "source": [
    "### La classe Animal\n",
    "Elle est composée de la manière suivante :\n",
    "* Elle possède un attribut ```name`` qui est son nom\n",
    "* Elle possède une méthode ``make_noise`` qui est générique. En effet, tous les animaux font des bruits différents\n",
    "* Elle possède une méthode ``eat`` qui est propre à chaque animal"
   ]
  },
  {
   "cell_type": "code",
   "execution_count": 95,
   "metadata": {},
   "outputs": [],
   "source": [
    "class Animal:\n",
    "    def __init__(self, name):\n",
    "        self.name = name\n",
    "        \n",
    "    def make_noise(self):\n",
    "        return \"The animal makes some noise\"\n",
    "    \n",
    "    def eat(self):\n",
    "        return \"The animal eats\"\n",
    "    "
   ]
  },
  {
   "cell_type": "markdown",
   "metadata": {},
   "source": [
    "Nous pouvons instancier un animal :"
   ]
  },
  {
   "cell_type": "code",
   "execution_count": 97,
   "metadata": {},
   "outputs": [
    {
     "name": "stdout",
     "output_type": "stream",
     "text": [
      "The animal makes some noise\n",
      "The animal eats\n"
     ]
    }
   ],
   "source": [
    "# create an animal\n",
    "animal = Animal('Peter')\n",
    "# make some noise\n",
    "#print(animal.?)\n",
    "# eat\n",
    "#print(animal.?)"
   ]
  },
  {
   "cell_type": "markdown",
   "metadata": {},
   "source": [
    "### La class Dog\n",
    "Pour redéfinir une méthode de la classe parent dans la classe enfant, il suffit juste de créer un méthode avec le même nom dans la classe enfant. \n",
    "\n",
    "Par exemple ``def make_noise(self):`` dans la classe ``Dog`` va redéfinir la méthode ``make_noise`` héritée de la classe ``Animal``."
   ]
  },
  {
   "cell_type": "markdown",
   "metadata": {},
   "source": [
    "L'intérêt de redéfinir une méthode vient que si le comportement de la méthode héritée ne nous convient pas, nous pouvons définir un nouveau comportement en le redéfinissant."
   ]
  },
  {
   "cell_type": "markdown",
   "metadata": {},
   "source": [
    "Un chien a la méthode ``drink()`` car les chiens boivent. "
   ]
  },
  {
   "cell_type": "code",
   "execution_count": 100,
   "metadata": {},
   "outputs": [],
   "source": [
    "class Dog(Animal):\n",
    "    def __init__(self, name):\n",
    "        Animal.__init__(self, name)\n",
    "    \n",
    "    def make_noise(self):\n",
    "        return \"The dog barks very loudly\"\n",
    "    \n",
    "    def drink(self):\n",
    "        return \"The dog drinks\"\n",
    "    "
   ]
  },
  {
   "cell_type": "markdown",
   "metadata": {},
   "source": [
    "On peut instancier la classe ``Dog`` :"
   ]
  },
  {
   "cell_type": "code",
   "execution_count": 3,
   "metadata": {},
   "outputs": [],
   "source": [
    "# create a dog\n",
    "dog = Dog(\"Pixel\")\n",
    "\n",
    "# make some noise\n",
    "#print(\"#1 \" + dog.?)\n",
    "# eat\n",
    "#print(\"#2 \" + dog.?\n",
    "# drink\n",
    "#print(\"#3 \" + dog.?)\n",
    "    "
   ]
  },
  {
   "cell_type": "markdown",
   "metadata": {},
   "source": [
    "Dans l'exemple ci-dessus, la classe dog hérite de tous les attributs de la classe parent, puis redéfinit la méthode ``make_noise()`` et créé la méthode drink."
   ]
  },
  {
   "cell_type": "markdown",
   "metadata": {},
   "source": [
    "Dans le terminal on peut voir très clairement que :\n",
    "1. la méthode ``make_noise()`` est la méthode de la classe ``Dog`` qui redéfinit celle de la classe parent\n",
    "1. la méthode ``eat()`` est héritée de la classe ``Animal``\n",
    "1. la méthode ``drink()`` est définie dans la classe ``Dog``\n",
    "\n",
    "Ainsi nous avons un exemple de méthode **héritée**, un exemple de méthode **re-définie** et un exemple de méthode **définie**."
   ]
  },
  {
   "cell_type": "markdown",
   "metadata": {},
   "source": [
    "### Exercice\n",
    "Dans cette exercice, vous allez pratiquer la redéfinition de méthodes héritées. \n",
    "\n",
    "Vous devez créer les classes suivantes:\n",
    "* La classe ``Square`` qui représente un carré\n",
    "    * elle a un attribut ``x`` qui corresopnd à un des côté\n",
    "    * elle a la méthode ``surface`` qui retourne la surface du carré\n",
    "* La classe ``Rectangle`` qui représente un rectangle et qui hérite de la classe ``Square``\n",
    "    * elle a un attribut ``y`` qui correspond a un côté du rectangle\n",
    "    * elle a la méthode  ``surface`` qui retourne la surface du rectangle\n",
    "\n",
    "Vous devez tester dans le terminal le bon fonctionnement des carrés et rectangles ainsi que leur surface."
   ]
  },
  {
   "cell_type": "code",
   "execution_count": 107,
   "metadata": {},
   "outputs": [
    {
     "name": "stdout",
     "output_type": "stream",
     "text": [
      "16\n",
      "8\n"
     ]
    }
   ],
   "source": [
    "class Square:\n",
    "    pass\n",
    "    \n",
    "class Rectangle(Square):\n",
    "    pass\n",
    "\n",
    "# we create a square\n",
    "#square = Square(4)\n",
    "#print(square.surface())\n",
    "\n",
    "# we create a rectangle\n",
    "#rectangle = Rectangle(4, 2)\n",
    "#print(rectangle.surface())"
   ]
  },
  {
   "cell_type": "markdown",
   "metadata": {},
   "source": [
    "## Héritage multiple\n",
    "En python, une classe peut avoir plusieurs classe parents. Si elle hérite de plusieurs classes parent alors la classe enfant fait de l'héritage multiple. \n",
    "\n",
    "Pour le faire, il suffit de mettre toutes les classes parents en paramètres du mot clé **class**. \n",
    "\n",
    "Voici un exemple de patisserie fusion newyorkaise qui est le cronut :"
   ]
  },
  {
   "cell_type": "markdown",
   "metadata": {},
   "source": [
    "### La classe Donut\n",
    "Un donut est une patisserie américaine qui a un nom ``name`` et un glacage ``glazing``.\n"
   ]
  },
  {
   "cell_type": "code",
   "execution_count": 112,
   "metadata": {},
   "outputs": [],
   "source": [
    "class Donut:\n",
    "    def __init__(self, name, glazing):\n",
    "        self.name     = name\n",
    "        self.glazing  = glazing\n",
    "        \n",
    "    def __str__(self):\n",
    "        return f'This donut\\'s name is {self.name} with {self.glazing} glazing'"
   ]
  },
  {
   "cell_type": "markdown",
   "metadata": {},
   "source": [
    "On peut l'instancier pour avoir un donut au chocolat :"
   ]
  },
  {
   "cell_type": "code",
   "execution_count": 113,
   "metadata": {},
   "outputs": [
    {
     "name": "stdout",
     "output_type": "stream",
     "text": [
      "This donut's name is The big chocky with chocolate glazing\n"
     ]
    }
   ],
   "source": [
    "donut = Donut('The big chocky', 'chocolate')\n",
    "print(donut)"
   ]
  },
  {
   "cell_type": "markdown",
   "metadata": {},
   "source": [
    "### La classe Croissant\n",
    "Le croissant est une patisserie autrichienne (à la base) qui a un nom ``name`` et un type de beurre ``butter``."
   ]
  },
  {
   "cell_type": "code",
   "execution_count": 117,
   "metadata": {},
   "outputs": [],
   "source": [
    "class Croissant:\n",
    "    def __init__(self, name, butter):\n",
    "        self.name   = name\n",
    "        self.butter = butter\n",
    "    \n",
    "    def __str__(self):\n",
    "        return f'This croissant\\'s name is {self.name} with {self.butter}'"
   ]
  },
  {
   "cell_type": "code",
   "execution_count": 118,
   "metadata": {},
   "outputs": [
    {
     "name": "stdout",
     "output_type": "stream",
     "text": [
      "This croissant's name is The frenchie with Salty butter\n"
     ]
    }
   ],
   "source": [
    "croissant = Croissant('The frenchie', 'Salty butter')\n",
    "print(croissant)"
   ]
  },
  {
   "cell_type": "markdown",
   "metadata": {},
   "source": [
    "### La classe Cronut\n",
    "La classe ``Cronut`` est une fusion entre le donut et le croissant. Il va hériter des classes ``Donut`` et ``Croissant``. La classe ``Cronut`` a aussi l'attribut ``filling`` qui correspond au \n",
    "type de crème qui remplit l'intédieur du cronut. \n",
    "\n",
    "Pour hériter de plusieurs classes, il suffit de les lister après le nom de la classe en les séparant par une virgule.\n",
    "\n",
    "Puis dans le constructeur de la classe ``Cronut``, il est nécessaire d'appeler les constructeurs des deux classes pour les initialiser. "
   ]
  },
  {
   "cell_type": "code",
   "execution_count": 123,
   "metadata": {},
   "outputs": [
    {
     "name": "stdout",
     "output_type": "stream",
     "text": [
      "The Big Tasky cronut has a chocole/caramel with salty butter butter and is filled with Valilla cream\n"
     ]
    }
   ],
   "source": [
    "class Cronut(Donut, Croissant):\n",
    "    def __init__(self, name, glazing, butter, filling):\n",
    "        Donut.__init__(self, name, glazing)\n",
    "        Croissant.__init__(self, name, butter)\n",
    "        self.filling = filling\n",
    "    \n",
    "    def __str__(self):\n",
    "        return f'{self.name} cronut has a {self.glazing} with {self.butter} butter and is filled with {self.filling}'\n",
    "\n",
    "cronut = Cronut(\"The Big Tasky\", \"chocole/caramel\", \"salty butter\", 'Valilla cream')\n",
    "print(cronut)"
   ]
  },
  {
   "cell_type": "markdown",
   "metadata": {},
   "source": [
    "Comme nous pouvons le voir dans l'exemple ci-dessus, la classe ``Cronut`` hérite des classes ``Croissant`` et ``Donut``. Les cronuts sont des patisseries inventées aux USA et comme son nom l'indique, c'est un mélange entre un donut et un croissant. "
   ]
  },
  {
   "cell_type": "markdown",
   "metadata": {},
   "source": [
    "Nous pouvons voir qu'il est nécessaire dans le constructeur de la classe ``Cronut`` d'appeler les constructeurs des deux autres classes. Si dans les deux classes parent nous avons les mêmes attributs, alors c'est l'attribut qui a été défint en dernier qui va être pris en compte."
   ]
  },
  {
   "cell_type": "markdown",
   "metadata": {},
   "source": [
    "### Exercice\n",
    "Vous allez pratiquer l'héritage multiple dans cet exercice. Vous devez :\n",
    "* Créer la classe ``Sword`` qui représente une épée\n",
    "    * Une épée a un attribut ``length`` qui représente la longueur de l'épeé\n",
    "    * Une épée a une méthode ``attack()`` qui affiche **I attack with my sword** dans le terminal\n",
    "* Créer la classe ``Shield`` qui représente un bouclier\n",
    "    * Un boulier a un attribut ``material`` qui représente la composition du bouclier (bois, acier, fer, bronze...)\n",
    "    * Un bouclier a une méthode ``defend()`` qui affiche **I defend from an attack with my shield** au terminal\n",
    "* Créer la classe ``Soldier`` qui est un soldat qui hérite de ``Sword`` et ``Shield``\n",
    "    * Un soldat a l'attribut ``name``\n",
    "    * Un soldat a la méthode ``fight()`` qui affiche **I am ready to fight with my {length} sword and {material} shield !**\n",
    "    * Un soldat a la méthode ``retreat()`` qui affiche **I am not ready and leaving this fight!**\n",
    "    \n",
    "Vous devez créer un soldat et tester les différentes méthodes dans le terminal."
   ]
  },
  {
   "cell_type": "code",
   "execution_count": 138,
   "metadata": {},
   "outputs": [],
   "source": [
    "class Sword:\n",
    "    pass\n",
    "        "
   ]
  },
  {
   "cell_type": "code",
   "execution_count": 138,
   "metadata": {},
   "outputs": [],
   "source": [
    "class Shield:\n",
    "    pass"
   ]
  },
  {
   "cell_type": "code",
   "execution_count": 138,
   "metadata": {},
   "outputs": [],
   "source": [
    "class Soldier(Sword, Shield):\n",
    "    pass        "
   ]
  },
  {
   "cell_type": "code",
   "execution_count": 138,
   "metadata": {},
   "outputs": [
    {
     "name": "stdout",
     "output_type": "stream",
     "text": [
      "I am ready to fight with my 80 sword and Iron shield\n",
      "I attack with my sword !\n",
      "I attack with my sword !\n",
      "I defend from an attack with my shield\n",
      "I am not ready and leaving this fight !\n"
     ]
    }
   ],
   "source": [
    "#soldier = Soldier('Luther', 80, 'Iron')\n",
    "#soldier.fight()\n",
    "#soldier.attack()\n",
    "#soldier.attack()\n",
    "#soldier.defend()\n",
    "#soldier.retreat()"
   ]
  },
  {
   "cell_type": "markdown",
   "metadata": {},
   "source": [
    "## Classes abstraites\n",
    "Les classes abstraites sont des classes **qu'on ne peut pas instancier**."
   ]
  },
  {
   "cell_type": "markdown",
   "metadata": {},
   "source": [
    "Dans une hiérarchie d'héritage, les classes parents sont plus générales que les classes enfants. On dit aussi qu'elles sont plus abstraites qu'elles. Souvent, les classes qui sont au sommet de la hiérarchie ne correspondent pas à des objets qui existeront dans le programme mais permettent de regrouper différents objets du programme sous un protocole commun."
   ]
  },
  {
   "cell_type": "markdown",
   "metadata": {},
   "source": [
    "Pour illustrer ça, prenons l'exemple de la classe ``Animal``. C'est une classe qui contient des attributs communes avec des classes enfants tels que ``Dog`` et ``Cat`` par exemple.\n",
    "\n",
    "Toutefois, la classe ``Animal`` en tant que telle ne peut pas être instancié car un animal est obligatoirement un animal spécifique. On ne peut pas instancier la classe ``Animal`` car cela ne fait pas de sens."
   ]
  },
  {
   "cell_type": "markdown",
   "metadata": {},
   "source": [
    "Il est possible d'empêcher l'instanciation de la classe ``Animal`` en la rendant **abstraite**. Une fois une classe devenue **abstraite**, on ne peut pas l'instancier mais on peut hériter de ses attributs et de ses méthodes."
   ]
  },
  {
   "cell_type": "markdown",
   "metadata": {},
   "source": [
    "### La classe Animal\n",
    "Nous allons reprendre l'exemple de la classe ``Animal``. Tous les animaux ont les attributs ``eat`` et ``drink`` car ils boivent et mangent tous. \n",
    "\n",
    "Il faut d'abord importer les fonctions nous permettant de rendre des classes et méthodes abstraite avec le code ``from abc import ABC, abstractmethod\n",
    "``.\n",
    "\n",
    "Pour rendre une classe **abstraite** il est nécessaire de la faire hériter de  la classe ``ABc``.\n",
    "\n",
    "Pour rendre une méthode **abstraite** il est nécessaire de mettre le **décorateur** ``@abstractmethod`` avant la définition de la méthode."
   ]
  },
  {
   "cell_type": "code",
   "execution_count": 140,
   "metadata": {},
   "outputs": [],
   "source": [
    "from abc import ABC, abstractmethod\n",
    "\n",
    "class Animal(ABC):\n",
    "    @abstractmethod\n",
    "    def eat(self):\n",
    "        print('An animal eats')\n",
    "        \n",
    "    @abstractmethod\n",
    "    def drink(self):\n",
    "        print('An animal drinks')"
   ]
  },
  {
   "cell_type": "markdown",
   "metadata": {},
   "source": [
    "Puis nous pouvons essayer de l'instancier :"
   ]
  },
  {
   "cell_type": "code",
   "execution_count": 4,
   "metadata": {},
   "outputs": [],
   "source": [
    "animal = ?"
   ]
  },
  {
   "cell_type": "markdown",
   "metadata": {},
   "source": [
    "Nous pouvons voir ci-dessus qu'il n'est pas possible d'instancier une classe **abstraite**. En effet, cela ne fait pas de sens d'instancier un animal car c'est une classe beaucoup trop générale. "
   ]
  },
  {
   "cell_type": "markdown",
   "metadata": {},
   "source": [
    "### La classe Dog\n",
    "Puis nous avons la classe ``Dog`` qui hérite de la classe ``Animal``."
   ]
  },
  {
   "cell_type": "code",
   "execution_count": 142,
   "metadata": {},
   "outputs": [],
   "source": [
    "class Dog(Animal):\n",
    "    def __init__(self):\n",
    "        pass"
   ]
  },
  {
   "cell_type": "markdown",
   "metadata": {},
   "source": [
    "Maintenant essayons d'instancier la classe ``Dog`` :"
   ]
  },
  {
   "cell_type": "code",
   "execution_count": 5,
   "metadata": {},
   "outputs": [],
   "source": [
    "dog = ?"
   ]
  },
  {
   "cell_type": "markdown",
   "metadata": {},
   "source": [
    "Comme nous pouvons le voir, il n'est pas possible d'instancier la classe ``Dog`` dans l'état actuel. En effet, quand nous héritons d'une classe abstraite avec des méthodes abstraites, il est nécessaire de **redéfinir les méthodes abstraites héritées**."
   ]
  },
  {
   "cell_type": "markdown",
   "metadata": {},
   "source": [
    "Voici donc la classe ``Dog`` avec les méthodes héritées redéfinies :"
   ]
  },
  {
   "cell_type": "code",
   "execution_count": 144,
   "metadata": {},
   "outputs": [],
   "source": [
    "class Dog(Animal):\n",
    "    def __init__(self):\n",
    "        pass\n",
    "    \n",
    "    def eat(self):\n",
    "        print('A dog eats meat')\n",
    "        \n",
    "    def drink(self):\n",
    "        print('A dig drinks meat')"
   ]
  },
  {
   "cell_type": "markdown",
   "metadata": {},
   "source": [
    "Nous pouvons maintenant instancier la classe ``Dog``."
   ]
  },
  {
   "cell_type": "code",
   "execution_count": 146,
   "metadata": {},
   "outputs": [
    {
     "name": "stdout",
     "output_type": "stream",
     "text": [
      "A dog eats meat\n",
      "A dig drinks meat\n"
     ]
    }
   ],
   "source": [
    "#dog = ?\n",
    "#dog.eat()\n",
    "#dog.drink()"
   ]
  },
  {
   "cell_type": "markdown",
   "metadata": {},
   "source": [
    "Nous voyons ici qu'une class abstraite qui a été héritée, doit voir ses méthodes abstraites redéfinie pour pourvoir être instanciées."
   ]
  },
  {
   "cell_type": "markdown",
   "metadata": {},
   "source": [
    "## Polymorphisme\n",
    "En informatique le polymorphisme est le concept qui consiste à fournir une interface unique à des entités pouvant avoir différents types.  \n",
    "\n",
    "L'intérêt du polymorphisme est de proposer les mêmes méthodes à toutes les classes de notre hiérarchie. Nous proposons une interface unique peu importe la classe. Ainsi nous pouvons avoir plusieurs implémentation différentes pour la même interface.\n",
    "\n",
    "**Dans le polymorphisme, l'interface reste la même pour toutes les classes de notre hiérarchie mais l'implémentation change**.\n",
    "\n",
    "Un principe important en programmation orientée objet est le principe d'**ouvert-fermé**. Les classes restent ouvertes à l'extension (on peut ajouter autant d'animaux à la classe ``Animal`` qu'on veut et on modifie leurs comportements) mais fermé à la modification (aucune autre partie ne change)."
   ]
  },
  {
   "cell_type": "markdown",
   "metadata": {},
   "source": [
    "### Exercice\n",
    "Nous allons aborder le polymorphisme avec un exemple pratique. \n",
    "\n",
    "Nous devez :\n",
    "* Créer une classe abstraite ``Vehicule``\n",
    "    * Elle possède des attributs ``brand`` et ``model``\n",
    "    * Cette classe doit avoir les méthodes abstraites ``stop``, ``forward``, ``turn_left``, ``turn_right``\n",
    "* Créer une classe ``Car`` qui hérite de ``Vehicule``\n",
    "    * Réimplémenter les méthodes et afficher des messages personnalisés pour la voiture\n",
    "* Créer une classe ``Bike`` qui hérite de ``Vehiculè``\n",
    "    * Réimplémenter les méthodes et afficher des messages personnalisés pour la moto\n",
    "    \n",
    "Vous devez ensuite créer une instance de voiture et une instance de moto et afficher les différentes valeurs dans le terminal."
   ]
  },
  {
   "cell_type": "code",
   "execution_count": 152,
   "metadata": {},
   "outputs": [],
   "source": [
    "from abc import ABC, abstractmethod\n",
    "\n",
    "class Vehicule:\n",
    "    pass"
   ]
  },
  {
   "cell_type": "code",
   "execution_count": 152,
   "metadata": {},
   "outputs": [],
   "source": [
    "class Car:\n",
    "    pass"
   ]
  },
  {
   "cell_type": "code",
   "execution_count": 152,
   "metadata": {},
   "outputs": [],
   "source": [
    "class Bike:\n",
    "    pass\n",
    "    "
   ]
  },
  {
   "cell_type": "code",
   "execution_count": 152,
   "metadata": {},
   "outputs": [
    {
     "name": "stdout",
     "output_type": "stream",
     "text": [
      "The car turns left\n",
      "The car turns right\n",
      "The car goes forward\n",
      "The car stops\n",
      "The bike turns left\n",
      "The bike turns right\n",
      "The bike goes forward\n",
      "The bike stops\n"
     ]
    }
   ],
   "source": [
    "# we create a car and test the methods\n",
    "car = Car('Mercedes', 'Class A')\n",
    "car.turn_left()\n",
    "car.turn_right()\n",
    "car.forward()\n",
    "car.stop()\n",
    "\n",
    "# we create a bike and test the methods\n",
    "bike = Bike('Honda', 'CB1000')\n",
    "bike.turn_left()\n",
    "bike.turn_right()\n",
    "bike.forward()\n",
    "bike.stop()"
   ]
  },
  {
   "cell_type": "markdown",
   "metadata": {},
   "source": [
    "Nous pouvons voir dans l'exemple ci-dessus que nous avons deux classes qui sont ``Bike`` et ``Car``. Ces classes sont très différentes mais ont les mêmes méthodes qui ont été héritées de la classe ``Vehicule``.\n",
    "\n",
    "Le fait d'hériter de cette classe permet aux deux véhicules qui sont très différent d'avoir des méthodes communes. C'est ce qu'on appelle le **polymorphisme**. L'interface est commune, mais l'implémentation est différente.\n",
    "\n",
    "Cela permet à l'utilisateur de la classe de ne pas avoir à se soucier de l'implémentation. En effet, peu importe le véhicule, on aura toujours les méthodes ``stop``, ``forward``, ``turn_left``, ``turn_right``."
   ]
  },
  {
   "cell_type": "markdown",
   "metadata": {},
   "source": [
    "## A retenir\n",
    "* Une classe peut être composée d'autres classes. Il suffit pour cela de la doter d'attributs d'un type défini par une autre classe. Les objets de la classe composée interagissent avec les objets qui le composent en leur appliquant leurs méthodes.\n",
    "* Une classe peut hériter d'une autre classe. Elle hérite des attributs et des méthodes. Elle peut aussi définir certaine méthode de la classe dont elle hérite et définir de nouveaux attributs.\n",
    "* L'héritage permet le polymorphisme. C'est à dire qu'un même appel de méthode peut produire des comportements différents."
   ]
  },
  {
   "cell_type": "markdown",
   "metadata": {},
   "source": [
    "## Références\n",
    "\n",
    "1. [1] Informatique INF, DUNOD 2017, ISBN 978-2-10-076094\n",
    "1. [2] https://encrypted-tbn0.gstatic.com/images?q=tbn:ANd9GcQBnZC6XF_ZL4x-0soBBRAGxOQhnaqecIQJQTJsWeZBSloNFJA&s"
   ]
  },
  {
   "cell_type": "code",
   "execution_count": null,
   "metadata": {},
   "outputs": [],
   "source": []
  }
 ],
 "metadata": {
  "kernelspec": {
   "display_name": "Python 3",
   "language": "python",
   "name": "python3"
  },
  "language_info": {
   "codemirror_mode": {
    "name": "ipython",
    "version": 3
   },
   "file_extension": ".py",
   "mimetype": "text/x-python",
   "name": "python",
   "nbconvert_exporter": "python",
   "pygments_lexer": "ipython3",
   "version": "3.7.9"
  }
 },
 "nbformat": 4,
 "nbformat_minor": 4
}
