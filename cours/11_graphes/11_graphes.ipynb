{
 "cells": [
  {
   "cell_type": "markdown",
   "metadata": {
    "id": "R4-KZdIi2czT"
   },
   "source": [
    "# Algorithmique de graphes\n",
    "\n",
    "![](tokyo-metro.png)"
   ]
  },
  {
   "cell_type": "markdown",
   "metadata": {
    "id": "L0v8NZoU2miu"
   },
   "source": [
    "## Objectif du chapitre\n",
    "\n",
    "* Illustration des **structures de données** (listes, tableaux, piles, files) via la représentation d'un graphe en machine\n",
    "* Montrer comment le modèle mathématique graphe peut être utilisé pour **modéliser des réseaux**\n",
    "* Codage en Python des **algorithmes** présentés\n",
    "* Connaître les différents **algorithmes de parcours**\n",
    "* Savoir dérouler les algorithmes présentés sur des instances de graphes\n",
    "* Reformuler un problème concret en utilisant un graphe, proposer une solution algorithmique en s'appuyant sur ce graphe et interpréter les résultats\n"
   ]
  },
  {
   "cell_type": "markdown",
   "metadata": {
    "id": "hPYQrSHo4umh"
   },
   "source": [
    "## Modélisation par les graphes"
   ]
  },
  {
   "cell_type": "markdown",
   "metadata": {
    "id": "ZZt6NxeE3dxr"
   },
   "source": [
    "### Introduction\n",
    "Quel est le plus court itinéraire pour se rendre d'une station A à une station B ?\n",
    "\n",
    "Vous pouvez bien sûr vous fier à votre intuition mais il existe aussi des méthodes plus rigoureuses comme le modèle des graphes par exemple.\n",
    "\n",
    "En informatique, les graphes sont des modèles qui permettent de structurer les données. Ils peuvent par exemple être utilisés pour représenter un réseau social. \n",
    "\n",
    "Dans ce ce chapitre, nous allons dans un premier temps définir les graphes, puis nous introduirons les façons de représenter ce modèle en machine. Nous présenterons ensuite deux algorithmes qui permettent de les parcourir. L'un **en profondeur, l'autre en largeur**. Nous montrerons comment ces stratégies de parcours permettent de déduire des propriétés structurelles du graphe sur lequel elles sont exécutées. Enfin, nous appliquerons les notions étudiées à un problème concret modélisé par un graphe sous forme d'un système à état. "
   ]
  },
  {
   "cell_type": "markdown",
   "metadata": {
    "id": "kJNpICPf5Sod"
   },
   "source": [
    "### Que peuvent modéliser les graphes ?\n",
    "Un graphe peut servir à modéliser un nombre de réseaux réels. Citons quelques familles de réseaux classiquement représentés par les graphes :\n",
    "* Les **réseaux de transport** (par exemple routiers, maritimes, ferroviaires) dans lesquels les sommets sont des arrêts ou escales (station, gare, ville, port...) et les arcs représentent les liaisons de transports. \n",
    "* Les **réseaux sociaux** dans lesquels les sommets correspondent à des personnes et les arcs à des relations d'amitié.\n",
    "* Les **réseaux informatique** pour lesquels les sommets sont les équipements (ordinateurs, routeur, commutateur) et les arcs traduisent l'existence d'une connexion.\n",
    "* Les **systèmes à état** dans lesquels chaque sommet est un état du système et chaque arc représente une transition possible entre deux états du système. "
   ]
  },
  {
   "cell_type": "markdown",
   "metadata": {
    "id": "tF0QWrl44nmO"
   },
   "source": [
    "### Définition d'un graphe\n",
    "Il existe deux types de graphes : Les graphes **orientés** et les graphes **non orientés**."
   ]
  },
  {
   "cell_type": "markdown",
   "metadata": {
    "id": "ZTov2YoE7meC"
   },
   "source": [
    "#### Graphe orienté \n",
    "Un graphe orienté noté $G = (X, U)$ est défini par un ensemble de **sommets** $X$ et un ensemble d'**arcs** $U$ dont les éléments sont des **couples de sommets**.  \n",
    "\n",
    "Un graphe orienté possède les propriétés suivantes :\n",
    "* le sommet $x_{i}$ est **l'extrémité initiale** de l'arc $u$\n",
    "* le sommet $x_{j}$ est **l'extrémité terminale** de l'arc $u$\n",
    "* $x_{j}$ est appelé le successeur de $x_{i}$\n",
    "* $x_{i}$ est le précédesseur de $x_{j}$\n",
    "* $|X|$ est le nombre de sommets de $G$\n",
    "* $|U|$ est le nombre d'arcs de $G$\n",
    "* $\\Gamma^{+}({x_{i}})$ sont les successeurs de $x_{i}$ et $\\Gamma^{-}({x_{i}})$ sont les précédesseurs de $x_{i}$"
   ]
  },
  {
   "cell_type": "markdown",
   "metadata": {
    "id": "-Tpb3R5GAVEt"
   },
   "source": [
    "#### Graphe non orienté\n",
    "Un graphe non orienté noté $G' = (X, E)$ est défini par un ensemble de **sommets** $X$ et un ensemble d'**arêtes** $E$ dont les éléments sont des **pairs de sommets**.\n",
    "\n",
    "Un graphe non orienté possède les propriétés suivantes : \n",
    "* Si il y a une arête entre $x_{i}$ et $x_{j}$ alors ont dit que le sommet $x_{i}$ est **adjacent** au sommet $x_{j}$\n",
    "* Un lien entre les sommets $x_{i}$ et $x_{j}$ s'appelle une arête et est noté $e = \\{x_{i}, x_{j}\\}$ \n",
    "\n"
   ]
  },
  {
   "cell_type": "markdown",
   "metadata": {
    "id": "3frK6-71CmTO"
   },
   "source": [
    "## Représentation des graphes en machine\n",
    "Pour pouvoir être utilisé dans des algorithmes, un graphe doit être représenté par une structure de données. Nous pouvons utiliser diverses structures de données mais les deux structures les plus utilisées sont les **matrices d'adjacence** et les **listes d'incidence**.\n",
    "\n",
    "La graphe suivant : \n",
    "\n",
    "![graph1](11-G2.svg)\n",
    "\n",
    "Est définie par $G=(X,U)$ où les sommets sont $X=\\{A, B, C, D, E, F, G\\}$ et les arcs sont $U=\\{(A, B), (A, D), (B, C), (B, D), (B, G), (E, F), (E, G), (F, A), (F, B), (G, C)\\}$\n",
    "\n",
    "Pour simplifier nous désignons les sommets par des indices commençant à zéro. Ceci est plus rapide et évite de devoir mettre des guillements. Donc voici l'ensemble des sommets **X**."
   ]
  },
  {
   "cell_type": "code",
   "execution_count": 5,
   "metadata": {},
   "outputs": [],
   "source": [
    "X = (0, 1, 2, 3, 4, 5, 6)"
   ]
  },
  {
   "cell_type": "markdown",
   "metadata": {},
   "source": [
    "**Exercice**  \n",
    "Définsissez l'ensemble des arcs **U**"
   ]
  },
  {
   "cell_type": "code",
   "execution_count": 1,
   "metadata": {},
   "outputs": [],
   "source": [
    "U = ((0, 1), (0, 3), (1, 2), (1, 3), (1, 6), (4, 5), (4, 6), (5, 1), (6, 2))"
   ]
  },
  {
   "cell_type": "markdown",
   "metadata": {
    "id": "54yLu5-Lf2TV"
   },
   "source": [
    "### Matrices d'adjacence\n",
    "Nous pouvons premièrement utiliser une matrice d'incidence pour représenter notre graphe en mémoire. Les matrices d'incidence sont particulièrement bien adaptées lorsque les graphes sont denses. \n",
    "\n",
    "Pour se faire, nous allons utiliser les matrices de **numpy**. Chaque ligne de notre matrice représente un sommet de départ et chaque colonne représente un sommet d'arrivée. Nous allons mettre le chiffre 1 dans la case correspondante."
   ]
  },
  {
   "cell_type": "code",
   "execution_count": 1,
   "metadata": {},
   "outputs": [
    {
     "data": {
      "text/plain": [
       "array([[0, 1, 0, 1, 0, 0, 0],\n",
       "       [0, 0, 1, 1, 0, 0, 1],\n",
       "       [0, 0, 0, 0, 0, 0, 0],\n",
       "       [0, 0, 0, 0, 0, 0, 0],\n",
       "       [0, 0, 0, 0, 0, 1, 1],\n",
       "       [0, 1, 0, 0, 0, 0, 0],\n",
       "       [0, 0, 1, 0, 0, 0, 0]])"
      ]
     },
     "execution_count": 1,
     "metadata": {},
     "output_type": "execute_result"
    }
   ],
   "source": [
    "import numpy as np\n",
    "              #0  1  2  3  4  5  6 \n",
    "G = np.array([[0, 1, 0, 1, 0, 0, 0],#0\n",
    "              [0, 0, 1, 1, 0, 0, 1],#1\n",
    "              [0, 0, 0, 0, 0, 0, 0],#2\n",
    "              [0, 0, 0, 0, 0, 0, 0],#3\n",
    "              [0, 0, 0, 0, 0, 1, 1],#4\n",
    "              [0, 1, 0, 0, 0, 0, 0],#5\n",
    "              [0, 0, 1, 0, 0, 0, 0]])#6\n",
    "\n",
    "G"
   ]
  },
  {
   "cell_type": "code",
   "execution_count": 2,
   "metadata": {
    "colab": {
     "base_uri": "https://localhost:8080/",
     "height": 139
    },
    "id": "xIi45WJj7n2d",
    "outputId": "ea990c16-3587-4543-b8e4-6b75ba9aa8dc"
   },
   "outputs": [
    {
     "data": {
      "text/plain": [
       "array([[0, 1, 0, 1, 0, 0, 0],\n",
       "       [0, 0, 1, 1, 0, 0, 1],\n",
       "       [0, 0, 0, 0, 0, 0, 0],\n",
       "       [0, 0, 0, 0, 0, 0, 0],\n",
       "       [0, 0, 0, 0, 0, 1, 1],\n",
       "       [1, 1, 0, 0, 0, 0, 0],\n",
       "       [0, 0, 1, 0, 0, 0, 0]])"
      ]
     },
     "execution_count": 2,
     "metadata": {},
     "output_type": "execute_result"
    }
   ],
   "source": [
    "\n",
    "              #A  B  C  D  E  F  G\n",
    "M = np.array([[0, 1, 0, 1, 0, 0, 0],#A\n",
    "              [0, 0, 1, 1, 0, 0, 1],#B\n",
    "              [0, 0, 0, 0, 0, 0, 0],#C\n",
    "              [0, 0, 0, 0, 0, 0, 0],#D\n",
    "              [0, 0, 0, 0, 0, 1, 1],#E\n",
    "              [1, 1, 0, 0, 0, 0, 0],#F\n",
    "              [0, 0, 1, 0, 0, 0, 0]])#G\n",
    "\n",
    "M"
   ]
  },
  {
   "cell_type": "markdown",
   "metadata": {
    "id": "kV7VoOq1oCBD"
   },
   "source": [
    "### Liste d'incidence\n",
    "Nous pouvons aussi utiliser les listes d'incidence pour représenter les graphes avec des listes. \n",
    "\n",
    "Nous allons utiliser un `dict` avec autant de clés que notre nombre de sommets. A chaque sommet, nous associons la liste de ses successeurs."
   ]
  },
  {
   "cell_type": "code",
   "execution_count": null,
   "metadata": {
    "colab": {
     "base_uri": "https://localhost:8080/",
     "height": 139
    },
    "id": "EoCphbzzo7mh",
    "outputId": "cd788455-9507-4dd8-ecab-bfd5d13f3032"
   },
   "outputs": [
    {
     "data": {
      "text/plain": [
       "{'A': ['B', 'D'],\n",
       " 'B': ['C', 'D'],\n",
       " 'C': [],\n",
       " 'D': [],\n",
       " 'E': ['F', 'G'],\n",
       " 'F': ['A', 'B'],\n",
       " 'G': ['C']}"
      ]
     },
     "execution_count": 63,
     "metadata": {
      "tags": []
     },
     "output_type": "execute_result"
    }
   ],
   "source": [
    "G = {\n",
    "  'A': ['B', 'D'], \n",
    "  'B': ['C', 'D'],\n",
    "  'C': [],\n",
    "  'D': [],\n",
    "  'E': ['F', 'G'],\n",
    "  'F': ['A', 'B'],\n",
    "  'G': ['C']\n",
    "}\n",
    "\n",
    "G"
   ]
  },
  {
   "cell_type": "markdown",
   "metadata": {},
   "source": [
    "**Exercice**\n",
    "\n",
    "![graph1](11-G2.svg)\n",
    "\n",
    "Ecrivez la liste d'incidence en utilisant les indices à partir de 0."
   ]
  },
  {
   "cell_type": "code",
   "execution_count": 3,
   "metadata": {},
   "outputs": [
    {
     "data": {
      "text/plain": [
       "{'0': ['1', '3'],\n",
       " '1': ['2', '3', '6'],\n",
       " '2': [],\n",
       " '3': [],\n",
       " '4': ['5', '6'],\n",
       " '5': ['1'],\n",
       " '6': ['2']}"
      ]
     },
     "execution_count": 3,
     "metadata": {},
     "output_type": "execute_result"
    }
   ],
   "source": [
    "G = {\n",
    "    '0': ['1', '3'],\n",
    "    '1': ['2', '3', '6'],\n",
    "    '2': [],\n",
    "    '3': [],\n",
    "    '4': ['5', '6'],\n",
    "    '5': ['1'],\n",
    "    '6': ['2'],\n",
    "}\n",
    "\n",
    "G"
   ]
  },
  {
   "cell_type": "markdown",
   "metadata": {
    "id": "gMCBjAJ0rd1v"
   },
   "source": [
    "Les listes d'incidences sont généralement les plus utilisées car elles restent simple à manipuler et prennent moins d'espace mémoire pour les graphes de moins grande densité. "
   ]
  },
  {
   "cell_type": "markdown",
   "metadata": {
    "id": "BVtSWNTTsNQ_"
   },
   "source": [
    "## Parcourir un graphe\n",
    "Nous pouvons parcourir un graphe de deux manière. \n",
    "\n",
    "La première est de manière **récursive**. Nous créons une fonction de parcourt qui s'appelle elle-même jusqu'à arriver à la fin du graphe. \n",
    "\n",
    "\n"
   ]
  },
  {
   "cell_type": "markdown",
   "metadata": {
    "id": "I1GLiWY6wecG"
   },
   "source": [
    "La seconde manière est **itérative**. Nous utilisons les **piles** et les **files** afin de créer deux types de parcours de graphe. Nous pouvons ainsi faire des parcours en **largeur** et **profondeur** et nous n'avons pas à nous soucier de problème de mémoire. "
   ]
  },
  {
   "cell_type": "markdown",
   "metadata": {
    "id": "_KHwPC_l6kCM"
   },
   "source": [
    "Nous allons utiliser le graphe suivant pour illustrer nos algorithmes de parcours :\n",
    "\n",
    "![](11-G2.svg)\n",
    "\n",
    "*Illustration: graph2.png*\n",
    "\n",
    "Il est défini par $G=\\{A, B, C, D, E, F\\}$ et $U=\\{(A, B), (A, C), (B, D), (B, E), (E, F), (C, F)\\}$"
   ]
  },
  {
   "cell_type": "markdown",
   "metadata": {
    "id": "WTi09-ZKs4QU"
   },
   "source": [
    "### Recherche en largeur\n",
    "La recherche Breath-first Search (BFS) est un algorithme utilisé pour parcourir les arbres et graphes. BFS peut être facilement implémenté en utilisant la récursivité et les structures de données comme les dictionnaires et les files.\n",
    "\n",
    "L'algorithme se comporte de la manière suivante :\n",
    "1. Créer une liste de sommets visités et une file que nous initialiserons avec un sommet au hasard\n",
    "1. Défiler la liste jusqu'à ce qu'elle soit vide\n",
    "  1. Pour tous les sommets dépilés, visiter chaque successeur\n",
    "  1. Si le successeur n'a pas encore été visité, alors on l'ajoute à la liste des noeuds visités et à la file\n",
    "1. Retourner la liste des sommets visités"
   ]
  },
  {
   "cell_type": "code",
   "execution_count": null,
   "metadata": {
    "id": "zHA8ANfx8Dbh"
   },
   "outputs": [],
   "source": [
    "#graph\n",
    "graph = {\n",
    "  'A' : ['B','C'],\n",
    "  'B' : ['D', 'E'],\n",
    "  'C' : ['F'],\n",
    "  'D' : [],\n",
    "  'E' : ['F'],\n",
    "  'F' : []\n",
    "}"
   ]
  },
  {
   "cell_type": "code",
   "execution_count": null,
   "metadata": {
    "colab": {
     "base_uri": "https://localhost:8080/",
     "height": 35
    },
    "id": "88EGAQDCs0qK",
    "outputId": "9c482678-6d08-425e-9fea-2e7d797a444d"
   },
   "outputs": [
    {
     "name": "stdout",
     "output_type": "stream",
     "text": [
      "['A', 'B', 'C', 'D', 'E', 'F']\n"
     ]
    }
   ],
   "source": [
    "def BFS(graph, start_node):\n",
    "  # Initialisation\n",
    "  visited = [start_node] \n",
    "  queue   = [start_node] \n",
    "  \n",
    "  while len(queue) > 0:\n",
    "    node = queue.pop(0)\n",
    "\n",
    "    for neighbour in graph[node]:\n",
    "      if neighbour not in visited:\n",
    "        visited.append(neighbour)\n",
    "        queue.append(neighbour)\n",
    "\n",
    "  return visited\n",
    "\n",
    "print(BFS(graph, 'A'))"
   ]
  },
  {
   "cell_type": "markdown",
   "metadata": {
    "id": "tM-5765k7uUo"
   },
   "source": [
    "### Recherche en profondeur\n",
    "La recherche Depth-first Search (DFS) est un algorithme utilisé pour parcourir les arbres et graphes. DFS peut être facilement implémenté en utilisant la récursivité et les structures de données comme les dictionnaires et les piles.\n",
    "\n",
    "L'algorithme se comporte de la manière suivante. Il se comporte exactement de la même manière à la seule différence que au lieu d'utiliser une file, on utilise une pile."
   ]
  },
  {
   "cell_type": "code",
   "execution_count": null,
   "metadata": {
    "colab": {
     "base_uri": "https://localhost:8080/",
     "height": 35
    },
    "id": "NaA43NWk7vyo",
    "outputId": "e4cdc284-2837-4bec-dbca-e7cd29ebbc28"
   },
   "outputs": [
    {
     "name": "stdout",
     "output_type": "stream",
     "text": [
      "['A', 'B', 'C', 'F', 'D', 'E']\n"
     ]
    }
   ],
   "source": [
    "def DFS(graph, start_node):\n",
    "  # Initialisation\n",
    "  visited = [start_node] \n",
    "  queue   = [start_node] \n",
    "  \n",
    "  while len(queue) > 0:\n",
    "    node = queue.pop()\n",
    "\n",
    "    for neighbour in graph[node]:\n",
    "      if neighbour not in visited:\n",
    "        visited.append(neighbour)\n",
    "        queue.append(neighbour)\n",
    "\n",
    "  return visited\n",
    "\n",
    "print(DFS(graph, 'A'))"
   ]
  },
  {
   "cell_type": "markdown",
   "metadata": {
    "id": "pQc7wB1gYZrP"
   },
   "source": [
    "### Recherche en profondeur récursif\n",
    "Nous allons maintenant voir la recherche en profondeur de manière récursive en implémentant la méthode `RDFS`: "
   ]
  },
  {
   "cell_type": "code",
   "execution_count": null,
   "metadata": {
    "colab": {
     "base_uri": "https://localhost:8080/",
     "height": 35
    },
    "id": "qLf2dqM_YeaD",
    "outputId": "a3eeda7b-7a8a-4db8-8a24-ec8013e64dac"
   },
   "outputs": [
    {
     "name": "stdout",
     "output_type": "stream",
     "text": [
      "['A', 'B', 'D', 'E', 'F', 'C']\n"
     ]
    }
   ],
   "source": [
    "def RDFS(graph, start_node, visited):\n",
    "  for neighbour in graph[start_node]:\n",
    "    if neighbour not in visited: \n",
    "      visited.append(neighbour)\n",
    "      RDFS(graph, neighbour, visited)\n",
    "\n",
    "\n",
    "visited = ['A']\n",
    "RDFS(graph, visited[0], visited)\n",
    "print(visited)"
   ]
  },
  {
   "cell_type": "markdown",
   "metadata": {
    "id": "_As6VoonZ1iN"
   },
   "source": [
    "Les parcours **récursifs** ne fonctionnent qu'en **profondeur** et peuvent dans le cas de grand graphe arriver à saturer la mémoire dû au changement de contexte.  \n",
    "\n",
    "Le code suivant montre les limites de la récusion du point de vue de la mémoire : "
   ]
  },
  {
   "cell_type": "code",
   "execution_count": null,
   "metadata": {
    "id": "EgJjK49saWfp"
   },
   "outputs": [],
   "source": [
    "# RecursionError\n",
    "def f (n):\n",
    "  print(n)\n",
    "  f(n+1)\n",
    "\n",
    "f(1)"
   ]
  },
  {
   "cell_type": "markdown",
   "metadata": {
    "id": "dJzYo-B58_lo"
   },
   "source": [
    "# Exercices"
   ]
  },
  {
   "cell_type": "markdown",
   "metadata": {
    "id": "0ctMYI6O9CEX"
   },
   "source": [
    "## Exercice 1\n",
    "On vous donne le graph suivant : \n",
    "\n",
    "![graph1](https://static.grosjean.io/bugnon/graph3.png)\n",
    "\n",
    "*Illustration: graph3.png*\n",
    "\n",
    "Vous devez :\n",
    "* Représenter le graph avec une liste\n",
    "* Parcourir et afficher le résultat avec un BFS en commencant par A\n",
    "* Parcourir et afficher le résultat avec un BFS en commancant par A"
   ]
  },
  {
   "cell_type": "code",
   "execution_count": null,
   "metadata": {
    "id": "C6z3Wo6t-M31"
   },
   "outputs": [],
   "source": [
    "# graphe\n",
    "graph = {\n",
    "    'A': ['B', 'C'],\n",
    "    'B': ['D', 'E'],\n",
    "    'C': ['E', 'D'],\n",
    "    'D': ['F'],\n",
    "    'E': ['F'],\n",
    "    'F': [],\n",
    "}"
   ]
  },
  {
   "cell_type": "code",
   "execution_count": null,
   "metadata": {
    "colab": {
     "base_uri": "https://localhost:8080/",
     "height": 35
    },
    "id": "_ULhftna-NFr",
    "outputId": "4ddf0553-8d5d-48e6-eebd-0aaf2a1e7aa6"
   },
   "outputs": [
    {
     "name": "stdout",
     "output_type": "stream",
     "text": [
      "['A', 'B', 'C', 'E', 'D', 'F']\n"
     ]
    }
   ],
   "source": [
    "# DFS\n",
    "print(DFS(graph, 'A'))"
   ]
  },
  {
   "cell_type": "code",
   "execution_count": null,
   "metadata": {
    "colab": {
     "base_uri": "https://localhost:8080/",
     "height": 35
    },
    "id": "GviXYAQT-NNt",
    "outputId": "adadebb4-d69c-401f-9e66-66c5201502ac"
   },
   "outputs": [
    {
     "name": "stdout",
     "output_type": "stream",
     "text": [
      "['A', 'B', 'C', 'D', 'E', 'F']\n"
     ]
    }
   ],
   "source": [
    "# BFS\n",
    "print(BFS(graph, 'A'))"
   ]
  },
  {
   "cell_type": "markdown",
   "metadata": {
    "id": "GC8szxr_AlSm"
   },
   "source": [
    "## Exercice 2\n",
    "Reprenez le graph *graph1.png* qui se trouve au début du document.\n",
    "\n",
    "En parcourant ce graphe, est-ce que à partir de n'importe quel sommet, on arrive à parcourir tout le graphe en entier ?"
   ]
  },
  {
   "cell_type": "code",
   "execution_count": null,
   "metadata": {
    "colab": {
     "base_uri": "https://localhost:8080/",
     "height": 139
    },
    "id": "6ljH2QS89BLx",
    "outputId": "cc9f3262-55f4-407b-b323-98b429b2b778"
   },
   "outputs": [
    {
     "name": "stdout",
     "output_type": "stream",
     "text": [
      "['A', 'B', 'D', 'C']\n",
      "['B', 'C', 'D']\n",
      "['C']\n",
      "['D']\n",
      "['E', 'F', 'G', 'C', 'A', 'B', 'D']\n",
      "['F', 'A', 'B', 'C', 'D']\n",
      "['G', 'C']\n"
     ]
    }
   ],
   "source": [
    "G = {\n",
    "  'A': ['B', 'D'], \n",
    "  'B': ['C', 'D'],\n",
    "  'C': [],\n",
    "  'D': [],\n",
    "  'E': ['F', 'G'],\n",
    "  'F': ['A', 'B'],\n",
    "  'G': ['C']\n",
    "}\n",
    "\n",
    "for node in G.keys():\n",
    "  print(DFS(G, node))"
   ]
  },
  {
   "cell_type": "markdown",
   "metadata": {
    "id": "faw-zxtMBPEx"
   },
   "source": [
    "**Non on n'y arrive pas car selon d'où on part, on ne peut pas parcourir tout le graphe car il est orienté**"
   ]
  },
  {
   "cell_type": "markdown",
   "metadata": {
    "id": "e5MLxldXBkRV"
   },
   "source": [
    "## Exercice 3\n",
    "Reprenez le graph que de l'exercice 2. Transformez le en graphe non orienté et essayez de répondre à la même question que la question précédente. \n",
    "\n",
    "Est-il possible de parcourir tout le graphe en partant de n'importe quel noeud ?"
   ]
  },
  {
   "cell_type": "code",
   "execution_count": null,
   "metadata": {
    "colab": {
     "base_uri": "https://localhost:8080/",
     "height": 139
    },
    "id": "lu2Q-LtKB2fv",
    "outputId": "8ae5ac98-835d-4e7b-b87a-a1f989af0ae0"
   },
   "outputs": [
    {
     "name": "stdout",
     "output_type": "stream",
     "text": [
      "['A', 'B', 'D', 'F', 'E', 'G', 'C']\n",
      "['B', 'A', 'D', 'C', 'G', 'F', 'E']\n",
      "['C', 'B', 'G', 'E', 'F', 'A', 'D']\n",
      "['D', 'A', 'B', 'C', 'G', 'F', 'E']\n",
      "['E', 'F', 'G', 'B', 'C', 'A', 'D']\n",
      "['F', 'A', 'B', 'E', 'G', 'C', 'D']\n",
      "['G', 'B', 'C', 'E', 'F', 'A', 'D']\n"
     ]
    }
   ],
   "source": [
    "\n",
    "G = {\n",
    "  'A': ['B', 'D', 'F'], \n",
    "  'B': ['A', 'D', 'C', 'G', 'F'],\n",
    "  'C': ['B', 'G'],\n",
    "  'D': ['A', 'B'],\n",
    "  'E': ['F', 'G'],\n",
    "  'F': ['A', 'B', 'E'],\n",
    "  'G': ['B', 'C', 'E']\n",
    "}\n",
    "\n",
    "for node in G.keys():\n",
    "  print(DFS(G, node))"
   ]
  },
  {
   "cell_type": "markdown",
   "metadata": {
    "id": "myOU_4rGDB5m"
   },
   "source": [
    "**Oui on arrive à parcourir tout le graphe car il est non orienté**"
   ]
  },
  {
   "cell_type": "markdown",
   "metadata": {
    "id": "4XdEyfnjGTT8"
   },
   "source": [
    "## Exercice 4\n",
    "On vous donne le labyrinthe suivant : \n",
    "\n",
    "![graph1](https://static.grosjean.io/bugnon/lab1.png)\n",
    "\n",
    "Vous devez :\n",
    "* Représentez ce graphe en mémoire avec des listes d'incidences\n",
    "* Créer une fonction qui prend comme argument :\n",
    "  * votre graphe\n",
    "  * un argument afin d'indiquer le type de recherche (DFS ou BFS)\n",
    "  * le sommet de départ\n",
    "  * le sommet d'arrivée\n",
    "* Appliquer les algorithmes DFS et BFS afin de trouver la sortie"
   ]
  },
  {
   "cell_type": "code",
   "execution_count": null,
   "metadata": {
    "id": "-wS50AGtKxoJ"
   },
   "outputs": [],
   "source": [
    "def FS(graph, t, start_node, end_node):\n",
    "  # Initialisation\n",
    "  visited = [start_node] \n",
    "  queue   = [start_node] \n",
    "  \n",
    "  while len(queue) > 0:\n",
    "    node = queue.pop() if t == 'DFS' else queue.pop(0)\n",
    "\n",
    "    for neighbour in graph[node]:\n",
    "      if neighbour not in visited:\n",
    "        visited.append(neighbour)\n",
    "        queue.append(neighbour)\n",
    "        if neighbour == end_node:\n",
    "          return visited\n",
    "\n",
    "  return visited"
   ]
  },
  {
   "cell_type": "code",
   "execution_count": null,
   "metadata": {
    "colab": {
     "base_uri": "https://localhost:8080/",
     "height": 52
    },
    "id": "BMShVQ3sGszH",
    "outputId": "29c91818-31da-4f2e-b3a0-519f16705a3d"
   },
   "outputs": [
    {
     "name": "stdout",
     "output_type": "stream",
     "text": [
      "['A', 'B', 'C', 'D', 'I', 'H', 'G', 'F', 'K', 'L', 'M', 'N', 'S', 'X', 'W', 'Y', 'T']\n",
      "['A', 'B', 'C', 'D', 'I', 'H', 'G', 'F', 'K', 'L', 'M', 'N', 'S', 'X', 'W', 'Y', 'R', 'T']\n"
     ]
    }
   ],
   "source": [
    "graph = {\n",
    "    'A': ['B'],\n",
    "    'B': ['A', 'C'],\n",
    "    'C': ['B', 'D'],\n",
    "    'D': ['C', 'I'],\n",
    "    'E': ['J'],\n",
    "    'F': ['G', 'K'],\n",
    "    'G': ['F', 'H'],\n",
    "    'H': ['G', 'I'],\n",
    "    'I': ['D', 'H'],\n",
    "    'J': ['E', 'D'],\n",
    "    'K': ['F', 'L'],\n",
    "    'L': ['K', 'M'],\n",
    "    'M': ['L', 'N'],\n",
    "    'N': ['M', 'S'],\n",
    "    'O': ['J', 'T'],\n",
    "    'P': ['U'],\n",
    "    'Q': ['R', 'V'],\n",
    "    'R': ['Q', 'W'],\n",
    "    'S': ['N', 'X'],\n",
    "    'T': ['O', 'Y'],\n",
    "    'U': ['P', 'V'],\n",
    "    'V': ['U', 'Q'],\n",
    "    'W': ['R', 'X'],\n",
    "    'X': ['W', 'S', 'Y'],\n",
    "    'Y': ['X', 'T'],\n",
    "}\n",
    "\n",
    "for t in ('DFS', 'BFS'):\n",
    "  print(FS(graph, t, 'A', 'T'))"
   ]
  },
  {
   "cell_type": "markdown",
   "metadata": {
    "id": "-G6-1T3ARudP"
   },
   "source": [
    "## Exercice 5\n",
    "On vous donne le graphe suivant : \n",
    "\n",
    "![graph1](https://static.grosjean.io/bugnon/graph4.png)\n",
    "\n",
    "Dans cette exercice, vous devez modifier l'algorithme de recherche **DFS** et y inclure une limite de recherche par niveau. Un niveau représente la profondeur de l'arbre par rapport au noeud de départ. \n",
    "\n",
    "Par exemple le :\n",
    "* niveau 0 est: Marcel\n",
    "* niveau 1 est: Marcel, Raphael, Julien\n",
    "\n",
    "Vous devez : \n",
    "* Modifier la recherche DFS et y ajouter le paramètre `lvl`\n",
    "* Vous devez chercher les amis et les amis des amis de Marcel"
   ]
  },
  {
   "cell_type": "code",
   "execution_count": null,
   "metadata": {
    "id": "PGZONBKnRxT1"
   },
   "outputs": [],
   "source": [
    "graph = {\n",
    "  'Marcel': ['Raphael', 'Julien'],\n",
    "  'Raphael': ['Gilles', 'Pascal'],\n",
    "  'Pascal': ['Renzo'],\n",
    "  'Renzo': [],\n",
    "  'Julien': ['Loic'],\n",
    "  'Loic': [],\n",
    "  'Gilles': []\n",
    "}\n",
    "\n"
   ]
  },
  {
   "cell_type": "code",
   "execution_count": null,
   "metadata": {
    "id": "DVPN0fvATLms"
   },
   "outputs": [],
   "source": [
    "9# Modifier cet algorithme pour y limiter la recherche par niveau\n",
    "def DFS(graph, start_node, lvl):\n",
    "  # Initialisation\n",
    "  visited = [start_node] \n",
    "  queue   = [start_node] \n",
    "  level = {}\n",
    "  level[start_node] = 0\n",
    "  \n",
    "  while len(queue) > 0:\n",
    "    node = queue.pop()\n",
    "\n",
    "    for neighbour in graph[node]:\n",
    "      if neighbour not in visited:\n",
    "        if level[node] + 1 <= lvl:\n",
    "          visited.append(neighbour)\n",
    "          queue.append(neighbour)\n",
    "          level[neighbour] = level[node] + 1\n",
    "\n",
    "  return visited"
   ]
  },
  {
   "cell_type": "code",
   "execution_count": null,
   "metadata": {
    "colab": {
     "base_uri": "https://localhost:8080/",
     "height": 35
    },
    "id": "kl--c53zTMUi",
    "outputId": "f4e42b6c-e9c4-4d51-dcbd-77c3786c838f"
   },
   "outputs": [
    {
     "name": "stdout",
     "output_type": "stream",
     "text": [
      "['Marcel', 'Raphael', 'Julien', 'Loic', 'Gilles', 'Pascal']\n"
     ]
    }
   ],
   "source": [
    "print(DFS(graph, 'Marcel', 2))"
   ]
  },
  {
   "cell_type": "code",
   "execution_count": null,
   "metadata": {
    "id": "P9JZEdXwTH6A"
   },
   "outputs": [],
   "source": []
  }
 ],
 "metadata": {
  "colab": {
   "collapsed_sections": [],
   "name": "Graphes.ipynb",
   "provenance": []
  },
  "kernelspec": {
   "display_name": "Python 3",
   "language": "python",
   "name": "python3"
  },
  "language_info": {
   "codemirror_mode": {
    "name": "ipython",
    "version": 3
   },
   "file_extension": ".py",
   "mimetype": "text/x-python",
   "name": "python",
   "nbconvert_exporter": "python",
   "pygments_lexer": "ipython3",
   "version": "3.7.9"
  }
 },
 "nbformat": 4,
 "nbformat_minor": 4
}
