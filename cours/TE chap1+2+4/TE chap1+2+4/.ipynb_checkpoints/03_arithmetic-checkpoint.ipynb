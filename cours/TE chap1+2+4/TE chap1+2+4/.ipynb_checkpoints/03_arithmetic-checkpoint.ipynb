{
 "cells": [
  {
   "cell_type": "markdown",
   "metadata": {},
   "source": [
    "# Arithmétique\n",
    "Depuis toujours l'Homme a voulu dénombrer, ajouter, soustraire et multiplier. L'étude des entiers et de leurs interactions est l'objectif de l'arithmétique."
   ]
  },
  {
   "cell_type": "markdown",
   "metadata": {},
   "source": [
    "**Objectives**  \n",
    "* Utiliser efficacement la division euclidienne pour prouver des propriétes\n",
    "* Introduire la notion de congruence\n",
    "* Percevoir l'importance des nombres premiers et étudier une application lié à la sécurité informatique"
   ]
  },
  {
   "cell_type": "markdown",
   "metadata": {
    "toc-hr-collapsed": false
   },
   "source": [
    "## Divisibilité et congruence"
   ]
  },
  {
   "cell_type": "markdown",
   "metadata": {},
   "source": [
    "### Divisibilité dans $\\mathbb{Z}$\n",
    "Soient $a$ et $b$ deux entiers relatifs tels que $b \\neq 0$.  \n",
    "$b$ **divise** $a$ ce qui est noté $b|a$ s'il existe un entier relatif $k$ tel que $a=kb$.\n",
    "\n",
    "Dans ce cas on peut dire que:\n",
    "* $b$ est un **diviseur** de $a$\n",
    "* $a$ est un **multiple** de $b$"
   ]
  },
  {
   "cell_type": "markdown",
   "metadata": {},
   "source": [
    "En Python il y a deux  opérateurs de division: la division entière `//`"
   ]
  },
  {
   "cell_type": "code",
   "execution_count": 1,
   "metadata": {},
   "outputs": [
    {
     "data": {
      "text/plain": [
       "5"
      ]
     },
     "execution_count": 1,
     "metadata": {},
     "output_type": "execute_result"
    }
   ],
   "source": [
    "11//2"
   ]
  },
  {
   "cell_type": "markdown",
   "metadata": {},
   "source": [
    "et la division rationelle `/`  "
   ]
  },
  {
   "cell_type": "code",
   "execution_count": 2,
   "metadata": {},
   "outputs": [
    {
     "data": {
      "text/plain": [
       "5.5"
      ]
     },
     "execution_count": 2,
     "metadata": {},
     "output_type": "execute_result"
    }
   ],
   "source": [
    "11/2"
   ]
  },
  {
   "cell_type": "markdown",
   "metadata": {},
   "source": [
    "L'opérateur modulo `%` donne le reste de la division entière."
   ]
  },
  {
   "cell_type": "code",
   "execution_count": 3,
   "metadata": {},
   "outputs": [
    {
     "data": {
      "text/plain": [
       "1"
      ]
     },
     "execution_count": 3,
     "metadata": {},
     "output_type": "execute_result"
    }
   ],
   "source": [
    "11%5"
   ]
  },
  {
   "cell_type": "markdown",
   "metadata": {},
   "source": [
    "Nous pouvons définir la fonction `divides` à l'aide de `%`"
   ]
  },
  {
   "cell_type": "code",
   "execution_count": 4,
   "metadata": {},
   "outputs": [],
   "source": [
    "def divides(b, a):\n",
    "    return a%b == 0"
   ]
  },
  {
   "cell_type": "markdown",
   "metadata": {},
   "source": [
    "Voici trois cas concrets: $5|35, \\quad 5|11, \\quad 11|132$"
   ]
  },
  {
   "cell_type": "code",
   "execution_count": 5,
   "metadata": {},
   "outputs": [
    {
     "data": {
      "text/plain": [
       "(True, False, True)"
      ]
     },
     "execution_count": 5,
     "metadata": {},
     "output_type": "execute_result"
    }
   ],
   "source": [
    "divides(5, 35), divides(5, 11), divides(11, 132)"
   ]
  },
  {
   "cell_type": "markdown",
   "metadata": {},
   "source": [
    "**Propriété**  \n",
    "Les quatre notations sont equivalents: \n",
    "$$ b|a, \\quad (-b)|a, \\quad b|(-a), \\quad (-b)|(-a) $$"
   ]
  },
  {
   "cell_type": "code",
   "execution_count": 6,
   "metadata": {},
   "outputs": [
    {
     "data": {
      "text/plain": [
       "(True, False, True)"
      ]
     },
     "execution_count": 6,
     "metadata": {},
     "output_type": "execute_result"
    }
   ],
   "source": [
    "divides(5, -35), divides(-5, 11), divides(-11, -132)"
   ]
  },
  {
   "cell_type": "markdown",
   "metadata": {},
   "source": [
    "**Propriété**  \n",
    "Si $a$ divise $b$ et si $b$ divise $c$ alors $a$ divise $c$.\n",
    "$$ a|b \\land b|c \\implies a|c $$"
   ]
  },
  {
   "cell_type": "markdown",
   "metadata": {},
   "source": [
    "Voici un example:"
   ]
  },
  {
   "cell_type": "code",
   "execution_count": 7,
   "metadata": {},
   "outputs": [
    {
     "data": {
      "text/plain": [
       "(True, True, True)"
      ]
     },
     "execution_count": 7,
     "metadata": {},
     "output_type": "execute_result"
    }
   ],
   "source": [
    "a = 11\n",
    "b = 132\n",
    "c = 2640\n",
    "divides(a, b), divides(b, c), divides(a, c)"
   ]
  },
  {
   "cell_type": "markdown",
   "metadata": {},
   "source": [
    "**Propriété**  \n",
    "Si $a$ divise $b$ et si $b$ divise $a$ alors $a$ et $b$ sont égaux ou opposés\n",
    "$$ a|b \\land b|a \\implies a=b, \\quad a=-b $$"
   ]
  },
  {
   "cell_type": "code",
   "execution_count": 8,
   "metadata": {},
   "outputs": [
    {
     "data": {
      "text/plain": [
       "(True, True)"
      ]
     },
     "execution_count": 8,
     "metadata": {},
     "output_type": "execute_result"
    }
   ],
   "source": [
    "a = 132\n",
    "b = -132\n",
    "divides(a, b), divides(b, a)"
   ]
  },
  {
   "cell_type": "markdown",
   "metadata": {},
   "source": [
    "**Propriété**  \n",
    "Si $c$ divise $a$ et $b$ alors quels que soient les entiers relatifs $u$ et $v$, $c$ divise $au + bv$.  \n",
    "En particulier $c$ divise $a+b$ et $a-b$"
   ]
  },
  {
   "cell_type": "code",
   "execution_count": 9,
   "metadata": {},
   "outputs": [
    {
     "data": {
      "text/plain": [
       "(True, True)"
      ]
     },
     "execution_count": 9,
     "metadata": {},
     "output_type": "execute_result"
    }
   ],
   "source": [
    "c = 3\n",
    "b = 6\n",
    "a = 9\n",
    "divides(c, a+b), divides(c, a-b)"
   ]
  },
  {
   "cell_type": "markdown",
   "metadata": {},
   "source": [
    "La relation binaire `divides` peut être représenté visuellement avec un diagramme carthésien."
   ]
  },
  {
   "cell_type": "code",
   "execution_count": 10,
   "metadata": {},
   "outputs": [],
   "source": [
    "def diagram(R, E):\n",
    "    print('  ', end=' ')\n",
    "    for a in E:\n",
    "        print(a, end=' ')\n",
    "    for a in E:\n",
    "        print('\\n', a, end=' ')\n",
    "        for b in E:\n",
    "            print('x' if R(a, b) else ' ', end=' ')"
   ]
  },
  {
   "cell_type": "code",
   "execution_count": 11,
   "metadata": {},
   "outputs": [
    {
     "name": "stdout",
     "output_type": "stream",
     "text": [
      "   1 2 3 4 5 6 7 8 \n",
      " 1 x x x x x x x x \n",
      " 2   x   x   x   x \n",
      " 3     x     x     \n",
      " 4       x       x \n",
      " 5         x       \n",
      " 6           x     \n",
      " 7             x   \n",
      " 8               x "
     ]
    }
   ],
   "source": [
    "E = {1, 2, 3, 4, 5, 6, 7, 8}\n",
    "diagram(divides, E)"
   ]
  },
  {
   "cell_type": "markdown",
   "metadata": {},
   "source": [
    "Cette relation est réflexive. $a|a$ est vrai. Visuellement on vérifie que tout les élement de la diagonale sont cochés."
   ]
  },
  {
   "cell_type": "code",
   "execution_count": 12,
   "metadata": {},
   "outputs": [
    {
     "data": {
      "text/plain": [
       "True"
      ]
     },
     "execution_count": 12,
     "metadata": {},
     "output_type": "execute_result"
    }
   ],
   "source": [
    "all(divides(a, a) for a in E)"
   ]
  },
  {
   "cell_type": "markdown",
   "metadata": {},
   "source": [
    "### Division euclidienne\n",
    "**Théorème**  \n",
    "Soit $a$ un entier naturel et $b$ un entier naturel non nul. Il existe un unique couple d'entiers naturels $(q, r)$ tel que \n",
    "\n",
    "$$a = bq + r \\quad 0 \\le r \\lt b $$.\n",
    "\n",
    "L'égalite $a = bq + r$ s'appelle la **division euclidienne** de $a$ par $b$, $q$ étant le **quotient** et $r$ le **reste**.  \n",
    "On appelle $a$ le **dividende** et $b$ le **diviseur**.\n",
    "\n",
    "La fonction `div(a, b)` retourne $(q, r)$."
   ]
  },
  {
   "cell_type": "code",
   "execution_count": 13,
   "metadata": {},
   "outputs": [],
   "source": [
    "def div(a, b):\n",
    "    q = a // b\n",
    "    r = a % b\n",
    "    if r < 0:\n",
    "        r += abs(b)\n",
    "        q += 1\n",
    "    return (q, r)"
   ]
  },
  {
   "cell_type": "code",
   "execution_count": 14,
   "metadata": {},
   "outputs": [
    {
     "data": {
      "text/plain": [
       "(24, 3)"
      ]
     },
     "execution_count": 14,
     "metadata": {},
     "output_type": "execute_result"
    }
   ],
   "source": [
    "div(123, 5)"
   ]
  },
  {
   "cell_type": "markdown",
   "metadata": {},
   "source": [
    "Le reste $r$ est toujours positive."
   ]
  },
  {
   "cell_type": "code",
   "execution_count": 15,
   "metadata": {},
   "outputs": [
    {
     "data": {
      "text/plain": [
       "(-3, 2)"
      ]
     },
     "execution_count": 15,
     "metadata": {},
     "output_type": "execute_result"
    }
   ],
   "source": [
    "div(-13, 5)"
   ]
  },
  {
   "cell_type": "code",
   "execution_count": 16,
   "metadata": {},
   "outputs": [
    {
     "data": {
      "text/plain": [
       "(-2, 3)"
      ]
     },
     "execution_count": 16,
     "metadata": {},
     "output_type": "execute_result"
    }
   ],
   "source": [
    "div(13, -5)"
   ]
  },
  {
   "cell_type": "code",
   "execution_count": 17,
   "metadata": {},
   "outputs": [
    {
     "data": {
      "text/plain": [
       "(3, 2)"
      ]
     },
     "execution_count": 17,
     "metadata": {},
     "output_type": "execute_result"
    }
   ],
   "source": [
    "div(-13, -5)"
   ]
  },
  {
   "cell_type": "markdown",
   "metadata": {},
   "source": [
    "### Congruence dans $\\mathbb{Z}$\n",
    "Contrairement aux relations auxquelles nous sommes habitués, la relation de congruence ne compare pas directement deux nombres mais leur reste dans la division euclidienne par un même entier positif.\n",
    "\n",
    "**Définition**  \n",
    "Soit $n$ un entier non nul. Deux entiers relatifs $a$ et $b$ sont dits **congrus modulo n** si $(a-b)$ est divisible par $n$.  \n",
    "On dit aussi que $a$ est congru à $b$ modulo $n$ et on note \n",
    "\n",
    "$$ a \\equiv b \\pmod n $$"
   ]
  },
  {
   "cell_type": "code",
   "execution_count": 18,
   "metadata": {},
   "outputs": [],
   "source": [
    "def congruent(a, b, n):\n",
    "    return (a-b)%n == 0"
   ]
  },
  {
   "cell_type": "code",
   "execution_count": 19,
   "metadata": {},
   "outputs": [
    {
     "data": {
      "text/plain": [
       "(True, True, True)"
      ]
     },
     "execution_count": 19,
     "metadata": {},
     "output_type": "execute_result"
    }
   ],
   "source": [
    "congruent(13, 3, 5), congruent(13, 23, 5), congruent(13, -17, 5)"
   ]
  },
  {
   "cell_type": "markdown",
   "metadata": {},
   "source": [
    "La relation de congruence présente les trois propriétés suivantes:"
   ]
  },
  {
   "cell_type": "markdown",
   "metadata": {},
   "source": [
    "**Propriété**  \n",
    "$a \\equiv b \\pmod n$ si et seulement si $a$ et $b$ on le même reste dans la division euclidienne par $n$.  \n",
    "Conséquences:\n",
    "* $a \\equiv 0 \\pmod n$ si et seulement si $a$ est divisible par $n$ (donc $a|n$)\n",
    "* si $a \\equiv b \\pmod n$ et si $b \\equiv c \\pmod n$ alors $a \\equiv c \\pmod n$"
   ]
  },
  {
   "cell_type": "markdown",
   "metadata": {},
   "source": [
    "**Propriété**  \n",
    "Si $k$ est un entier naturel et si $a \\equiv b \\pmod n$ alors:\n",
    "* $a + k \\equiv b + k \\pmod n$\n",
    "* $a - k \\equiv b - k \\pmod n$\n",
    "* $ka \\equiv kb \\pmod n$\n",
    "* $a^k \\equiv b^k \\pmod n$\n",
    "\n",
    "Exemples:"
   ]
  },
  {
   "cell_type": "code",
   "execution_count": 20,
   "metadata": {},
   "outputs": [
    {
     "data": {
      "text/plain": [
       "(True, True, True)"
      ]
     },
     "execution_count": 20,
     "metadata": {},
     "output_type": "execute_result"
    }
   ],
   "source": [
    "a = 13\n",
    "b = 3\n",
    "congruent(a, b, 5), congruent(a**2001, b**2001, 5), congruent(13**2001, 3, 5)"
   ]
  },
  {
   "cell_type": "markdown",
   "metadata": {},
   "source": [
    "**Propriété**  \n",
    "Si $a \\equiv b \\pmod n$ et $c \\equiv d \\pmod n$ alors:\n",
    "* $(a+c) \\equiv (b+d) \\pmod n$\n",
    "* $ac \\equiv bd \\pmod n$\n",
    "\n"
   ]
  },
  {
   "cell_type": "code",
   "execution_count": 21,
   "metadata": {},
   "outputs": [
    {
     "data": {
      "text/plain": [
       "(True, True)"
      ]
     },
     "execution_count": 21,
     "metadata": {},
     "output_type": "execute_result"
    }
   ],
   "source": [
    "a, b = 17, 1\n",
    "c, d = 126, 2\n",
    "congruent(a, b, 4), congruent(c, d, 4)"
   ]
  },
  {
   "cell_type": "markdown",
   "metadata": {},
   "source": [
    "Therefore:"
   ]
  },
  {
   "cell_type": "code",
   "execution_count": 22,
   "metadata": {},
   "outputs": [
    {
     "data": {
      "text/plain": [
       "(True, True)"
      ]
     },
     "execution_count": 22,
     "metadata": {},
     "output_type": "execute_result"
    }
   ],
   "source": [
    "congruent(a + c, b + c, 4), congruent(a*c, b*d, 4)"
   ]
  },
  {
   "cell_type": "markdown",
   "metadata": {
    "toc-hr-collapsed": true
   },
   "source": [
    "## PGCD, PPCM et applications"
   ]
  },
  {
   "cell_type": "markdown",
   "metadata": {},
   "source": [
    "### Plus grand commun diviseur\n",
    "Soient $a$ et $b$ deux entiers naturels non nuls.  \n",
    "$D(a, b)$ est l'ensemble des commun diviseurs positifs de $a$ et $b$.  \n",
    "$M(a, b)$ est l'ensemble des commun multiples positifs de $a$ et $b$.\n",
    "\n",
    "Nous définissons l'ensemble des diviseurs de $n$"
   ]
  },
  {
   "cell_type": "code",
   "execution_count": 23,
   "metadata": {},
   "outputs": [],
   "source": [
    "def divisors(n):\n",
    "    return {i for i in range(1, n+1) if n%i == 0}"
   ]
  },
  {
   "cell_type": "markdown",
   "metadata": {},
   "source": [
    "Par exemple:"
   ]
  },
  {
   "cell_type": "code",
   "execution_count": 24,
   "metadata": {},
   "outputs": [
    {
     "data": {
      "text/plain": [
       "{1, 2, 3, 4, 6, 12}"
      ]
     },
     "execution_count": 24,
     "metadata": {},
     "output_type": "execute_result"
    }
   ],
   "source": [
    "divisors(12)"
   ]
  },
  {
   "cell_type": "code",
   "execution_count": 25,
   "metadata": {},
   "outputs": [
    {
     "data": {
      "text/plain": [
       "{1, 2, 4, 7, 14, 28}"
      ]
     },
     "execution_count": 25,
     "metadata": {},
     "output_type": "execute_result"
    }
   ],
   "source": [
    "divisors(28)"
   ]
  },
  {
   "cell_type": "markdown",
   "metadata": {},
   "source": [
    "L'ensemble des diviseurs communs est l'intersection des deux ensembles."
   ]
  },
  {
   "cell_type": "code",
   "execution_count": 26,
   "metadata": {},
   "outputs": [
    {
     "data": {
      "text/plain": [
       "{1, 2, 4}"
      ]
     },
     "execution_count": 26,
     "metadata": {},
     "output_type": "execute_result"
    }
   ],
   "source": [
    "divisors(12) & (divisors(28))"
   ]
  },
  {
   "cell_type": "code",
   "execution_count": 27,
   "metadata": {},
   "outputs": [],
   "source": [
    "def D(a, b):\n",
    "    return divisors(a) & divisors(b)"
   ]
  },
  {
   "cell_type": "code",
   "execution_count": 28,
   "metadata": {},
   "outputs": [
    {
     "data": {
      "text/plain": [
       "{1, 2, 4}"
      ]
     },
     "execution_count": 28,
     "metadata": {},
     "output_type": "execute_result"
    }
   ],
   "source": [
    "D(12, 28)"
   ]
  },
  {
   "cell_type": "markdown",
   "metadata": {},
   "source": [
    "Le **plus grand commun diviseur** de $a$ et $b$ qui est noté $PGCD(a, b)$ est le plus grand des éléments de $D(a, b)$."
   ]
  },
  {
   "cell_type": "code",
   "execution_count": 29,
   "metadata": {},
   "outputs": [],
   "source": [
    "def PGCD(a, b):\n",
    "    return max(D(a, b))"
   ]
  },
  {
   "cell_type": "code",
   "execution_count": 30,
   "metadata": {},
   "outputs": [
    {
     "data": {
      "text/plain": [
       "4"
      ]
     },
     "execution_count": 30,
     "metadata": {},
     "output_type": "execute_result"
    }
   ],
   "source": [
    "PGCD(12, 28)"
   ]
  },
  {
   "cell_type": "markdown",
   "metadata": {},
   "source": [
    "L'existence du PGCD tient au fait que $D(a, b)$ est un ensemble d'entiers non vide (il contient 1) majoré (par exemple $a$). Celle du PPCM tient au fait que $M(a, b)$ est un ensemble d'entiers non vide contenant par exemple $a \\times b$ minoré par 0."
   ]
  },
  {
   "cell_type": "markdown",
   "metadata": {},
   "source": [
    "Remarques:\n",
    "* $1 \\in D(a, b)$\n",
    "* $D(a, b) = D(a) \\cap D(b)$ où $D(a)$ et $D(b)$ sont respectivement les ensembles des diviseurs positifs de $a$ et $b$.\n",
    "* $b$ divise $a$ est équivalent à $D(a, b) = D(b)$ est équivlent à $PGCD(a, b) = b$"
   ]
  },
  {
   "cell_type": "markdown",
   "metadata": {},
   "source": [
    "### Plus petit commun multiple\n",
    "Le **plus petit commun multiple** de $a$ et $b$ qui est noté $PPCM(a, b)$ est le plus petit des éléments de $M(a, b)$.\n",
    "\n",
    "Le nombre de multiples d'un nombre étant illimité, calculons seulement les multiples de $a$ jusqu'au produit $ab$."
   ]
  },
  {
   "cell_type": "code",
   "execution_count": 31,
   "metadata": {},
   "outputs": [],
   "source": [
    "def multiples(a, b):\n",
    "    return set(range(a, a*b+1, a))"
   ]
  },
  {
   "cell_type": "code",
   "execution_count": 32,
   "metadata": {},
   "outputs": [
    {
     "data": {
      "text/plain": [
       "{12, 24, 36, 48, 60, 72, 84, 96, 108, 120, 132, 144, 156, 168, 180}"
      ]
     },
     "execution_count": 32,
     "metadata": {},
     "output_type": "execute_result"
    }
   ],
   "source": [
    "multiples(12, 15)"
   ]
  },
  {
   "cell_type": "code",
   "execution_count": 33,
   "metadata": {},
   "outputs": [
    {
     "data": {
      "text/plain": [
       "{15, 30, 45, 60, 75, 90, 105, 120, 135, 150, 165, 180}"
      ]
     },
     "execution_count": 33,
     "metadata": {},
     "output_type": "execute_result"
    }
   ],
   "source": [
    "multiples(15, 12)"
   ]
  },
  {
   "cell_type": "markdown",
   "metadata": {},
   "source": [
    "Les multiples commun sont l'intersection de ces deux ensembles."
   ]
  },
  {
   "cell_type": "code",
   "execution_count": 34,
   "metadata": {},
   "outputs": [],
   "source": [
    "def M(a, b):\n",
    "    return multiples(a, b) & multiples(b, a)"
   ]
  },
  {
   "cell_type": "code",
   "execution_count": 35,
   "metadata": {},
   "outputs": [
    {
     "data": {
      "text/plain": [
       "{60, 120, 180}"
      ]
     },
     "execution_count": 35,
     "metadata": {},
     "output_type": "execute_result"
    }
   ],
   "source": [
    "M(12, 15)"
   ]
  },
  {
   "cell_type": "markdown",
   "metadata": {},
   "source": [
    "Le minimum de $M(a, b)$ est"
   ]
  },
  {
   "cell_type": "code",
   "execution_count": 36,
   "metadata": {},
   "outputs": [],
   "source": [
    "def PPCM(a, b):\n",
    "    return min(M(a, b))"
   ]
  },
  {
   "cell_type": "code",
   "execution_count": 37,
   "metadata": {},
   "outputs": [
    {
     "data": {
      "text/plain": [
       "60"
      ]
     },
     "execution_count": 37,
     "metadata": {},
     "output_type": "execute_result"
    }
   ],
   "source": [
    "PPCM(12, 15)"
   ]
  },
  {
   "cell_type": "markdown",
   "metadata": {},
   "source": [
    "Une autre façon de calculer le $PPCM$ est:\n",
    "$$ PPCM(a, b) = \\frac {ab}{PGCD(a, b)} $$"
   ]
  },
  {
   "cell_type": "markdown",
   "metadata": {},
   "source": [
    "### Algorithme d'Euclide\n",
    "\n",
    "L'algorithme d'Euclide constitute une méthode pratique pour calculer le $PGCD$ de deux nombres. Cet algorithme repose sur la propriété suivante\n",
    "\n",
    "Soient $a$ et $b$ deux entiers naturels non nuls tels que la division euclidienne de $a$ par $b$ s'écrive $a = bq + r$.\n",
    "Alors \n",
    "\n",
    "$$ D(a, b) = D(b, r) $$ \n",
    "\n",
    "et donc \n",
    "$$PGCD(a, b) = PGCD(b, r)$$"
   ]
  },
  {
   "cell_type": "markdown",
   "metadata": {},
   "source": [
    "**Méthode**  \n",
    "L'algorithme d'Euclide consiste à effectuer plusieurs divisions euclidiennes successives pour transformer $D(a, b)$ en $D(r_n, 0)$ c'est-à-dire en $D(r_n)$ où $r_n$ est le dernier reste non nul des divisions euclidiennes succésives."
   ]
  },
  {
   "cell_type": "code",
   "execution_count": 38,
   "metadata": {},
   "outputs": [],
   "source": [
    "def PGCD(a, b):\n",
    "    if b==0:\n",
    "        return a\n",
    "    else:\n",
    "        return PGCD(b, a%b)"
   ]
  },
  {
   "cell_type": "code",
   "execution_count": 39,
   "metadata": {},
   "outputs": [
    {
     "data": {
      "text/plain": [
       "(4, 6)"
      ]
     },
     "execution_count": 39,
     "metadata": {},
     "output_type": "execute_result"
    }
   ],
   "source": [
    "PGCD(12, 28), PGCD(60, 42)"
   ]
  },
  {
   "cell_type": "markdown",
   "metadata": {},
   "source": [
    "**Exemple**  \n",
    "PGCD(60, 42) = PGCD(42, 18) = PGCD(18, 6) = PGCD(6, 0) = 6"
   ]
  },
  {
   "cell_type": "markdown",
   "metadata": {},
   "source": [
    "Nous utilisons la relation suivante pour calculer $PPCM(a, b)$\n",
    "$$ PPCM(a, b) = \\frac{ab}{PGCD(a, b)}$$"
   ]
  },
  {
   "cell_type": "code",
   "execution_count": 40,
   "metadata": {},
   "outputs": [],
   "source": [
    "def PPCM(a, b):\n",
    "    return a*b // PGCD(a, b)"
   ]
  },
  {
   "cell_type": "code",
   "execution_count": 41,
   "metadata": {},
   "outputs": [
    {
     "data": {
      "text/plain": [
       "84"
      ]
     },
     "execution_count": 41,
     "metadata": {},
     "output_type": "execute_result"
    }
   ],
   "source": [
    "PPCM(12, 28)"
   ]
  },
  {
   "cell_type": "markdown",
   "metadata": {},
   "source": [
    "**Propriété**  \n",
    "Soient $a$, $b$ et $k$ trois entiers naturels non nuls.  \n",
    "* $D(a, b) = D(PGCD(a, b))$.  \n",
    "* Si $k$ divise $a$ et $b$ alors $k$ divise $PGCD(a, b)$  \n",
    "* $PGCD(ka, kb) = k PGCD(a, b)$"
   ]
  },
  {
   "cell_type": "markdown",
   "metadata": {},
   "source": [
    "### Nombres premiers entre eux\n",
    "\n",
    "**Définition**  \n",
    "On dit que deux entiers naturels non nuls sont **premiers entre eux**, si leur PGCD vaut 1.\n",
    "\n",
    "Par exemple 14 et 15 sont premier entre eux."
   ]
  },
  {
   "cell_type": "code",
   "execution_count": 42,
   "metadata": {},
   "outputs": [
    {
     "data": {
      "text/plain": [
       "1"
      ]
     },
     "execution_count": 42,
     "metadata": {},
     "output_type": "execute_result"
    }
   ],
   "source": [
    "PGCD(14, 15)"
   ]
  },
  {
   "cell_type": "markdown",
   "metadata": {},
   "source": [
    "**Propriété**  \n",
    "Si $PGCD(a, b) = d$ alors $\\frac{a}{d}$ et $\\frac b d$ sont premiers entre eux. "
   ]
  },
  {
   "cell_type": "markdown",
   "metadata": {},
   "source": [
    "### Théorème de Bézout\n",
    "Soient $a$ et $b$ deux entiers naturels non nuls.  \n",
    "$a$ et $b$ sont premiers entre eux si et seulement si il existe deux entiers relatifs $u$ et $v$ tels que $au + bv = 1$"
   ]
  },
  {
   "cell_type": "markdown",
   "metadata": {},
   "source": [
    "Les deux nombres suivants sont premiers entre eux."
   ]
  },
  {
   "cell_type": "code",
   "execution_count": 43,
   "metadata": {},
   "outputs": [
    {
     "data": {
      "text/plain": [
       "1"
      ]
     },
     "execution_count": 43,
     "metadata": {},
     "output_type": "execute_result"
    }
   ],
   "source": [
    "PGCD(66, 35)"
   ]
  },
  {
   "cell_type": "markdown",
   "metadata": {},
   "source": [
    "Essayons de trouver $u$ et $v$ qui satisfassent $au + bv = 1$"
   ]
  },
  {
   "cell_type": "markdown",
   "metadata": {},
   "source": [
    "### Théorème des restes chinois\n",
    "Historiquement, ce théorème apparait dans un livre du mathématicien Sun Zi datant du 3e siècle sous la forme d'une résolution du problème suivant: *Soient des objets dont on ignore le nombre. En les comptant 3 par 3 il en reste 2; en les comptants 5 par 5, il en reste 3 et en les comptant 7 par 7 il en reste 2. Combien y a-t-il des objets?*\n",
    "\n",
    "$x \\equiv 2 \\pmod 3$  \n",
    "$x \\equiv 3 \\pmod 5$  \n",
    "$x \\equiv 2 \\pmod 7$  \n",
    "\n"
   ]
  },
  {
   "cell_type": "markdown",
   "metadata": {},
   "source": [
    "Nous pouvons établir les sets des multiples possible pour chaque condition. Par exemple les nombres modulo 3, donnant un reste de 2"
   ]
  },
  {
   "cell_type": "code",
   "execution_count": 44,
   "metadata": {},
   "outputs": [
    {
     "data": {
      "text/plain": [
       "{2, 5, 8, 11, 14, 17, 20, 23, 26, 29, 32, 35, 38, 41, 44, 47}"
      ]
     },
     "execution_count": 44,
     "metadata": {},
     "output_type": "execute_result"
    }
   ],
   "source": [
    "set(range(2, 50, 3))"
   ]
  },
  {
   "cell_type": "code",
   "execution_count": 45,
   "metadata": {},
   "outputs": [
    {
     "data": {
      "text/plain": [
       "{23, 128, 233, 338, 443, 548, 653, 758, 863, 968}"
      ]
     },
     "execution_count": 45,
     "metadata": {},
     "output_type": "execute_result"
    }
   ],
   "source": [
    "n = 1000\n",
    "A = set(range(2, n, 3))\n",
    "B = set(range(3, n, 5))\n",
    "C = set(range(2, n, 7))\n",
    "\n",
    "A & B & C"
   ]
  },
  {
   "cell_type": "markdown",
   "metadata": {},
   "source": [
    "Une banded de 17 pirates s'est emparée d'un butin composé de pièces d'or d'égale valeur. Ils décident de se les partager équitablement et de donner le reste au cuisinier chinois. Celui-ci recevrait 3 pièces. Mais les pirates se querellent et 6 d'entre eux sont tués. Le cuisiner recevrait alors 4 pièces. Survient alors un naufrage et seuls 6 pirates, le cuisiner et le trésor sont sauvés. Le partage laisserait 5 pièces d'or à ce dernier. Quelle est la fortune minimale que peut espérer ce dernier s'il décide d'empoisonner le reste des pirates ?\n",
    "\n",
    "$x \\equiv 3 \\pmod {17} $  \n",
    "$x \\equiv 4 \\pmod {11} $  \n",
    "$x \\equiv 5 \\pmod {6} $  \n"
   ]
  },
  {
   "cell_type": "code",
   "execution_count": 46,
   "metadata": {},
   "outputs": [
    {
     "data": {
      "text/plain": [
       "{785}"
      ]
     },
     "execution_count": 46,
     "metadata": {},
     "output_type": "execute_result"
    }
   ],
   "source": [
    "n = 1000\n",
    "A = set(range(3, n, 17))\n",
    "B = set(range(4, n, 11))\n",
    "C = set(range(5, n, 6))\n",
    "\n",
    "A & B & C"
   ]
  },
  {
   "cell_type": "markdown",
   "metadata": {},
   "source": [
    "## Les nombres premiers"
   ]
  },
  {
   "cell_type": "markdown",
   "metadata": {},
   "source": [
    "### L'ensemble des nombres premières\n",
    "\n",
    "**Définition**  \n",
    "Un entier naturel $p$ est dit **premier** s'il admet exactement deux diviseurs positifs distincts: 1 et lui-même.\n",
    "\n",
    "Par exemple 19 est premier, mais 91 n'est pas premier."
   ]
  },
  {
   "cell_type": "code",
   "execution_count": 47,
   "metadata": {},
   "outputs": [
    {
     "data": {
      "text/plain": [
       "({1, 19}, {1, 7, 13, 91})"
      ]
     },
     "execution_count": 47,
     "metadata": {},
     "output_type": "execute_result"
    }
   ],
   "source": [
    "divisors(19), divisors(91)"
   ]
  },
  {
   "cell_type": "markdown",
   "metadata": {},
   "source": [
    "Ceci permet de définir la fonction `prime(n)` qui retourne si un nombre est premier."
   ]
  },
  {
   "cell_type": "code",
   "execution_count": 48,
   "metadata": {},
   "outputs": [],
   "source": [
    "def prime(n):\n",
    "    return len(divisors(n)) == 2"
   ]
  },
  {
   "cell_type": "code",
   "execution_count": 49,
   "metadata": {},
   "outputs": [
    {
     "data": {
      "text/plain": [
       "(True, False)"
      ]
     },
     "execution_count": 49,
     "metadata": {},
     "output_type": "execute_result"
    }
   ],
   "source": [
    "prime(13), prime(14)"
   ]
  },
  {
   "cell_type": "markdown",
   "metadata": {},
   "source": [
    "Voici donc les nombres premiers jusqu'à 50."
   ]
  },
  {
   "cell_type": "code",
   "execution_count": 50,
   "metadata": {},
   "outputs": [
    {
     "name": "stdout",
     "output_type": "stream",
     "text": [
      "[2, 3, 5, 7, 11, 13, 17, 19, 23, 29, 31, 37, 41, 43, 47]\n"
     ]
    }
   ],
   "source": [
    "P = [i for i in range(50) if prime(i)]\n",
    "print(P)"
   ]
  },
  {
   "cell_type": "markdown",
   "metadata": {},
   "source": [
    "**Théorème**  \n",
    "Tout entier naturel $n$ non premier admet un diviseur premier $p$ tel que $2 \\le p \\le \\sqrt n$"
   ]
  },
  {
   "cell_type": "markdown",
   "metadata": {},
   "source": [
    "### Décomposition en produit de facteurs premiers\n",
    "\n",
    "**Théorème**  \n",
    "Tout entier naturel $n$ supérieur ou égal à 2 peut s'écrire sous la forme \n",
    "\n",
    "$$ n = p^{\\alpha_1}_1 \\times p^{\\alpha_2}_2 \\times ... \\times p^{\\alpha_k}_k $$ \n",
    "\n",
    "ou les $p_i$ sont des nombres premiers et \n",
    "les $\\alpha_1$ sont des entiers naturels non nuls. Cette écriture s'appele la **décomposition en produit de facteurs premiers** de $n$. Elle est unique à l'ordre des facteurs près."
   ]
  },
  {
   "cell_type": "code",
   "execution_count": 51,
   "metadata": {},
   "outputs": [],
   "source": [
    "def factors(n):\n",
    "    L = []\n",
    "    p = 2\n",
    "    while n > 1:\n",
    "        if n % p == 0:\n",
    "            L.append(p)\n",
    "            n = n // p\n",
    "        else:\n",
    "            p = p + 1\n",
    "            while not prime(p):\n",
    "                p = p + 1\n",
    "    return L"
   ]
  },
  {
   "cell_type": "code",
   "execution_count": 52,
   "metadata": {},
   "outputs": [
    {
     "data": {
      "text/plain": [
       "([2, 2, 2, 3, 5], [2, 2, 5, 7])"
      ]
     },
     "execution_count": 52,
     "metadata": {},
     "output_type": "execute_result"
    }
   ],
   "source": [
    "factors(120), factors(140)"
   ]
  },
  {
   "cell_type": "markdown",
   "metadata": {},
   "source": [
    "Le PGCD est le nombre qui s'obtient en multipliant tous les nombres premiers apparaissant simultanément dans les deux décompositions."
   ]
  },
  {
   "cell_type": "code",
   "execution_count": 53,
   "metadata": {},
   "outputs": [
    {
     "data": {
      "text/plain": [
       "(20, 20)"
      ]
     },
     "execution_count": 53,
     "metadata": {},
     "output_type": "execute_result"
    }
   ],
   "source": [
    "PGCD(120, 140), 2 * 2 * 5"
   ]
  },
  {
   "cell_type": "markdown",
   "metadata": {},
   "source": [
    "Le PPCM est le nombre qui s'obtient en multipliant tous les nombres premiers apparaissant dans au moins une des deux décompositions."
   ]
  },
  {
   "cell_type": "code",
   "execution_count": 54,
   "metadata": {},
   "outputs": [
    {
     "data": {
      "text/plain": [
       "(840, 840)"
      ]
     },
     "execution_count": 54,
     "metadata": {},
     "output_type": "execute_result"
    }
   ],
   "source": [
    "PPCM(120, 140), 2 * 2 * 2 * 3 * 5 * 7"
   ]
  },
  {
   "cell_type": "markdown",
   "metadata": {},
   "source": [
    "### Congruence et nombres premiers"
   ]
  },
  {
   "cell_type": "markdown",
   "metadata": {},
   "source": [
    "**Théorème dit petit théorème de Fermat (admis)**  \n",
    "Si $p$ est un nombre premier ne divisant pas $n$ alors \n",
    "$$ n^{p-1} \\equiv 1 \\pmod {p} $$\n",
    "\n",
    "Exemple"
   ]
  },
  {
   "cell_type": "code",
   "execution_count": 55,
   "metadata": {},
   "outputs": [
    {
     "data": {
      "text/plain": [
       "129746337890625"
      ]
     },
     "execution_count": 55,
     "metadata": {},
     "output_type": "execute_result"
    }
   ],
   "source": [
    "p = 13\n",
    "n = 15\n",
    "n**(p-1)"
   ]
  },
  {
   "cell_type": "markdown",
   "metadata": {},
   "source": [
    "**Théorème**  \n",
    "Si $p$ est un nombre premier et $n$ un entier alors\n",
    "$$ n^p \\equiv n \\pmod {p} $$"
   ]
  },
  {
   "cell_type": "markdown",
   "metadata": {},
   "source": [
    "### Le système de chiffrement RSA\n",
    "Le chiffrement RSA est un algorithme pour crypter l'information sensible. Il a été décrit en 1977 par Rivest, Shamir et Adleman (d'ou le nom) et il repose sur l'utilisation de clés numériques créées à l'aide d'un très grand entier multiple de deux nombre premiers.\n",
    "\n",
    "Pour comprendre le principe de ce chiffrement, partons d'un exemple concret. Une personne que nous nommons Alice veu envoyer des données sensibles en les cryptant. Elle choisit pour cela d'une part \n",
    "* $p$ et $q$ deux nombres premiers distincts et supérieur ou égaux à 3 dont le produit sera noté $n$ et d'autre part \n",
    "* un entier $e$ premier avec $(p-1)(q-1)$ et tel que $0 \\lt e \\lt (p-1)(q-1)$.\n",
    "\n",
    "$(n, e)$ est la clé publique, tout le monde y a accès. En revanche $p$ et $q$ sont suffisamment grands pour que la connaissance de $n$ (qui peut avoir plusieurs centaines de chiffres) ne permette pas de les déterminer dans un temps raisonable.\n",
    "\n",
    "Si une personne veut envoyer un message à Alice, celui-ci est numérisé puis découpé par tranches en nombres inférieurs à $n$ noté $m_1, m_2, ...$\n",
    "\n",
    "Chacun des nombres $m_i$ est remplacé par le reste $r_i$ de la division euclidienne de $m_i^e$ par $n$ et est envoyé à Alice (et tout le monde peut éventuellement le voir). \n",
    "\n",
    "Alice dispose de la clé privée $(n, d)$ où \n",
    "* $d$ est l'unique entier vérifiant $1 \\le d \\le (p-1)(q-1)$ et \n",
    "* $ed \\equiv 1 \\pmod {(p-1)(q-1)}$\n",
    "\n",
    "Alice déchiffre le message en utilisant le fait que $m_i$ est le reste de la division euclidienne de $r_i^d$ par $n$."
   ]
  },
  {
   "cell_type": "markdown",
   "metadata": {},
   "source": [
    "**Exemple**  \n",
    "Alice choisit $p=3$ et $q=11$ donc $n=33$"
   ]
  },
  {
   "cell_type": "code",
   "execution_count": 56,
   "metadata": {},
   "outputs": [
    {
     "data": {
      "text/plain": [
       "20"
      ]
     },
     "execution_count": 56,
     "metadata": {},
     "output_type": "execute_result"
    }
   ],
   "source": [
    "p = 3\n",
    "q = 11\n",
    "n = p * q\n",
    "(p-1) * (q-1)"
   ]
  },
  {
   "cell_type": "markdown",
   "metadata": {},
   "source": [
    "Ensuite elle doit choisir un entier $e$ qui est premier avec $20$. Voici la liste des candidats:"
   ]
  },
  {
   "cell_type": "code",
   "execution_count": 57,
   "metadata": {},
   "outputs": [
    {
     "data": {
      "text/plain": [
       "[3, 7, 9, 11, 13, 17, 19]"
      ]
     },
     "execution_count": 57,
     "metadata": {},
     "output_type": "execute_result"
    }
   ],
   "source": [
    "L = [i for i in range(2, 20) if PGCD(i, 20) == 1]\n",
    "L"
   ]
  },
  {
   "cell_type": "markdown",
   "metadata": {},
   "source": [
    "Elle choisit:"
   ]
  },
  {
   "cell_type": "code",
   "execution_count": 58,
   "metadata": {},
   "outputs": [],
   "source": [
    "e = 7"
   ]
  },
  {
   "cell_type": "markdown",
   "metadata": {},
   "source": [
    "De la liste $L$ elle doit choisir le $d$ qui satisfait cette condition."
   ]
  },
  {
   "cell_type": "markdown",
   "metadata": {},
   "source": [
    "$ed \\equiv 1 \\pmod {20}$"
   ]
  },
  {
   "cell_type": "code",
   "execution_count": 59,
   "metadata": {},
   "outputs": [
    {
     "data": {
      "text/plain": [
       "[3]"
      ]
     },
     "execution_count": 59,
     "metadata": {},
     "output_type": "execute_result"
    }
   ],
   "source": [
    "[d for d in L if e*d%20 == 1]"
   ]
  },
  {
   "cell_type": "markdown",
   "metadata": {},
   "source": [
    "La clé publique est $(n, e) = (33, 7)$. Supposons que Bob envoie le message $m=15$. Il est remplacé par le reste de la division euclidienne de $15^7$ par $33$, soit $27$"
   ]
  },
  {
   "cell_type": "code",
   "execution_count": 60,
   "metadata": {},
   "outputs": [
    {
     "data": {
      "text/plain": [
       "27"
      ]
     },
     "execution_count": 60,
     "metadata": {},
     "output_type": "execute_result"
    }
   ],
   "source": [
    "m = 15\n",
    "(n, e) = (33, 7)\n",
    "m ** e % n"
   ]
  },
  {
   "cell_type": "markdown",
   "metadata": {},
   "source": [
    "Alice dispose de la clé privé $(n, d) = (33, 3)$. Elle déchiffre le message en effectuant la division euclidienne $27^3$ par $33$, le reste est 15: c'est le message de Bob. "
   ]
  },
  {
   "cell_type": "code",
   "execution_count": 61,
   "metadata": {},
   "outputs": [
    {
     "data": {
      "text/plain": [
       "15"
      ]
     },
     "execution_count": 61,
     "metadata": {},
     "output_type": "execute_result"
    }
   ],
   "source": [
    "(n, d) = (33, 3)\n",
    "x = 27\n",
    "x ** d % n"
   ]
  },
  {
   "cell_type": "markdown",
   "metadata": {},
   "source": [
    "Le principe du chiffrement respose sur le lemme suivant: si $x = m^e \\pmod {n}$ alors $m \\equiv x^d \\pmod{n}$.  \n",
    "Ainsi, si $m$ est le message de Bob, $x$ est le reste de la division euclidienne de $m^e$ par $n$ (le message transmis à Alice). Alice peut obtenir $m$ qui est le reste de la division euclidieenne de $x^d$ par $n$."
   ]
  },
  {
   "cell_type": "markdown",
   "metadata": {},
   "source": [
    "## Les systèmes de numération\n",
    "**Définitions**  \n",
    "Un **système de numération** est un ensemble de symboles appelés **chiffres** et ainsi que des règles permettant de représenter des nombres. On appelle **base** d'un système de numération le nombre de chiffres utilisé pour représenter un nombre.\n",
    "\n",
    "* Les humains utilisent le système décimale qui est un système de numération de base 10 et qui utilise les chiffres `0123456789`.  \n",
    "* Les ordinateurs utilisent le système binaire qui est un système de base 2, où les nombre s'écrivent avec seulement les chiffres `01`"
   ]
  },
  {
   "cell_type": "markdown",
   "metadata": {},
   "source": [
    "### Conversion depuis une base $b$\n",
    "Commençons par donner la méthode permettant d'obtenir la valeur décimale d'un nombre écrit en base $b$. Le nombre en base $b$ est donnée sous forme de chaine de caractères `s`.  Cette chaine est composé de chiffres appartenant à l'ensemble ordonné `S` Par exemple pour un système de numération hexadécimal, en base 16, on utilise d'habitude l'ensemble des chiffres:"
   ]
  },
  {
   "cell_type": "code",
   "execution_count": 62,
   "metadata": {},
   "outputs": [],
   "source": [
    "S = '0123456789abcdef'"
   ]
  },
  {
   "cell_type": "markdown",
   "metadata": {},
   "source": [
    "La méthode `index` permet de trouver la valeur numérique d'un chiffre. Par exemple le chiffre `f` a la valeur numérique 15."
   ]
  },
  {
   "cell_type": "code",
   "execution_count": 63,
   "metadata": {},
   "outputs": [
    {
     "data": {
      "text/plain": [
       "15"
      ]
     },
     "execution_count": 63,
     "metadata": {},
     "output_type": "execute_result"
    }
   ],
   "source": [
    "S.index('f')"
   ]
  },
  {
   "cell_type": "markdown",
   "metadata": {},
   "source": [
    "Supposons que le nombre $s$ s'écrit en base $b$ comme séquence de chiffres $s_n...s_2s_1s_0$. Sa valeur numériques est alors:\n",
    "\n",
    "$$ s_n \\times b^n + ...  + s_2 \\times b^2 + s_1 \\times b^1 + s_0 \\times b^0 $$\n",
    "\n",
    "Remarques: \n",
    "* le string est invérse avec `s[::-1]`\n",
    "* la fonction `enumerate` fournit un tuple `(i, c)` avec l'index et un caractère de la chaine"
   ]
  },
  {
   "cell_type": "code",
   "execution_count": 64,
   "metadata": {},
   "outputs": [],
   "source": [
    "def fromBase(s, base):\n",
    "    S = '0123456789abcdef'\n",
    "    n = 0\n",
    "    for (i, c) in enumerate(s[::-1]):\n",
    "        n += S.index(c) * base**i\n",
    "    return n"
   ]
  },
  {
   "cell_type": "markdown",
   "metadata": {},
   "source": [
    "Voici trois exemples:"
   ]
  },
  {
   "cell_type": "code",
   "execution_count": 65,
   "metadata": {},
   "outputs": [
    {
     "data": {
      "text/plain": [
       "(4095, 2748, 31)"
      ]
     },
     "execution_count": 65,
     "metadata": {},
     "output_type": "execute_result"
    }
   ],
   "source": [
    "fromBase('fff', 16), fromBase('abc', 16), fromBase('11111', 2), "
   ]
  },
  {
   "cell_type": "markdown",
   "metadata": {},
   "source": [
    "Pour la base hexadécimal, octal et binaire Python prévois une notation litérale utilisant les prefixes suivants: \n",
    "* `0x` pour hexadécimal\n",
    "* `0o` pour octal\n",
    "* `0b` pour binaire\n",
    "\n",
    "Voici trois examples:"
   ]
  },
  {
   "cell_type": "code",
   "execution_count": 66,
   "metadata": {},
   "outputs": [
    {
     "data": {
      "text/plain": [
       "(2748, 83, 85)"
      ]
     },
     "execution_count": 66,
     "metadata": {},
     "output_type": "execute_result"
    }
   ],
   "source": [
    "0xabc, 0o123, 0b01010101"
   ]
  },
  {
   "cell_type": "markdown",
   "metadata": {},
   "source": [
    "### Conversion vers une base $b$\n",
    "Voyons maintenant la méthode perméttant d'obtenir la séquence de chiffres en base $b$ d'un nombre dont la valeur numérique est donnée.\n",
    "\n",
    "L'algorithme utilisé s'appuye sur des divisions successives.\n",
    "* le nombre en base $b$ est représenté comme chaine de caractères $s$\n",
    "* l'ensemble des chiffres pour la numération en base $b$ est donné dans la chaine $S$\n",
    "* Le reste de la division `i = n % base` donne le nouveau chiffre à ajouter à $s$\n",
    "* le nouveau chiffre est obtenu en indexant $S$ et en l'ajoutant à gauche de la chaine $s$\n",
    "* l'algorithme coninue avec `n = n // base`\n"
   ]
  },
  {
   "cell_type": "code",
   "execution_count": 67,
   "metadata": {},
   "outputs": [],
   "source": [
    "def toBase(n, base):\n",
    "    S = '0123456789abcdef'\n",
    "    s = ''\n",
    "    \n",
    "    while n > 0:\n",
    "        i = n % base\n",
    "        n = n // base\n",
    "        s = S[i] + s\n",
    "    return s"
   ]
  },
  {
   "cell_type": "markdown",
   "metadata": {},
   "source": [
    "Voici le nombre $n$ représenté dans trois bases différentes:"
   ]
  },
  {
   "cell_type": "code",
   "execution_count": 68,
   "metadata": {},
   "outputs": [
    {
     "data": {
      "text/plain": [
       "('bc614e', '212020020002100', '101111000110000101001110')"
      ]
     },
     "execution_count": 68,
     "metadata": {},
     "output_type": "execute_result"
    }
   ],
   "source": [
    "n = 12345678\n",
    "toBase(n, 16), toBase(n, 3), toBase(n, 2)"
   ]
  },
  {
   "cell_type": "markdown",
   "metadata": {},
   "source": [
    "### La fonction `format`\n",
    "La fonction `format` permet de formater un nombre apparaissant à l'intérieur d'une chaine sous forme binaire, octale ou hexadécimale. Cette méthode de la classe `str` est utilisé avec la notation `s.format(p0, p1, ..)`. \n",
    "* Le string `s` contient des marquers `{}` ou les paramètres p sont insérés\n",
    "* Le marquer `{}` contient des options de mise en format\n",
    "    * `{:x}` pour le format hexadécimale (base 16)\n",
    "    * `{:o}` pour le format octale (base 8)\n",
    "    * `{:b}` pour le format binare (base 2)"
   ]
  },
  {
   "cell_type": "code",
   "execution_count": 69,
   "metadata": {},
   "outputs": [
    {
     "name": "stdout",
     "output_type": "stream",
     "text": [
      "forme hexadécimale: bc614e\n",
      "forme octale: 101111000110000101001110\n",
      "forme binaire: 57060516\n"
     ]
    }
   ],
   "source": [
    "n = 12345678\n",
    "print('forme hexadécimale: {:x}'.format(n))\n",
    "print('forme octale: {:b}'.format(n))\n",
    "print('forme binaire: {:o}'.format(n))"
   ]
  },
  {
   "cell_type": "markdown",
   "metadata": {},
   "source": [
    "Il est également possible de spécifier le nombre de positions et de les remplir avec des `0`."
   ]
  },
  {
   "cell_type": "code",
   "execution_count": 70,
   "metadata": {},
   "outputs": [
    {
     "name": "stdout",
     "output_type": "stream",
     "text": [
      "0x0000001e\n",
      "0b00011110\n"
     ]
    }
   ],
   "source": [
    "n = 30\n",
    "print('0x{:08x}'.format(n))\n",
    "print('0b{:08b}'.format(n))"
   ]
  },
  {
   "cell_type": "markdown",
   "metadata": {},
   "source": [
    "## Exercices"
   ]
  },
  {
   "cell_type": "markdown",
   "metadata": {},
   "source": [
    "#### Exercice 1 - divisible par 3\n",
    "Prouver que la somme de trois entiers consecutifs est toujours divisible par 3."
   ]
  },
  {
   "cell_type": "markdown",
   "metadata": {},
   "source": [
    "La somme de trois entiers consécutifs à partr de l'entier $n$ est:   \n",
    "$ S = n + (n+1) + (n+2) = 3n+3 = 3(n+1)$  \n",
    "Comme $n+1$ est un entier, $S$ est divisible par 3."
   ]
  },
  {
   "cell_type": "markdown",
   "metadata": {},
   "source": [
    "#### Exercice 2 - division euclidienne\n",
    "Ecrire les divisions euclidiennes de $a$ par $b$ dans les cas suivants:\n",
    "* $a=270$ et $b=12$\n",
    "* $a=-151$ et $b=9$\n",
    "* $a=-200$ et $b=-3$"
   ]
  },
  {
   "cell_type": "code",
   "execution_count": 71,
   "metadata": {},
   "outputs": [
    {
     "data": {
      "text/plain": [
       "((22, 6), (-17, 2), (67, 1))"
      ]
     },
     "execution_count": 71,
     "metadata": {},
     "output_type": "execute_result"
    }
   ],
   "source": [
    "div(270, 12), div(-151, 9), div(-200, -3)"
   ]
  },
  {
   "cell_type": "markdown",
   "metadata": {},
   "source": [
    "#### Exercice 3 - division euclidienne\n",
    "On suppose que $a$ et $a'$ sont des entiers positifs, que $b$ est un entier strictement positif et que les divisions euclidiennes de $a$ et $a'$ par $b$ sont $a = bq + r$ et $a'=bq'+r'$  \n",
    "Quelle est la division euclidienne de $a + a'$ par $b$?"
   ]
  },
  {
   "cell_type": "markdown",
   "metadata": {},
   "source": [
    "$a + a' = b(q+q') + (r+r')$"
   ]
  },
  {
   "cell_type": "markdown",
   "metadata": {},
   "source": [
    "#### Exercice 4 - reste\n",
    "Donner le reste de la divison euclidienne de $13^{218}$ par 5.\n",
    "\n",
    "$13^{218} \\equiv 3^{218} \\equiv 9^{109} \\equiv 4^{109} \\equiv 16^{54}4 \\equiv 1^{54}4 \\equiv 4\\pmod{5} $"
   ]
  },
  {
   "cell_type": "code",
   "execution_count": 72,
   "metadata": {},
   "outputs": [
    {
     "data": {
      "text/plain": [
       "4"
      ]
     },
     "execution_count": 72,
     "metadata": {},
     "output_type": "execute_result"
    }
   ],
   "source": [
    "13**218 % 5"
   ]
  },
  {
   "cell_type": "markdown",
   "metadata": {},
   "source": [
    "#### Exercice 5 - PGCD et PPCM\n",
    "Déterminer à l'aide de l'algorithme d'Euclide PGCD(2268, 360). En déduire PPCM(2268, 360)."
   ]
  },
  {
   "cell_type": "code",
   "execution_count": 73,
   "metadata": {},
   "outputs": [
    {
     "name": "stdout",
     "output_type": "stream",
     "text": [
      "2268 360\n",
      "360 108\n",
      "108 36\n",
      "PGCD = 36\n",
      "PPCM = 22680\n"
     ]
    }
   ],
   "source": [
    "a = 2268\n",
    "b = 360\n",
    "\n",
    "while b != 0:\n",
    "    print (a, b)\n",
    "    (a, b) = (b, a%b)\n",
    "    \n",
    "print('PGCD =', a)\n",
    "print('PPCM =', 2268 * 360 // a)"
   ]
  },
  {
   "cell_type": "markdown",
   "metadata": {},
   "source": [
    "#### Exercice 6 - bouquet\n",
    "Un fleuriste dispose de 270 roses, 378 lys et 126 oeillets. Il souhaite réaliser un maximum de bouquets identiqeus en utilisant toutes ses fleurs. Comment doit-il se prendre ?"
   ]
  },
  {
   "cell_type": "code",
   "execution_count": 74,
   "metadata": {},
   "outputs": [
    {
     "name": "stdout",
     "output_type": "stream",
     "text": [
      "18 bouquets avec\n",
      "15 roses, 21 lys et 7 oeillets\n"
     ]
    }
   ],
   "source": [
    "a = 270\n",
    "b = 378\n",
    "c = 126\n",
    "d = PGCD(PGCD(a, b), c)\n",
    "print(d, 'bouquets avec')\n",
    "print(a//d, 'roses,', b//d, 'lys et', c//d, 'oeillets')"
   ]
  },
  {
   "cell_type": "markdown",
   "metadata": {},
   "source": [
    "#### Exercice 7 - algorithme d'Euclide\n",
    "A l'aide de l'algorithme d'Euclide, déterminer $u$ et $v$ tels que $20u +13v = 1$"
   ]
  },
  {
   "cell_type": "code",
   "execution_count": null,
   "metadata": {},
   "outputs": [],
   "source": []
  },
  {
   "cell_type": "markdown",
   "metadata": {},
   "source": [
    "#### Exercice 8 - perles\n",
    "Emma a entre 300 et 400 perles. Si elle fait des paquets de 15 perles il lui en restent 3, et si elle fait des paquets des boites de 17, il lui en reste 4. De combien de perles dispose-t-elle ?"
   ]
  },
  {
   "cell_type": "code",
   "execution_count": 75,
   "metadata": {},
   "outputs": [
    {
     "data": {
      "text/plain": [
       "{123, 378}"
      ]
     },
     "execution_count": 75,
     "metadata": {},
     "output_type": "execute_result"
    }
   ],
   "source": [
    "A = set(range(3, 400, 15))\n",
    "B = set(range(4, 400, 17))\n",
    "A & B"
   ]
  },
  {
   "cell_type": "markdown",
   "metadata": {},
   "source": [
    "#### Exercice 9 - nombre premiers\n",
    "Donner la liste des nombres premiers inférieur à 150."
   ]
  },
  {
   "cell_type": "code",
   "execution_count": 76,
   "metadata": {},
   "outputs": [
    {
     "name": "stdout",
     "output_type": "stream",
     "text": [
      "{2, 3, 131, 5, 7, 137, 11, 139, 13, 17, 19, 149, 23, 29, 31, 37, 41, 43, 47, 53, 59, 61, 67, 71, 73, 79, 83, 89, 97, 101, 103, 107, 109, 113, 127}\n"
     ]
    }
   ],
   "source": [
    "L = {i for i in range(2, 150) if len(divisors(i)) == 2}\n",
    "print(L)"
   ]
  },
  {
   "cell_type": "markdown",
   "metadata": {},
   "source": [
    "#### Exercice 10 - nombre premier ?\n",
    "Les nombres 493 et 293 sont-ils premiers ?"
   ]
  },
  {
   "cell_type": "code",
   "execution_count": 77,
   "metadata": {},
   "outputs": [
    {
     "name": "stdout",
     "output_type": "stream",
     "text": [
      "493 is not prime\n",
      "293 is prime\n"
     ]
    }
   ],
   "source": [
    "for i in (493, 293):\n",
    "    if len(divisors(i)) == 2 :\n",
    "        print(i, 'is prime')\n",
    "    else:\n",
    "        print(i, 'is not prime')"
   ]
  },
  {
   "cell_type": "markdown",
   "metadata": {},
   "source": [
    "#### Exercice 11 - divisieurs\n",
    "Donner la liste des diviseurs de 140."
   ]
  },
  {
   "cell_type": "code",
   "execution_count": 78,
   "metadata": {},
   "outputs": [
    {
     "data": {
      "text/plain": [
       "{1, 2, 4, 5, 7, 10, 14, 20, 28, 35, 70, 140}"
      ]
     },
     "execution_count": 78,
     "metadata": {},
     "output_type": "execute_result"
    }
   ],
   "source": [
    "divisors(140)"
   ]
  },
  {
   "cell_type": "markdown",
   "metadata": {},
   "source": [
    "#### Exercice 12 - facteurs premiers\n",
    "Decomposer en produit de facteurs premiers les nombres 2268 et 360, en déduire leur PGCD et leur PPCM."
   ]
  },
  {
   "cell_type": "code",
   "execution_count": 79,
   "metadata": {},
   "outputs": [
    {
     "name": "stdout",
     "output_type": "stream",
     "text": [
      "[2, 2, 3, 3, 3, 3, 7]\n",
      "[2, 2, 2, 3, 3, 5]\n"
     ]
    }
   ],
   "source": [
    "a = 2268\n",
    "b = 360\n",
    "        \n",
    "print(factors(a))\n",
    "print(factors(b))"
   ]
  },
  {
   "cell_type": "code",
   "execution_count": 80,
   "metadata": {},
   "outputs": [
    {
     "data": {
      "text/plain": [
       "(36, 22680)"
      ]
     },
     "execution_count": 80,
     "metadata": {},
     "output_type": "execute_result"
    }
   ],
   "source": [
    "d = 2 * 2 * 3 * 3\n",
    "m = 2268 * 2 * 5\n",
    "(d, m)"
   ]
  },
  {
   "cell_type": "markdown",
   "metadata": {},
   "source": [
    "#### Exercice 13 - RSA\n",
    "Reprendre l'exemple d'étude du cryptage RSA avec les mêmes valeurs de $p$ et $q$ mais avec $e=13$.  \n",
    "Détailler la transmission de $m=5$"
   ]
  },
  {
   "cell_type": "code",
   "execution_count": 81,
   "metadata": {},
   "outputs": [
    {
     "data": {
      "text/plain": [
       "(33, 13)"
      ]
     },
     "execution_count": 81,
     "metadata": {},
     "output_type": "execute_result"
    }
   ],
   "source": [
    "p = 3\n",
    "q = 11\n",
    "n = p * q\n",
    "e = 13\n",
    "(n, e) #public key"
   ]
  },
  {
   "cell_type": "code",
   "execution_count": 82,
   "metadata": {},
   "outputs": [
    {
     "data": {
      "text/plain": [
       "26"
      ]
     },
     "execution_count": 82,
     "metadata": {},
     "output_type": "execute_result"
    }
   ],
   "source": [
    "m = 5\n",
    "x = m ** e % n \n",
    "x #encrypted message"
   ]
  },
  {
   "cell_type": "code",
   "execution_count": 83,
   "metadata": {},
   "outputs": [
    {
     "data": {
      "text/plain": [
       "[137, 17, 37, 97]"
      ]
     },
     "execution_count": 83,
     "metadata": {},
     "output_type": "execute_result"
    }
   ],
   "source": [
    "[d for d in L if e*d%20 == 1]"
   ]
  },
  {
   "cell_type": "code",
   "execution_count": 84,
   "metadata": {},
   "outputs": [
    {
     "data": {
      "text/plain": [
       "(33, 17)"
      ]
     },
     "execution_count": 84,
     "metadata": {},
     "output_type": "execute_result"
    }
   ],
   "source": [
    "d = 17\n",
    "(n, d) #private key"
   ]
  },
  {
   "cell_type": "code",
   "execution_count": 85,
   "metadata": {},
   "outputs": [
    {
     "data": {
      "text/plain": [
       "5"
      ]
     },
     "execution_count": 85,
     "metadata": {},
     "output_type": "execute_result"
    }
   ],
   "source": [
    "x ** d % n"
   ]
  },
  {
   "cell_type": "markdown",
   "metadata": {},
   "source": [
    "#### Exercice 14 - base 10\n",
    "Ecrire en base 10 le nombre $3142_5$."
   ]
  },
  {
   "cell_type": "code",
   "execution_count": 86,
   "metadata": {},
   "outputs": [
    {
     "data": {
      "text/plain": [
       "421"
      ]
     },
     "execution_count": 86,
     "metadata": {},
     "output_type": "execute_result"
    }
   ],
   "source": [
    "fromBase('3141', 5)"
   ]
  },
  {
   "cell_type": "markdown",
   "metadata": {},
   "source": [
    "#### Exercice 15 - base 7\n",
    "Ecrire en base 7 le nombre $2102_3$."
   ]
  },
  {
   "cell_type": "code",
   "execution_count": 87,
   "metadata": {},
   "outputs": [
    {
     "data": {
      "text/plain": [
       "'122'"
      ]
     },
     "execution_count": 87,
     "metadata": {},
     "output_type": "execute_result"
    }
   ],
   "source": [
    "n = fromBase('2102', 3)\n",
    "toBase(n, 7)"
   ]
  }
 ],
 "metadata": {
  "kernelspec": {
   "display_name": "Python 3",
   "language": "python",
   "name": "python3"
  },
  "language_info": {
   "codemirror_mode": {
    "name": "ipython",
    "version": 3
   },
   "file_extension": ".py",
   "mimetype": "text/x-python",
   "name": "python",
   "nbconvert_exporter": "python",
   "pygments_lexer": "ipython3",
   "version": "3.7.4"
  }
 },
 "nbformat": 4,
 "nbformat_minor": 4
}
