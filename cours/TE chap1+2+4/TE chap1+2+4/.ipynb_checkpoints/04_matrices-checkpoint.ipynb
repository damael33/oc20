{
 "cells": [
  {
   "cell_type": "markdown",
   "metadata": {},
   "source": [
    "# Calcul matriciel"
   ]
  },
  {
   "cell_type": "markdown",
   "metadata": {},
   "source": [
    "Très présentes en mathématiques, les matrices sont un moyen pratique de présenter des données et d'en tirer des informations importantes. Leurs premiers utilisations se faisaient dans le cadre de l'algèbre linéaire mais au fil des années, elles ont pris une place de plus en plus importante dans des domaines comme la statistique ou la théorie des graphes."
   ]
  },
  {
   "cell_type": "markdown",
   "metadata": {},
   "source": [
    "## Les matrices"
   ]
  },
  {
   "cell_type": "markdown",
   "metadata": {},
   "source": [
    "Les matrices permettent de simplifier la présentation d'un tableau à double entrée. Bien qu'utilisées avant lui, c'est **James Joseph Sylvester** qui les nomma ainsi en 1850 dans la mesure où elles donnent naissance à des familles de déterminants associés."
   ]
  },
  {
   "cell_type": "markdown",
   "metadata": {},
   "source": [
    "### L'ensemble $M_{n, p}(K)$\n",
    "Dans ce qui suit, $n$ et $p$ sont des entiers strictement positifs et $K$ designe une structure algébrique (un ensemble de nombres) vérifiant des propriétés particulières. $K$ pourra par exemple être l'ensemble $\\mathbb{R}$ des réels ou $\\{0, 1\\}$."
   ]
  },
  {
   "cell_type": "markdown",
   "metadata": {},
   "source": [
    "**Définition**  \n",
    "* Une **matrice** de dimension $(n, p)$ ou $n \\times p$ à coefficients dans $K$ est un tableau de $n$ lignes et $p$ colonnes d'éléments de $K$.\n",
    "* $M_{n, p}(K)$ désigne l'ensemble de ces matrices."
   ]
  },
  {
   "cell_type": "markdown",
   "metadata": {},
   "source": [
    "Quelques matrices particulières portent des noms bien définis:\n",
    "* Si $n=1$, alors la matrice est une **matrice ligne**.\n",
    "* Si $p=1$, alors la matrice est une **matrice colonne**.\n",
    "* Si $n=p$, alors la matrice est une **matrice carrée** de dimension $n$"
   ]
  },
  {
   "cell_type": "markdown",
   "metadata": {},
   "source": [
    "Pour les calculs matriciels en Python, nous importons le module **numpy** avec la commmande suivante:"
   ]
  },
  {
   "cell_type": "code",
   "execution_count": 1,
   "metadata": {},
   "outputs": [],
   "source": [
    "import numpy as np"
   ]
  },
  {
   "cell_type": "markdown",
   "metadata": {},
   "source": [
    "Voici une matrice $2 \\times 3$ avec des coefficients entiers."
   ]
  },
  {
   "cell_type": "code",
   "execution_count": 5,
   "metadata": {},
   "outputs": [
    {
     "name": "stdout",
     "output_type": "stream",
     "text": [
      "[[ 1  2  3]\n",
      " [-1  1  4]]\n"
     ]
    }
   ],
   "source": [
    "A = np.array([[1, 2, 3], [-1, 1, 4]])\n",
    "print(A)"
   ]
  },
  {
   "cell_type": "markdown",
   "metadata": {},
   "source": [
    "Voici une matrice carré $2 \\times 2$ avec des coefficients réels."
   ]
  },
  {
   "cell_type": "code",
   "execution_count": 8,
   "metadata": {},
   "outputs": [
    {
     "name": "stdout",
     "output_type": "stream",
     "text": [
      "[[0.         4.        ]\n",
      " [3.2        3.14159265]]\n"
     ]
    }
   ],
   "source": [
    "B = np.array([[0, 4], [3.2, np.pi]])\n",
    "print(B)"
   ]
  },
  {
   "cell_type": "markdown",
   "metadata": {},
   "source": [
    "Voici une matrice colonne $3 \\times 1$ avec des coefficients réels."
   ]
  },
  {
   "cell_type": "code",
   "execution_count": 11,
   "metadata": {},
   "outputs": [
    {
     "name": "stdout",
     "output_type": "stream",
     "text": [
      "[[ 1. ]\n",
      " [ 3. ]\n",
      " [-7.8]]\n"
     ]
    }
   ],
   "source": [
    "C = np.array([[1], [3], [-7.8]])\n",
    "print(C)"
   ]
  },
  {
   "cell_type": "markdown",
   "metadata": {},
   "source": [
    "### Indexation des coefficients et transposé\n",
    "Le coefficient d'une matrice $A \\in M_{n, p}(\\mathbb{R})$ situé à la i-ème ligne et à la j-ème colonne se note $a_{i, j}$.\n",
    "\n",
    "La matrice $A$ peut s'écrire\n",
    "$$ (a_{i, j})_{0 \\le i \\lt n, 0 \\le j \\lt p} $$"
   ]
  },
  {
   "cell_type": "markdown",
   "metadata": {},
   "source": [
    "**Définition**  \n",
    "Lorsque  $A \\in M_{n, p}(K)$, la **transposée** de $A$ notée $A^t$ est la matrice $M_{p, n}(K)$, telle que $a_{i, j}^t = a_{j, i}$\n",
    "\n",
    "En **numpy** la méthode `transpose()` transforme une matrice en sa transposé."
   ]
  },
  {
   "cell_type": "code",
   "execution_count": 18,
   "metadata": {},
   "outputs": [
    {
     "data": {
      "text/plain": [
       "array([[ 1, -1],\n",
       "       [ 2,  1],\n",
       "       [ 3,  4]])"
      ]
     },
     "execution_count": 18,
     "metadata": {},
     "output_type": "execute_result"
    }
   ],
   "source": [
    "A.transpose()"
   ]
  },
  {
   "cell_type": "code",
   "execution_count": 16,
   "metadata": {},
   "outputs": [
    {
     "data": {
      "text/plain": [
       "array([[0.        , 3.2       ],\n",
       "       [4.        , 3.14159265]])"
      ]
     },
     "execution_count": 16,
     "metadata": {},
     "output_type": "execute_result"
    }
   ],
   "source": [
    "B.transpose()"
   ]
  },
  {
   "cell_type": "markdown",
   "metadata": {},
   "source": [
    "La transposé d'une matrice colonne est une matrice ligne."
   ]
  },
  {
   "cell_type": "code",
   "execution_count": 17,
   "metadata": {},
   "outputs": [
    {
     "data": {
      "text/plain": [
       "array([[ 1. ,  3. , -7.8]])"
      ]
     },
     "execution_count": 17,
     "metadata": {},
     "output_type": "execute_result"
    }
   ],
   "source": [
    "C.transpose()"
   ]
  },
  {
   "cell_type": "markdown",
   "metadata": {},
   "source": [
    "### Cas particuliers des matrices carrées\n",
    "Dans cette section $A$ est une matrice carrée de dimension $n > 0$ à coefficients dans $\\mathbb{R}$.\n",
    "\n",
    "La diagonale de la matrice $A$ est l'ensemble de ses coefficients qui sont de la forme $a_{i, i}$ c'est-à-dire l'ensemble des nombres situes sur la diagonale allant du haut à gauche vers le bas à droite."
   ]
  },
  {
   "cell_type": "markdown",
   "metadata": {},
   "source": [
    "#### Matrice triangulaire\n",
    "A est une matrice **triangulaire supérieur** si tous ses éléments situés sals la diagonale sont nuls c'est-à-dire si \n",
    "$$ i>j \\implies a_{i, j}=0 $$\n",
    "\n",
    "Exemple:"
   ]
  },
  {
   "cell_type": "code",
   "execution_count": 21,
   "metadata": {},
   "outputs": [
    {
     "name": "stdout",
     "output_type": "stream",
     "text": [
      "[[1 2 7]\n",
      " [0 1 4]\n",
      " [0 0 5]]\n"
     ]
    }
   ],
   "source": [
    "A = np.array([[1, 2, 7], [0, 1, 4], [0, 0, 5]])\n",
    "print(A)"
   ]
  },
  {
   "cell_type": "markdown",
   "metadata": {},
   "source": [
    "$A$ est une matrice **triangulaire inférieure** si tous ses éléments situés au-dessus de la diagonale sont nuls c'est-à-dire si \n",
    "$$ i<j \\implies a_{i, j}=0 $$\n",
    "\n",
    "Exemple:"
   ]
  },
  {
   "cell_type": "code",
   "execution_count": 24,
   "metadata": {},
   "outputs": [
    {
     "name": "stdout",
     "output_type": "stream",
     "text": [
      "[[1 0 0]\n",
      " [5 1 0]\n",
      " [2 9 5]]\n"
     ]
    }
   ],
   "source": [
    "B = np.array([[1, 0, 0], [5, 1, 0], [2, 9, 5]])\n",
    "print(B)"
   ]
  },
  {
   "cell_type": "markdown",
   "metadata": {},
   "source": [
    "#### Matrice diagonale\n",
    "$A$ est une matrice **diagonale** si tous ses éléments situés au-dessus de la diagonale sont nuls c'est-à-dire si \n",
    "$$ i \\neq j \\implies a_{i, j}=0 $$\n",
    "\n",
    "Exemple:"
   ]
  },
  {
   "cell_type": "code",
   "execution_count": 25,
   "metadata": {},
   "outputs": [
    {
     "name": "stdout",
     "output_type": "stream",
     "text": [
      "[[1 0 0]\n",
      " [0 5 0]\n",
      " [0 0 9]]\n"
     ]
    }
   ],
   "source": [
    "D = np.array([[1, 0, 0], [0, 5, 0], [0, 0, 9]])\n",
    "print(D)"
   ]
  },
  {
   "cell_type": "markdown",
   "metadata": {},
   "source": [
    "Parmis les matrices diagonales de $M_n (\\mathbb{R})$, la matrice ne présentant que des 1 sur al diagonale est la matrice identié. Elle est noté $I_n$ et elle possède un rôle bien particulier."
   ]
  },
  {
   "cell_type": "code",
   "execution_count": 33,
   "metadata": {},
   "outputs": [
    {
     "name": "stdout",
     "output_type": "stream",
     "text": [
      "[[1 0 0]\n",
      " [0 1 0]\n",
      " [0 0 1]]\n"
     ]
    }
   ],
   "source": [
    "I = np.identity(3, dtype='int')\n",
    "print(I)"
   ]
  },
  {
   "cell_type": "markdown",
   "metadata": {},
   "source": [
    "#### Matrice symétrique\n",
    "$A$ est une matrice **symétrique** si $A^t = A$, c'est-à-dire si \n",
    "\n",
    "Exemple:"
   ]
  },
  {
   "cell_type": "code",
   "execution_count": 27,
   "metadata": {},
   "outputs": [
    {
     "name": "stdout",
     "output_type": "stream",
     "text": [
      "[[-1  1  3]\n",
      " [ 1  4  0]\n",
      " [ 3  0  7]]\n"
     ]
    }
   ],
   "source": [
    "D = np.array([[-1, 1, 3], [1, 4, 0], [3, 0, 7]])\n",
    "print(D)"
   ]
  },
  {
   "cell_type": "markdown",
   "metadata": {},
   "source": [
    "## Le calcul matriciel\n",
    "Dans cette section nous allons détailler les règles du calcul matriciel. Si l'addition de deux matrices et la multiplication d'une matrice par une constante sont des opérations assez intuitives, il n'en est pas de même pour le produit matriciel."
   ]
  },
  {
   "cell_type": "markdown",
   "metadata": {},
   "source": [
    "### Somme et différence de deux matrices"
   ]
  },
  {
   "cell_type": "markdown",
   "metadata": {},
   "source": [
    "La somme de deux matrices $S = A + B$ est obtenu en additionnant les coefficients correspondants\n",
    "$$ s_{i,j} = a_{i,j} + b_{i,j} $$"
   ]
  },
  {
   "cell_type": "code",
   "execution_count": 42,
   "metadata": {},
   "outputs": [
    {
     "name": "stdout",
     "output_type": "stream",
     "text": [
      "[[ 1  2  9]\n",
      " [-7  0  8]]\n"
     ]
    }
   ],
   "source": [
    "A = np.array([[1, 2, 9], [-7, 0, 8]])\n",
    "print(A)"
   ]
  },
  {
   "cell_type": "code",
   "execution_count": 37,
   "metadata": {},
   "outputs": [
    {
     "name": "stdout",
     "output_type": "stream",
     "text": [
      "[[ 5  4 -1]\n",
      " [-2  3  0]]\n"
     ]
    }
   ],
   "source": [
    "B = np.array([[5, 4, -1], [-2, 3, 0]])\n",
    "print(B)"
   ]
  },
  {
   "cell_type": "code",
   "execution_count": 44,
   "metadata": {},
   "outputs": [
    {
     "name": "stdout",
     "output_type": "stream",
     "text": [
      "[[ 6  6  8]\n",
      " [-9  3  8]]\n"
     ]
    }
   ],
   "source": [
    "S = A + B\n",
    "print(S)"
   ]
  },
  {
   "cell_type": "markdown",
   "metadata": {},
   "source": [
    "La différence de deux matrices $S = A - B$ est obtenu en soustrayant les coefficients correspondants\n",
    "$$ d_{i,j} = a_{i,j} - b_{i,j} $$"
   ]
  },
  {
   "cell_type": "code",
   "execution_count": 45,
   "metadata": {},
   "outputs": [
    {
     "name": "stdout",
     "output_type": "stream",
     "text": [
      "[[-4 -2 10]\n",
      " [-5 -3  8]]\n"
     ]
    }
   ],
   "source": [
    "D = A - B\n",
    "print(D)"
   ]
  },
  {
   "cell_type": "markdown",
   "metadata": {},
   "source": [
    "**Propriété**  \n",
    "* L'addition est **commutative**: $A + B = B + A$\n",
    "* L'addition est **transitive**: $(A + B) + C = A + (B + C)$  \n",
    "* La matrice **nulle** noté 0 qui ne contient que des zéros est l'**élément neutre** de l'addition et de la soustraction."
   ]
  },
  {
   "cell_type": "code",
   "execution_count": 49,
   "metadata": {},
   "outputs": [
    {
     "name": "stdout",
     "output_type": "stream",
     "text": [
      "[[0. 0. 0.]\n",
      " [0. 0. 0.]]\n"
     ]
    }
   ],
   "source": [
    "Z = np.zeros((2, 3))\n",
    "print(Z)"
   ]
  },
  {
   "cell_type": "code",
   "execution_count": 53,
   "metadata": {},
   "outputs": [
    {
     "name": "stdout",
     "output_type": "stream",
     "text": [
      "[[ True  True  True]\n",
      " [ True  True  True]]\n"
     ]
    }
   ],
   "source": [
    "print(A + Z == A)"
   ]
  },
  {
   "cell_type": "code",
   "execution_count": 57,
   "metadata": {},
   "outputs": [
    {
     "name": "stdout",
     "output_type": "stream",
     "text": [
      "[[ True  True  True]\n",
      " [ True  True  True]]\n"
     ]
    }
   ],
   "source": [
    "print(B - Z == B)"
   ]
  },
  {
   "cell_type": "markdown",
   "metadata": {},
   "source": [
    "### Multiplication d'une matrice par un nombre\n",
    "Le produit d'une matrice A avec un scalaire $P = kA $ est obtenu en multipliant tous les coefficients par $k$.\n",
    "$$ p_{i,j} = k a_{i,j}$$"
   ]
  },
  {
   "cell_type": "code",
   "execution_count": 61,
   "metadata": {},
   "outputs": [
    {
     "name": "stdout",
     "output_type": "stream",
     "text": [
      "[[  2   4  18]\n",
      " [-14   0  16]]\n"
     ]
    }
   ],
   "source": [
    "P = 2 * A\n",
    "print(P)"
   ]
  },
  {
   "cell_type": "markdown",
   "metadata": {},
   "source": [
    "### Produit de deux matrices\n",
    "La multiplication de deux matrices est un peu plus complexe à mettre en oeuvre et n'est pas toujours possible. Pour pouvoir calculer $A \\times B$ il faut que ne nombre de colonne de $A$ soit égale au nombre de lignes de $B$.\n",
    "\n",
    "$$ c_{i, j} = \\sum_{k=0}^{p-1} a_{i, k} \\times b_{k, j} $$"
   ]
  },
  {
   "cell_type": "code",
   "execution_count": 63,
   "metadata": {},
   "outputs": [
    {
     "name": "stdout",
     "output_type": "stream",
     "text": [
      "[[ 1  2  9]\n",
      " [-7  0  8]]\n"
     ]
    }
   ],
   "source": [
    "A = np.array([[1, 2, 9], [-7, 0, 8]])\n",
    "print(A)"
   ]
  },
  {
   "cell_type": "code",
   "execution_count": 64,
   "metadata": {},
   "outputs": [
    {
     "name": "stdout",
     "output_type": "stream",
     "text": [
      "[[ 5  4 -1]\n",
      " [-2  3  0]\n",
      " [ 1  7 -2]]\n"
     ]
    }
   ],
   "source": [
    "B = np.array([[5, 4, -1], [-2, 3, 0], [1, 7, -2]])\n",
    "print(B)"
   ]
  },
  {
   "cell_type": "code",
   "execution_count": 69,
   "metadata": {},
   "outputs": [
    {
     "name": "stdout",
     "output_type": "stream",
     "text": [
      "[[ 10  73 -19]\n",
      " [-27  28  -9]]\n"
     ]
    }
   ],
   "source": [
    "M = np.matmul(A, B)\n",
    "print(M)"
   ]
  },
  {
   "cell_type": "markdown",
   "metadata": {},
   "source": [
    "**Propriété**  \n",
    "* La multiplication n'est **pas commutative**: $A \\times B \\neq B \\times A$ en général\n",
    "* La multiplication est **associative**: $(A \\times B) \\times C = A \\times (B \\times C)$\n",
    "* La matrice identité est l'**élément neutre** de la multiplication: $I_n \\times A = A \\times I_p = A$\n",
    "* La multiplication est **distributive** par rapport à l'addition: $A \\times (B + C) = A \\times B + A \\times C$ \n"
   ]
  },
  {
   "cell_type": "markdown",
   "metadata": {},
   "source": [
    "### La matrice identié\n",
    "La matrice identité est l'élément neutre de la multiplication."
   ]
  },
  {
   "cell_type": "code",
   "execution_count": 76,
   "metadata": {},
   "outputs": [
    {
     "name": "stdout",
     "output_type": "stream",
     "text": [
      "[[1 0]\n",
      " [0 1]]\n"
     ]
    }
   ],
   "source": [
    "I2 = np.identity(2, dtype=int)\n",
    "print(I2)"
   ]
  },
  {
   "cell_type": "code",
   "execution_count": 77,
   "metadata": {},
   "outputs": [
    {
     "name": "stdout",
     "output_type": "stream",
     "text": [
      "[[1 0 0]\n",
      " [0 1 0]\n",
      " [0 0 1]]\n"
     ]
    }
   ],
   "source": [
    "I3 = np.identity(3, dtype=int)\n",
    "print(I3)"
   ]
  },
  {
   "cell_type": "code",
   "execution_count": 78,
   "metadata": {},
   "outputs": [
    {
     "data": {
      "text/plain": [
       "array([[ 1,  2,  9],\n",
       "       [-7,  0,  8]])"
      ]
     },
     "execution_count": 78,
     "metadata": {},
     "output_type": "execute_result"
    }
   ],
   "source": [
    "np.matmul(I2, A)"
   ]
  },
  {
   "cell_type": "code",
   "execution_count": 79,
   "metadata": {},
   "outputs": [
    {
     "data": {
      "text/plain": [
       "array([[ 1,  2,  9],\n",
       "       [-7,  0,  8]])"
      ]
     },
     "execution_count": 79,
     "metadata": {},
     "output_type": "execute_result"
    }
   ],
   "source": [
    "np.matmul(A, I3)"
   ]
  },
  {
   "cell_type": "markdown",
   "metadata": {},
   "source": [
    "## Le cas particulier des matrices booléennes\n",
    "En utilisant des matrices booléennes, on a l'ensemble $K=\\{0, 1\\}$. Les sommes de matrices deviennent des sommes booléennes et les produits des produits booléens.\n",
    "Bien sûr la soustraction et la multiplication par un nombre différent de 0 ou de 1 n'ont plus de sens."
   ]
  },
  {
   "cell_type": "code",
   "execution_count": 164,
   "metadata": {},
   "outputs": [
    {
     "name": "stdout",
     "output_type": "stream",
     "text": [
      "[[1 0 0]\n",
      " [1 1 1]\n",
      " [0 1 1]]\n"
     ]
    }
   ],
   "source": [
    "A = np.array([[1, 0, 0], [1, 1, 1], [0, 1, 1]], dtype=bool)\n",
    "print(A*1)"
   ]
  },
  {
   "cell_type": "code",
   "execution_count": 165,
   "metadata": {},
   "outputs": [
    {
     "name": "stdout",
     "output_type": "stream",
     "text": [
      "[[0 1 1]\n",
      " [1 0 1]\n",
      " [0 0 1]]\n"
     ]
    }
   ],
   "source": [
    "B = np.array([[0, 1, 1], [1, 0, 1], [0, 0, 1]], dtype=bool)\n",
    "print(B*1)"
   ]
  },
  {
   "cell_type": "markdown",
   "metadata": {},
   "source": [
    "Alors la somme des deux matrices $A+B$ "
   ]
  },
  {
   "cell_type": "code",
   "execution_count": 171,
   "metadata": {},
   "outputs": [
    {
     "name": "stdout",
     "output_type": "stream",
     "text": [
      "[[1 1 1]\n",
      " [1 1 1]\n",
      " [0 1 1]]\n"
     ]
    }
   ],
   "source": [
    "print((A+B)*1)"
   ]
  },
  {
   "cell_type": "markdown",
   "metadata": {},
   "source": [
    "Ainsi que le produit $A \\times B$"
   ]
  },
  {
   "cell_type": "code",
   "execution_count": 176,
   "metadata": {},
   "outputs": [
    {
     "name": "stdout",
     "output_type": "stream",
     "text": [
      "[[0 1 1]\n",
      " [1 1 1]\n",
      " [1 0 1]]\n"
     ]
    }
   ],
   "source": [
    "print(np.matmul(A, B)*1)"
   ]
  },
  {
   "cell_type": "markdown",
   "metadata": {},
   "source": [
    "Les matrices booléennes sotn utiles par exemple dans l'étude des relations au sein d'un ensemble. Plutôt que de représenter une reation $R$ à l'aide d'un diagramme cartésien, on utilisera une matrice booléenne, les 1 correspondant aux cases cochées du diagramme. Plus précisement, si la matrice booléenne $A$ de dimension $n$ représente la relation $R$ su un ensemble $E=\\{e_1, e_2, ... e_n\\}$ alors $a_{i, j}$ vaut 1 lorsque $R(e_i, e_j)$ et 0 sinon."
   ]
  },
  {
   "cell_type": "code",
   "execution_count": 177,
   "metadata": {},
   "outputs": [],
   "source": [
    "E = {1, 2, 3, 4}\n",
    "\n",
    "def R1(a, b):\n",
    "    return a < b\n",
    "\n",
    "def R2(a, b):\n",
    "    return (a + b) % 2 == 0"
   ]
  },
  {
   "cell_type": "code",
   "execution_count": 185,
   "metadata": {},
   "outputs": [
    {
     "name": "stdout",
     "output_type": "stream",
     "text": [
      "[[0 1 1 1 1]\n",
      " [0 0 1 1 1]\n",
      " [0 0 0 1 1]\n",
      " [0 0 0 0 1]\n",
      " [0 0 0 0 0]]\n"
     ]
    }
   ],
   "source": [
    "A = np.fromfunction(R1, (5, 5))\n",
    "print(A * 1)"
   ]
  },
  {
   "cell_type": "code",
   "execution_count": 184,
   "metadata": {},
   "outputs": [
    {
     "name": "stdout",
     "output_type": "stream",
     "text": [
      "[[1 0 1 0 1]\n",
      " [0 1 0 1 0]\n",
      " [1 0 1 0 1]\n",
      " [0 1 0 1 0]\n",
      " [1 0 1 0 1]]\n"
     ]
    }
   ],
   "source": [
    "B = np.fromfunction(R2, (5, 5))\n",
    "print(B * 1)"
   ]
  },
  {
   "cell_type": "markdown",
   "metadata": {},
   "source": [
    "**Propriétés**  \n",
    "* $R$ est réflexive si $A$ comporte uniquement des 1 sur sa diagonale ce qui se traduit par $A \\ge I_n$\n",
    "* $R$ est symétrique ou antisymetrique si $A$ l'est\n",
    "* $R$ est transitive sur $A \\ge A^2$\n",
    "\n",
    "$A \\ge A^2$ signifie que les coefficients de $A$ sont supérieur ou égaux aux coefficents de $A^2$ correspondants.\n",
    "La dernière propriété apporte un vrai plus car elle fournit un moyen vraiment efficace permettant de vérifier rapidement le caractère transitif d'une relation."
   ]
  },
  {
   "cell_type": "code",
   "execution_count": 189,
   "metadata": {},
   "outputs": [
    {
     "name": "stdout",
     "output_type": "stream",
     "text": [
      "[[0 0 1 1 1]\n",
      " [0 0 0 1 1]\n",
      " [0 0 0 0 1]\n",
      " [0 0 0 0 0]\n",
      " [0 0 0 0 0]]\n"
     ]
    }
   ],
   "source": [
    "print(np.matmul(A, A)*1)"
   ]
  },
  {
   "cell_type": "code",
   "execution_count": 190,
   "metadata": {},
   "outputs": [
    {
     "name": "stdout",
     "output_type": "stream",
     "text": [
      "[[1 0 1 0 1]\n",
      " [0 1 0 1 0]\n",
      " [1 0 1 0 1]\n",
      " [0 1 0 1 0]\n",
      " [1 0 1 0 1]]\n"
     ]
    }
   ],
   "source": [
    "print(np.matmul(B, B)*1)"
   ]
  },
  {
   "cell_type": "markdown",
   "metadata": {},
   "source": [
    "## Exercices"
   ]
  },
  {
   "cell_type": "markdown",
   "metadata": {},
   "source": [
    "### Exercice 1 - coefficient général\n",
    "Représenter les matrices carrées de dimension 4 dont le coefficient général est donnée par \n",
    "* $a_{i, j} = i + j$\n",
    "* $b_{i, j} = (-1)^{i + j}$\n",
    "* $c_{i, j} = a_{i, j} + b_{i, j}$\n",
    "\n",
    "Remarque : les indices de Python commencent à zéro : $i, j \\in \\{0, 1, 2, 3\\}$"
   ]
  },
  {
   "cell_type": "code",
   "execution_count": 193,
   "metadata": {},
   "outputs": [
    {
     "name": "stdout",
     "output_type": "stream",
     "text": [
      "[[0 1 2 3]\n",
      " [1 2 3 4]\n",
      " [2 3 4 5]\n",
      " [3 4 5 6]]\n"
     ]
    }
   ],
   "source": [
    "A = np.fromfunction(lambda i, j: i + j, (4, 4), dtype=int)\n",
    "print(A)"
   ]
  },
  {
   "cell_type": "code",
   "execution_count": 194,
   "metadata": {},
   "outputs": [
    {
     "name": "stdout",
     "output_type": "stream",
     "text": [
      "[[ 1 -1  1 -1]\n",
      " [-1  1 -1  1]\n",
      " [ 1 -1  1 -1]\n",
      " [-1  1 -1  1]]\n"
     ]
    }
   ],
   "source": [
    "B = np.fromfunction(lambda i, j: (-1)**(i + j), (4, 4), dtype=int)\n",
    "print(B)"
   ]
  },
  {
   "cell_type": "code",
   "execution_count": 198,
   "metadata": {},
   "outputs": [
    {
     "name": "stdout",
     "output_type": "stream",
     "text": [
      "[[1 0 3 2]\n",
      " [0 3 2 5]\n",
      " [3 2 5 4]\n",
      " [2 5 4 7]]\n"
     ]
    }
   ],
   "source": [
    "C = A + B\n",
    "print(C)"
   ]
  },
  {
   "cell_type": "markdown",
   "metadata": {},
   "source": [
    "### Exercice 2 - matrice carrée\n",
    "Donner une matrice carrée de dimension 3 qui, quand on l'ajoute à sa transposé, donne la matrice identité."
   ]
  },
  {
   "cell_type": "code",
   "execution_count": 200,
   "metadata": {},
   "outputs": [
    {
     "name": "stdout",
     "output_type": "stream",
     "text": [
      "[[ 0.5  1.   1. ]\n",
      " [-1.   0.5  1. ]\n",
      " [-1.  -1.   0.5]]\n"
     ]
    }
   ],
   "source": [
    "A = np.array([[.5, 1, 1], [-1, 0.5, 1], [-1, -1, 0.5]])\n",
    "print(A)"
   ]
  },
  {
   "cell_type": "code",
   "execution_count": 201,
   "metadata": {},
   "outputs": [
    {
     "name": "stdout",
     "output_type": "stream",
     "text": [
      "[[1. 0. 0.]\n",
      " [0. 1. 0.]\n",
      " [0. 0. 1.]]\n"
     ]
    }
   ],
   "source": [
    "print(A + A.transpose())"
   ]
  },
  {
   "cell_type": "markdown",
   "metadata": {},
   "source": [
    "### Exercice 3 - matrice antisymétrique\n",
    "Que valent forcément les coefficients d'une matrice carrée antisymétrique ?"
   ]
  },
  {
   "cell_type": "markdown",
   "metadata": {},
   "source": [
    "Pour les coefficients de la diagonale : $a_{i, i} = -a_{i, i}$, donc ils sont zéro."
   ]
  },
  {
   "cell_type": "markdown",
   "metadata": {},
   "source": [
    "### Exercice 4 - propriétés des matrices\n",
    "Donner une matrice carrée de dimension 3 qui soit à la fois:\n",
    "1. symétrique et antisymétrique\n",
    "1. triangulaire supérieure et inférieure\n",
    "1. antisymétrique et triangulaire inférieure"
   ]
  },
  {
   "cell_type": "markdown",
   "metadata": {},
   "source": [
    "Symétrique et antisymétrique:  \n",
    "$a_{i, j} = a_{j, i} = -a_{j, i}$  \n",
    "c'est donc la matrice nulle"
   ]
  },
  {
   "cell_type": "code",
   "execution_count": 206,
   "metadata": {},
   "outputs": [
    {
     "name": "stdout",
     "output_type": "stream",
     "text": [
      "[[0. 0. 0.]\n",
      " [0. 0. 0.]\n",
      " [0. 0. 0.]]\n"
     ]
    }
   ],
   "source": [
    "A = np.zeros((3, 3))\n",
    "print(A)"
   ]
  },
  {
   "cell_type": "markdown",
   "metadata": {},
   "source": [
    "Triangulaire supérieure et inférieure:  \n",
    "c'est donc une matrice diagonale"
   ]
  },
  {
   "cell_type": "code",
   "execution_count": 210,
   "metadata": {},
   "outputs": [
    {
     "name": "stdout",
     "output_type": "stream",
     "text": [
      "[[1 0 0]\n",
      " [0 2 0]\n",
      " [0 0 3]]\n"
     ]
    }
   ],
   "source": [
    "B = np.diag([1, 2, 3])\n",
    "print(B)"
   ]
  },
  {
   "cell_type": "markdown",
   "metadata": {},
   "source": [
    "Antisymétrique et triangulaire inférieure:  \n",
    "c'est donc une matrice nulle."
   ]
  },
  {
   "cell_type": "code",
   "execution_count": 206,
   "metadata": {},
   "outputs": [
    {
     "name": "stdout",
     "output_type": "stream",
     "text": [
      "[[0. 0. 0.]\n",
      " [0. 0. 0.]\n",
      " [0. 0. 0.]]\n"
     ]
    }
   ],
   "source": [
    "A = np.zeros((3, 3))\n",
    "print(A)"
   ]
  },
  {
   "cell_type": "markdown",
   "metadata": {},
   "source": [
    "### Exercice 5 - multiplication\n",
    "Soient les matrices suivantes:"
   ]
  },
  {
   "cell_type": "code",
   "execution_count": 211,
   "metadata": {},
   "outputs": [
    {
     "name": "stdout",
     "output_type": "stream",
     "text": [
      "[[1 2 3]\n",
      " [0 1 3]]\n"
     ]
    }
   ],
   "source": [
    "A = np.array([[1, 2, 3], [0, 1, 3]])\n",
    "print(A)"
   ]
  },
  {
   "cell_type": "code",
   "execution_count": 212,
   "metadata": {},
   "outputs": [
    {
     "name": "stdout",
     "output_type": "stream",
     "text": [
      "[[ 3  1  0]\n",
      " [-1  1  2]\n",
      " [ 0  1  1]]\n"
     ]
    }
   ],
   "source": [
    "B = np.array([[3, 1, 0], [-1, 1, 2], [0, 1, 1]])\n",
    "print(B)"
   ]
  },
  {
   "cell_type": "code",
   "execution_count": 213,
   "metadata": {},
   "outputs": [
    {
     "name": "stdout",
     "output_type": "stream",
     "text": [
      "[[2]\n",
      " [1]]\n"
     ]
    }
   ],
   "source": [
    "C = np.array([[2], [1]])\n",
    "print(C)"
   ]
  },
  {
   "cell_type": "code",
   "execution_count": 215,
   "metadata": {},
   "outputs": [
    {
     "name": "stdout",
     "output_type": "stream",
     "text": [
      "[[1 2 3]]\n"
     ]
    }
   ],
   "source": [
    "D = np.array([[1, 2, 3]])\n",
    "print(D)"
   ]
  },
  {
   "cell_type": "code",
   "execution_count": 216,
   "metadata": {},
   "outputs": [
    {
     "name": "stdout",
     "output_type": "stream",
     "text": [
      "[[ 1]\n",
      " [ 0]\n",
      " [-1]]\n"
     ]
    }
   ],
   "source": [
    "E = np.array([[1], [0], [-1]])\n",
    "print(E)"
   ]
  },
  {
   "cell_type": "code",
   "execution_count": 218,
   "metadata": {},
   "outputs": [
    {
     "name": "stdout",
     "output_type": "stream",
     "text": [
      "[[ 1 -1]\n",
      " [-1  1]]\n"
     ]
    }
   ],
   "source": [
    "F = np.array([[1, -1], [-1, 1]])\n",
    "print(F)"
   ]
  },
  {
   "cell_type": "code",
   "execution_count": 219,
   "metadata": {},
   "outputs": [
    {
     "name": "stdout",
     "output_type": "stream",
     "text": [
      "[[-2]]\n"
     ]
    }
   ],
   "source": [
    "print(np.matmul(D, E))"
   ]
  },
  {
   "cell_type": "code",
   "execution_count": 220,
   "metadata": {},
   "outputs": [
    {
     "name": "stdout",
     "output_type": "stream",
     "text": [
      "[[ 1  2  3]\n",
      " [ 0  0  0]\n",
      " [-1 -2 -3]]\n"
     ]
    }
   ],
   "source": [
    "print(np.matmul(E, D))"
   ]
  },
  {
   "cell_type": "code",
   "execution_count": 224,
   "metadata": {},
   "outputs": [
    {
     "name": "stdout",
     "output_type": "stream",
     "text": [
      "[[-2 -4 -6]\n",
      " [-3 -6 -9]]\n"
     ]
    }
   ],
   "source": [
    "print(np.matmul(np.matmul(A, E), D))"
   ]
  },
  {
   "cell_type": "code",
   "execution_count": 226,
   "metadata": {},
   "outputs": [
    {
     "name": "stdout",
     "output_type": "stream",
     "text": [
      "[[ 1  6  7]\n",
      " [-1 -6 -7]]\n"
     ]
    }
   ],
   "source": [
    "print(np.matmul(np.matmul(np.matmul(F, C), D), B))"
   ]
  },
  {
   "cell_type": "code",
   "execution_count": 228,
   "metadata": {},
   "outputs": [],
   "source": [
    "#print(np.matmul(np.matmul(np.matmul(B, E), C), D)) #error: shapes not aligned"
   ]
  },
  {
   "cell_type": "markdown",
   "metadata": {},
   "source": [
    "### Exercice 6 - distributivité\n",
    "Soient les matrices $A$, $B$ et $C$.  \n",
    "Vérifier que $(A+B) \\times C = A \\times C + B \\times C$"
   ]
  },
  {
   "cell_type": "code",
   "execution_count": 250,
   "metadata": {},
   "outputs": [],
   "source": [
    "A = np.array([[1, 2], [4, -1]])\n",
    "B = np.array([[0, 3], [-7, 5]])\n",
    "C = np.array([[1, 0], [2, -2]])"
   ]
  },
  {
   "cell_type": "code",
   "execution_count": 252,
   "metadata": {},
   "outputs": [
    {
     "name": "stdout",
     "output_type": "stream",
     "text": [
      "[[ 11 -10]\n",
      " [  5  -8]]\n"
     ]
    }
   ],
   "source": [
    "print(np.matmul(A + B, C))"
   ]
  },
  {
   "cell_type": "code",
   "execution_count": 255,
   "metadata": {},
   "outputs": [
    {
     "name": "stdout",
     "output_type": "stream",
     "text": [
      "[[ 11 -10]\n",
      " [  5  -8]]\n"
     ]
    }
   ],
   "source": [
    "print(np.matmul(A, C) + np.matmul(B, C))"
   ]
  },
  {
   "cell_type": "code",
   "execution_count": 262,
   "metadata": {},
   "outputs": [
    {
     "data": {
      "text/plain": [
       "True"
      ]
     },
     "execution_count": 262,
     "metadata": {},
     "output_type": "execute_result"
    }
   ],
   "source": [
    "(np.matmul(A + B, C) == np.matmul(A, C) + np.matmul(B, C)).all()"
   ]
  },
  {
   "cell_type": "markdown",
   "metadata": {},
   "source": [
    "### Exercice 7"
   ]
  },
  {
   "cell_type": "markdown",
   "metadata": {},
   "source": [
    "### Exercice 8 - commutativité\n",
    "Donner deux matrices carrées $A$ et $B$ de dimension 2 telles que $A \\times B = 0$ et $B \\times A \\neq 0$"
   ]
  },
  {
   "cell_type": "code",
   "execution_count": 278,
   "metadata": {},
   "outputs": [
    {
     "name": "stdout",
     "output_type": "stream",
     "text": [
      "[[1 1]\n",
      " [2 2]]\n"
     ]
    }
   ],
   "source": [
    "A = np.array([[1, 1], [2, 2]])\n",
    "print(A)"
   ]
  },
  {
   "cell_type": "code",
   "execution_count": 281,
   "metadata": {},
   "outputs": [
    {
     "name": "stdout",
     "output_type": "stream",
     "text": [
      "[[ 1 -1]\n",
      " [-1  1]]\n"
     ]
    }
   ],
   "source": [
    "B = np.array([[1, -1], [-1, 1]])\n",
    "print(B)"
   ]
  },
  {
   "cell_type": "code",
   "execution_count": 282,
   "metadata": {},
   "outputs": [
    {
     "data": {
      "text/plain": [
       "array([[0, 0],\n",
       "       [0, 0]])"
      ]
     },
     "execution_count": 282,
     "metadata": {},
     "output_type": "execute_result"
    }
   ],
   "source": [
    "np.matmul(A, B)"
   ]
  },
  {
   "cell_type": "code",
   "execution_count": 283,
   "metadata": {},
   "outputs": [
    {
     "data": {
      "text/plain": [
       "array([[-1, -1],\n",
       "       [ 1,  1]])"
      ]
     },
     "execution_count": 283,
     "metadata": {},
     "output_type": "execute_result"
    }
   ],
   "source": [
    "np.matmul(B, A)"
   ]
  },
  {
   "cell_type": "markdown",
   "metadata": {},
   "source": [
    "### Exercice 9 - coûts de véhicule\n",
    "Un artisan a besoin de louer un véhicule pendant 4 jours pour effectuer au total 500 km. Il a le choix entre trois loueurs dont les tarifs sont les suivants:\n",
    "* loueur A: 70 Euros par jour\n",
    "* loueur B: 50 centimes par km parcouru\n",
    "* loueur C: 40 Euros par jour plus 40 centimes par km parcouru\n",
    "\n",
    "Ecrire deux matrices ayant pour produit une matrice colonne contenant les montants que devrait payer l'artisan.  \n",
    "Quel loueur a-t-il intérêt à choisir"
   ]
  },
  {
   "cell_type": "code",
   "execution_count": 300,
   "metadata": {},
   "outputs": [
    {
     "name": "stdout",
     "output_type": "stream",
     "text": [
      "[[280.]\n",
      " [250.]\n",
      " [360.]]\n"
     ]
    }
   ],
   "source": [
    "A = np.array([[70, 0], [0, 0.5], [40, 0.4]])\n",
    "B = np.array([[4], [500]])\n",
    "\n",
    "C = np.matmul(A,B)\n",
    "print(C)"
   ]
  },
  {
   "cell_type": "markdown",
   "metadata": {},
   "source": [
    "Il devrait choisir loueur B"
   ]
  },
  {
   "cell_type": "markdown",
   "metadata": {},
   "source": [
    "### Exercice 10 - coûts de jouets\n",
    "Reprenons l'entreprise du début de ce chaptire. Elle fabrique trois types de jouets en bois pour lesquels on dispose des informations suivantes: \n",
    "\n",
    "| -  | Main d'oevre (heures) | Bois (cubes) | Peinture (litres) |\n",
    "|---|--------------------------|-----------------|----------------------|\n",
    "| Jouet A | 2   | 1  | 2  |\n",
    "| Jouet B | 2.5 | 4  | 4  |\n",
    "| Jouet C | 1.5 | 3  | 2.5|\n",
    "\n",
    "On sait de plus que les coûts pour l'entreprise sont de 30 Euros pour l'heure de main d'oeuvre, 10 Euro par cube de bois et 15 Euros par littre de peinture.\n",
    "\n",
    "On pose:"
   ]
  },
  {
   "cell_type": "code",
   "execution_count": 238,
   "metadata": {},
   "outputs": [
    {
     "name": "stdout",
     "output_type": "stream",
     "text": [
      "[[2.  1.  2. ]\n",
      " [2.5 4.  4. ]\n",
      " [1.5 3.  2.5]]\n"
     ]
    }
   ],
   "source": [
    "A = np.array([[2, 1, 2], [2.5, 4, 4], [1.5, 3, 2.5]])\n",
    "print(A)"
   ]
  },
  {
   "cell_type": "code",
   "execution_count": 245,
   "metadata": {},
   "outputs": [
    {
     "name": "stdout",
     "output_type": "stream",
     "text": [
      "[[30]\n",
      " [10]\n",
      " [15]]\n"
     ]
    }
   ],
   "source": [
    "Cost = np.array([[30], [10], [15]])\n",
    "print(Cost)"
   ]
  },
  {
   "cell_type": "code",
   "execution_count": 240,
   "metadata": {},
   "outputs": [
    {
     "name": "stdout",
     "output_type": "stream",
     "text": [
      "[100 200 150]\n"
     ]
    }
   ],
   "source": [
    "Quantity = np.array([100, 200, 150])\n",
    "print(Quantity)"
   ]
  },
  {
   "cell_type": "code",
   "execution_count": 248,
   "metadata": {},
   "outputs": [
    {
     "name": "stdout",
     "output_type": "stream",
     "text": [
      "[[100. ]\n",
      " [175. ]\n",
      " [112.5]]\n"
     ]
    }
   ],
   "source": [
    "# Unitary cost per toy\n",
    "D = np.matmul(A, Cost)\n",
    "print(D)"
   ]
  },
  {
   "cell_type": "code",
   "execution_count": 243,
   "metadata": {},
   "outputs": [
    {
     "name": "stdout",
     "output_type": "stream",
     "text": [
      "[ 925. 1350. 1375.]\n"
     ]
    }
   ],
   "source": [
    "# Total resources consumed\n",
    "print(np.matmul(Quantity, A))"
   ]
  },
  {
   "cell_type": "code",
   "execution_count": 249,
   "metadata": {},
   "outputs": [
    {
     "name": "stdout",
     "output_type": "stream",
     "text": [
      "[61875.]\n"
     ]
    }
   ],
   "source": [
    "# Total cost\n",
    "print(np.matmul(Quantity, D))"
   ]
  },
  {
   "cell_type": "markdown",
   "metadata": {},
   "source": [
    "### Exercice 11"
   ]
  },
  {
   "cell_type": "markdown",
   "metadata": {},
   "source": [
    "### Exercice 12"
   ]
  },
  {
   "cell_type": "markdown",
   "metadata": {},
   "source": [
    "### Exercice 13"
   ]
  },
  {
   "cell_type": "markdown",
   "metadata": {},
   "source": [
    "### Exercice 14 - puissance\n",
    "Soit la matrice booléenne\n",
    "\n",
    "$A=\n",
    "\\begin{pmatrix} \n",
    "0 & 1 & 1 \\\\\n",
    "1 & 0 & 1 \\\\\n",
    "1 & 1 & 0 \\\\\n",
    "\\end{pmatrix}\n",
    "$\n",
    "\n",
    "Calculer $A^n$ pour tout entier $n$ strictement positif lorsque le produit est le produit classique et lorsque le produit est le produit booléen."
   ]
  },
  {
   "cell_type": "code",
   "execution_count": 310,
   "metadata": {},
   "outputs": [
    {
     "name": "stdout",
     "output_type": "stream",
     "text": [
      "[[0 1 1]\n",
      " [1 0 1]\n",
      " [1 1 0]]\n"
     ]
    }
   ],
   "source": [
    "A = np.array([[0, 1, 1], [1, 0, 1], [1, 1, 0]])\n",
    "print(A)"
   ]
  },
  {
   "cell_type": "code",
   "execution_count": 311,
   "metadata": {},
   "outputs": [
    {
     "name": "stdout",
     "output_type": "stream",
     "text": [
      "n = 2\n",
      "[[2 1 1]\n",
      " [1 2 1]\n",
      " [1 1 2]]\n",
      "\n",
      "n = 3\n",
      "[[2 3 3]\n",
      " [3 2 3]\n",
      " [3 3 2]]\n",
      "\n",
      "n = 4\n",
      "[[6 5 5]\n",
      " [5 6 5]\n",
      " [5 5 6]]\n",
      "\n",
      "n = 5\n",
      "[[10 11 11]\n",
      " [11 10 11]\n",
      " [11 11 10]]\n",
      "\n"
     ]
    }
   ],
   "source": [
    "B = A\n",
    "for i in range(2, 6):\n",
    "    print('n =', i)\n",
    "    B = np.matmul(B, A)\n",
    "    print(B)\n",
    "    print()"
   ]
  },
  {
   "cell_type": "code",
   "execution_count": 308,
   "metadata": {},
   "outputs": [
    {
     "name": "stdout",
     "output_type": "stream",
     "text": [
      "n = 2\n",
      "[[1 1 1]\n",
      " [1 1 1]\n",
      " [1 1 1]]\n",
      "\n",
      "n = 3\n",
      "[[1 1 1]\n",
      " [1 1 1]\n",
      " [1 1 1]]\n",
      "\n",
      "n = 4\n",
      "[[1 1 1]\n",
      " [1 1 1]\n",
      " [1 1 1]]\n",
      "\n"
     ]
    }
   ],
   "source": [
    "A = np.array([[0, 1, 1], [1, 0, 1], [1, 1, 0]], dtype=bool)\n",
    "B = A\n",
    "for i in range(2, 5):\n",
    "    print('n =', i)\n",
    "    B = np.matmul(B, A)\n",
    "    print(B *1)\n",
    "    print()"
   ]
  }
 ],
 "metadata": {
  "kernelspec": {
   "display_name": "Python 3",
   "language": "python",
   "name": "python3"
  },
  "language_info": {
   "codemirror_mode": {
    "name": "ipython",
    "version": 3
   },
   "file_extension": ".py",
   "mimetype": "text/x-python",
   "name": "python",
   "nbconvert_exporter": "python",
   "pygments_lexer": "ipython3",
   "version": "3.7.0"
  }
 },
 "nbformat": 4,
 "nbformat_minor": 2
}
