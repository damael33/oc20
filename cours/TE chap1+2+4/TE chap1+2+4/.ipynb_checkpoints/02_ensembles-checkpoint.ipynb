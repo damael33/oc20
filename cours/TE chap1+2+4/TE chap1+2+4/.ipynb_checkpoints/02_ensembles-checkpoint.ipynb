{
 "cells": [
  {
   "cell_type": "markdown",
   "metadata": {},
   "source": [
    "# Les ensembles\n",
    "La théorie des ensembles a été introduit par le mathématicien allemand Georg Cantor dans les années 1880.  "
   ]
  },
  {
   "cell_type": "markdown",
   "metadata": {},
   "source": [
    "## Propriétés principales "
   ]
  },
  {
   "cell_type": "markdown",
   "metadata": {},
   "source": [
    "### Ensembles, sous-ensembles et éléments\n",
    "Un **ensemble** est une collection d'objets (que l'on appele alors **éléments**) ayant une propriété commune. Si $x$ est un élément de l'ensemble $A$, alros $x$ appartient à $A$, ce qui est noté $x \\in A$. Sinon $x$ n'appartient pas à $A$ ce qui est noté $x \\notin A$.\n",
    "\n",
    "En Python un ensemble est dénoté avec des accolades."
   ]
  },
  {
   "cell_type": "code",
   "execution_count": 3,
   "metadata": {},
   "outputs": [
    {
     "data": {
      "text/plain": [
       "{1, 2, 3}"
      ]
     },
     "execution_count": 3,
     "metadata": {},
     "output_type": "execute_result"
    }
   ],
   "source": [
    "A = {1, 2, 3, 1, 1, 1, 2}\n",
    "A"
   ]
  },
  {
   "cell_type": "code",
   "execution_count": 5,
   "metadata": {},
   "outputs": [
    {
     "data": {
      "text/plain": [
       "13"
      ]
     },
     "execution_count": 5,
     "metadata": {},
     "output_type": "execute_result"
    }
   ],
   "source": [
    "s = 'les ensembles'\n",
    "len(s)"
   ]
  },
  {
   "cell_type": "code",
   "execution_count": 6,
   "metadata": {},
   "outputs": [
    {
     "data": {
      "text/plain": [
       "['l', 'e', 's', ' ', 'e', 'n', 's', 'e', 'm', 'b', 'l', 'e', 's']"
      ]
     },
     "execution_count": 6,
     "metadata": {},
     "output_type": "execute_result"
    }
   ],
   "source": [
    "list(s)"
   ]
  },
  {
   "cell_type": "code",
   "execution_count": 7,
   "metadata": {},
   "outputs": [
    {
     "data": {
      "text/plain": [
       "{' ', 'b', 'e', 'l', 'm', 'n', 's'}"
      ]
     },
     "execution_count": 7,
     "metadata": {},
     "output_type": "execute_result"
    }
   ],
   "source": [
    "set(s)"
   ]
  },
  {
   "cell_type": "code",
   "execution_count": 8,
   "metadata": {},
   "outputs": [
    {
     "data": {
      "text/plain": [
       "7"
      ]
     },
     "execution_count": 8,
     "metadata": {},
     "output_type": "execute_result"
    }
   ],
   "source": [
    "len(set(s))"
   ]
  },
  {
   "cell_type": "markdown",
   "metadata": {},
   "source": [
    "Le type d'un set est `set`."
   ]
  },
  {
   "cell_type": "code",
   "execution_count": 9,
   "metadata": {},
   "outputs": [
    {
     "data": {
      "text/plain": [
       "set"
      ]
     },
     "execution_count": 9,
     "metadata": {},
     "output_type": "execute_result"
    }
   ],
   "source": [
    "type(A)"
   ]
  },
  {
   "cell_type": "markdown",
   "metadata": {},
   "source": [
    "L'opérateur `in` permet de tester si $x \\in A$"
   ]
  },
  {
   "cell_type": "code",
   "execution_count": 10,
   "metadata": {},
   "outputs": [
    {
     "data": {
      "text/plain": [
       "True"
      ]
     },
     "execution_count": 10,
     "metadata": {},
     "output_type": "execute_result"
    }
   ],
   "source": [
    "x = 1\n",
    "x in A"
   ]
  },
  {
   "cell_type": "markdown",
   "metadata": {},
   "source": [
    "L'opérateur `not in` permet de tester si $x \\notin A$"
   ]
  },
  {
   "cell_type": "code",
   "execution_count": 11,
   "metadata": {},
   "outputs": [
    {
     "data": {
      "text/plain": [
       "False"
      ]
     },
     "execution_count": 11,
     "metadata": {},
     "output_type": "execute_result"
    }
   ],
   "source": [
    "x not in A"
   ]
  },
  {
   "cell_type": "markdown",
   "metadata": {},
   "source": [
    "Si tout les éléments d'un unsemble $B$ appartiennent à $A$, alors $B$ est inclus dans $A$ ce qui est noté par $B \\subset A$. Alors $B$ est appelé un **sous-ensemble** de $A$."
   ]
  },
  {
   "cell_type": "code",
   "execution_count": 12,
   "metadata": {},
   "outputs": [],
   "source": [
    "B = {1, 2}"
   ]
  },
  {
   "cell_type": "code",
   "execution_count": 13,
   "metadata": {},
   "outputs": [
    {
     "data": {
      "text/plain": [
       "True"
      ]
     },
     "execution_count": 13,
     "metadata": {},
     "output_type": "execute_result"
    }
   ],
   "source": [
    "B.issubset(A)"
   ]
  },
  {
   "cell_type": "code",
   "execution_count": 15,
   "metadata": {},
   "outputs": [
    {
     "data": {
      "text/plain": [
       "True"
      ]
     },
     "execution_count": 15,
     "metadata": {},
     "output_type": "execute_result"
    }
   ],
   "source": [
    "{1, 2}.issubset({2, 3, 4, 1})"
   ]
  },
  {
   "cell_type": "markdown",
   "metadata": {},
   "source": [
    "Si au moins un élément de $C$ n'est pas dans $A$, alors $C$ n'est pas inclus dans $B$ ce qui est noté $C \\not\\subset A$"
   ]
  },
  {
   "cell_type": "code",
   "execution_count": 16,
   "metadata": {},
   "outputs": [
    {
     "data": {
      "text/plain": [
       "False"
      ]
     },
     "execution_count": 16,
     "metadata": {},
     "output_type": "execute_result"
    }
   ],
   "source": [
    "C = {0, 1}\n",
    "C.issubset(A)"
   ]
  },
  {
   "cell_type": "markdown",
   "metadata": {},
   "source": [
    "L'ensemble sans éléments est l'ensemble vide, noté $\\emptyset$"
   ]
  },
  {
   "cell_type": "code",
   "execution_count": 17,
   "metadata": {},
   "outputs": [],
   "source": [
    "D = {}"
   ]
  },
  {
   "cell_type": "markdown",
   "metadata": {},
   "source": [
    "### L'intersection\n",
    "Soient $A$ et $B$ deux ensembles. L'ensemble des éléments qui sont à la fois dans $A$ et dans $B$ constitutent l'**intersection** de $A$ et de $B$, ce qui est noté $A \\cap B$."
   ]
  },
  {
   "cell_type": "code",
   "execution_count": 18,
   "metadata": {},
   "outputs": [],
   "source": [
    "A = {1, 2, 8, 9}\n",
    "B = {0, 2, 7, 8}\n",
    "C = {3, 4, 7}"
   ]
  },
  {
   "cell_type": "code",
   "execution_count": 19,
   "metadata": {},
   "outputs": [
    {
     "data": {
      "text/plain": [
       "{1, 2, 8, 9}"
      ]
     },
     "execution_count": 19,
     "metadata": {},
     "output_type": "execute_result"
    }
   ],
   "source": [
    "A"
   ]
  },
  {
   "cell_type": "markdown",
   "metadata": {},
   "source": [
    "En Python la méthode `intersection` permet de calculer l'intersection.\n",
    "Alors les 3 intersections $A \\cap B$, $A \\cap C$ et $B \\cap C$, sont:"
   ]
  },
  {
   "cell_type": "code",
   "execution_count": 20,
   "metadata": {},
   "outputs": [
    {
     "data": {
      "text/plain": [
       "{2, 8}"
      ]
     },
     "execution_count": 20,
     "metadata": {},
     "output_type": "execute_result"
    }
   ],
   "source": [
    "A.intersection(B)"
   ]
  },
  {
   "cell_type": "code",
   "execution_count": 21,
   "metadata": {},
   "outputs": [
    {
     "data": {
      "text/plain": [
       "set()"
      ]
     },
     "execution_count": 21,
     "metadata": {},
     "output_type": "execute_result"
    }
   ],
   "source": [
    "A.intersection(C)"
   ]
  },
  {
   "cell_type": "code",
   "execution_count": 13,
   "metadata": {},
   "outputs": [
    {
     "data": {
      "text/plain": [
       "{7}"
      ]
     },
     "execution_count": 13,
     "metadata": {},
     "output_type": "execute_result"
    }
   ],
   "source": [
    "B.intersection(C)"
   ]
  },
  {
   "cell_type": "markdown",
   "metadata": {},
   "source": [
    "En Python l'opérateur `&` signifie l'intersection."
   ]
  },
  {
   "cell_type": "code",
   "execution_count": 22,
   "metadata": {},
   "outputs": [
    {
     "data": {
      "text/plain": [
       "({2, 8}, set(), {7})"
      ]
     },
     "execution_count": 22,
     "metadata": {},
     "output_type": "execute_result"
    }
   ],
   "source": [
    "A & B, A & C, B & C"
   ]
  },
  {
   "cell_type": "markdown",
   "metadata": {},
   "source": [
    "### La réunion\n",
    "L'ensemble des éléments qui sont dans $A$ ou $B$ constitue la **réunion** de $A$ et $B$, ce qui est noté $A \\cap B$ (A union B)"
   ]
  },
  {
   "cell_type": "code",
   "execution_count": 30,
   "metadata": {},
   "outputs": [
    {
     "name": "stdout",
     "output_type": "stream",
     "text": [
      "{0, 1, 2, 7, 8, 9}\n",
      "{0, 1, 2, 7, 8, 9}\n"
     ]
    }
   ],
   "source": [
    "print(A.union(B))\n",
    "print(A | B)"
   ]
  },
  {
   "cell_type": "code",
   "execution_count": 25,
   "metadata": {},
   "outputs": [
    {
     "data": {
      "text/plain": [
       "{1, 2, 3, 4, 7, 8, 9}"
      ]
     },
     "execution_count": 25,
     "metadata": {},
     "output_type": "execute_result"
    }
   ],
   "source": [
    "A.union(C)"
   ]
  },
  {
   "cell_type": "code",
   "execution_count": 31,
   "metadata": {},
   "outputs": [
    {
     "name": "stdout",
     "output_type": "stream",
     "text": [
      "{0, 1, 2, 3, 4, 7, 8, 9}\n",
      "{0, 1, 2, 3, 4, 7, 8, 9}\n"
     ]
    }
   ],
   "source": [
    "print(A.union(B, C))\n",
    "print(A | B | C)"
   ]
  },
  {
   "cell_type": "code",
   "execution_count": 27,
   "metadata": {},
   "outputs": [
    {
     "data": {
      "text/plain": [
       "{0, 1, 2, 7, 8, 9}"
      ]
     },
     "execution_count": 27,
     "metadata": {},
     "output_type": "execute_result"
    }
   ],
   "source": [
    "A | B"
   ]
  },
  {
   "cell_type": "markdown",
   "metadata": {},
   "source": [
    "### Le cardinal\n",
    "Si un ensemble $A$ comporte un nombre fini d'éléments, alors $A$ est fini et ce nombre d'éléments est son **cardinal** noté $Card(A)$.\n",
    "En Python nous utilison la fonction `len`."
   ]
  },
  {
   "cell_type": "code",
   "execution_count": 32,
   "metadata": {},
   "outputs": [
    {
     "data": {
      "text/plain": [
       "(4, 4, 3)"
      ]
     },
     "execution_count": 32,
     "metadata": {},
     "output_type": "execute_result"
    }
   ],
   "source": [
    "len(A), len(B), len(C)"
   ]
  },
  {
   "cell_type": "markdown",
   "metadata": {},
   "source": [
    "Le cardinal d'une intersection possède les propriétés suivants:\n",
    "* $Card (A \\cap B) \\le Card(A) \\le Card(A \\cup B)$\n",
    "* $Card (A \\cap B) \\le Card(B) \\le Card(A \\cup B)$"
   ]
  },
  {
   "cell_type": "code",
   "execution_count": 20,
   "metadata": {},
   "outputs": [
    {
     "data": {
      "text/plain": [
       "(2, 4, 6)"
      ]
     },
     "execution_count": 20,
     "metadata": {},
     "output_type": "execute_result"
    }
   ],
   "source": [
    "len(A.intersection(B)), len(A), len(A.union(B))"
   ]
  },
  {
   "cell_type": "markdown",
   "metadata": {},
   "source": [
    "Le cardinal d'une union est\n",
    "* $Card(A \\cup B) = Card(A) + Card(B) - Card(A \\cap B)$"
   ]
  },
  {
   "cell_type": "code",
   "execution_count": 33,
   "metadata": {},
   "outputs": [
    {
     "data": {
      "text/plain": [
       "(6, 6)"
      ]
     },
     "execution_count": 33,
     "metadata": {},
     "output_type": "execute_result"
    }
   ],
   "source": [
    "len(A.union(B)), len(A) + len(B) - len(A.intersection(B))"
   ]
  },
  {
   "cell_type": "markdown",
   "metadata": {},
   "source": [
    "### Ensemble complémentaire\n",
    "Soient $E$ un ensemble et $A$ un de ses sous-ensembles, alors l'**ensemble complémentaire** de $A$ dans $E$ noté $C_E(A)$ est l'ensemble des éléments de $E$ qui ne sont pas dans $A$. Si $E$ est l'ensemble de référence, ce complémentaire est souvent noté $\\bar A$"
   ]
  },
  {
   "cell_type": "code",
   "execution_count": 34,
   "metadata": {},
   "outputs": [],
   "source": [
    "E = {1, 2, 3, 4, 5, 6, 7, 8}\n",
    "A = {3, 4, 7}"
   ]
  },
  {
   "cell_type": "markdown",
   "metadata": {},
   "source": [
    "L'ensemble complémentaire est alors"
   ]
  },
  {
   "cell_type": "code",
   "execution_count": 35,
   "metadata": {},
   "outputs": [
    {
     "data": {
      "text/plain": [
       "{1, 2, 5, 6, 8}"
      ]
     },
     "execution_count": 35,
     "metadata": {},
     "output_type": "execute_result"
    }
   ],
   "source": [
    "E - A"
   ]
  },
  {
   "cell_type": "code",
   "execution_count": 36,
   "metadata": {},
   "outputs": [
    {
     "data": {
      "text/plain": [
       "{1, 3, 4, 5, 6}"
      ]
     },
     "execution_count": 36,
     "metadata": {},
     "output_type": "execute_result"
    }
   ],
   "source": [
    "E -B"
   ]
  },
  {
   "cell_type": "code",
   "execution_count": 37,
   "metadata": {},
   "outputs": [
    {
     "data": {
      "text/plain": [
       "{1, 2, 5, 6, 8}"
      ]
     },
     "execution_count": 37,
     "metadata": {},
     "output_type": "execute_result"
    }
   ],
   "source": [
    "E - C"
   ]
  },
  {
   "cell_type": "markdown",
   "metadata": {},
   "source": [
    "### Produit cartésien\n",
    "Le **produit cartésien** $A \\times B$ (on prononce A croix B) est l'ensemble des couples $(x, y)$ tel que $x \\in A$ et $y\\in B$\n",
    "\n",
    "Par exemple pour les deux ensembles:"
   ]
  },
  {
   "cell_type": "code",
   "execution_count": 38,
   "metadata": {},
   "outputs": [],
   "source": [
    "A = {1, 2}\n",
    "B = {'a', 'b', 'c'}"
   ]
  },
  {
   "cell_type": "markdown",
   "metadata": {},
   "source": [
    "Nous pouvons définir le produit cartésien ce cette manière:"
   ]
  },
  {
   "cell_type": "code",
   "execution_count": 39,
   "metadata": {},
   "outputs": [
    {
     "data": {
      "text/plain": [
       "{(1, 'a'), (1, 'b'), (1, 'c'), (2, 'a'), (2, 'b'), (2, 'c')}"
      ]
     },
     "execution_count": 39,
     "metadata": {},
     "output_type": "execute_result"
    }
   ],
   "source": [
    "{(x, y) for x in A for y in B}"
   ]
  },
  {
   "cell_type": "markdown",
   "metadata": {},
   "source": [
    "Si $A$ et $B$ sont finis\n",
    "$$Card(A \\times B) = Card(A) \\times Card(B)$$"
   ]
  },
  {
   "cell_type": "markdown",
   "metadata": {},
   "source": [
    "**Exemple**  \n",
    "Un restaurant propose trois entrée $E = \\{E_1, E_2, E_3\\}$, quatre plats $P = \\{P_1, P_2, P_3, P_4\\}$ et deux desserts $D = \\{D_1, D_2\\}$\n",
    "\n",
    "Un menu comprendant une entrée, un plat et un desser et un élément du produit $E \\times P \\times D$. Combien de menus différents le restaurant peut-il proposer ?"
   ]
  },
  {
   "cell_type": "code",
   "execution_count": 40,
   "metadata": {},
   "outputs": [
    {
     "data": {
      "text/plain": [
       "24"
      ]
     },
     "execution_count": 40,
     "metadata": {},
     "output_type": "execute_result"
    }
   ],
   "source": [
    "E = {1, 2, 3}\n",
    "P = {1, 2, 3, 4}\n",
    "D = {1, 2}\n",
    "\n",
    "M = {(e, p, d) for e in E for p in P for d in D}\n",
    "len(M)"
   ]
  },
  {
   "cell_type": "code",
   "execution_count": 41,
   "metadata": {},
   "outputs": [
    {
     "data": {
      "text/plain": [
       "{(1, 1, 1),\n",
       " (1, 1, 2),\n",
       " (1, 2, 1),\n",
       " (1, 2, 2),\n",
       " (1, 3, 1),\n",
       " (1, 3, 2),\n",
       " (1, 4, 1),\n",
       " (1, 4, 2),\n",
       " (2, 1, 1),\n",
       " (2, 1, 2),\n",
       " (2, 2, 1),\n",
       " (2, 2, 2),\n",
       " (2, 3, 1),\n",
       " (2, 3, 2),\n",
       " (2, 4, 1),\n",
       " (2, 4, 2),\n",
       " (3, 1, 1),\n",
       " (3, 1, 2),\n",
       " (3, 2, 1),\n",
       " (3, 2, 2),\n",
       " (3, 3, 1),\n",
       " (3, 3, 2),\n",
       " (3, 4, 1),\n",
       " (3, 4, 2)}"
      ]
     },
     "execution_count": 41,
     "metadata": {},
     "output_type": "execute_result"
    }
   ],
   "source": [
    "M"
   ]
  },
  {
   "cell_type": "markdown",
   "metadata": {},
   "source": [
    "## Applications\n",
    "Une **application** de $E$ vers $F$ est un processus qui à chaque élément de $E$ associe un unique élément de $F$. "
   ]
  },
  {
   "cell_type": "markdown",
   "metadata": {},
   "source": [
    "## Relations binaires\n",
    "Dans cette partie nous allons à l'aide d'un exemple précis, montrer que les applications ne permettent pas toujours de décrire tous le liens entre les éléments de deux ensembles."
   ]
  },
  {
   "cell_type": "markdown",
   "metadata": {},
   "source": [
    "### Propriétés de relations\n",
    "Soient l'ensemble $E = \\{1, 2, 3, 4, 5, 6\\}$ et les quatre relations binaires sur $E$ définie de la manière suivante:\n",
    "* $R_1(a, b)$ si $a \\le b$\n",
    "* $R_2(a, b)$ si $a \\lt b$\n",
    "* $R_3(a, b)$ si $a$ et $b$ sont de même parité\n",
    "* $R_4(a, b)$ si $a$ divise $b$"
   ]
  },
  {
   "cell_type": "code",
   "execution_count": 27,
   "metadata": {},
   "outputs": [],
   "source": [
    "E = {1, 2, 3, 4, 5, 6}"
   ]
  },
  {
   "cell_type": "code",
   "execution_count": 28,
   "metadata": {},
   "outputs": [],
   "source": [
    "def R1(a, b):\n",
    "    return a <= b\n",
    "\n",
    "def R2(a, b):\n",
    "    return a < b\n",
    "\n",
    "def R3(a, b):\n",
    "    return (a + b) % 2 == 0\n",
    "\n",
    "def R4(a, b):\n",
    "    return (b % a) == 0"
   ]
  },
  {
   "cell_type": "markdown",
   "metadata": {},
   "source": [
    "Voici comment imprimer un **diagramme cartésien** pour la première relation:"
   ]
  },
  {
   "cell_type": "code",
   "execution_count": 29,
   "metadata": {},
   "outputs": [
    {
     "name": "stdout",
     "output_type": "stream",
     "text": [
      "   1 2 3 4 5 6 \n",
      " 1 x x x x x x \n",
      " 2   x x x x x \n",
      " 3     x x x x \n",
      " 4       x x x \n",
      " 5         x x \n",
      " 6           x "
     ]
    }
   ],
   "source": [
    "print('  ', end=' ')\n",
    "for a in E:\n",
    "    print(a, end=' ')\n",
    "for a in E:\n",
    "    print('\\n', a, end=' ')\n",
    "    for b in E:\n",
    "        print('x' if R1(a, b) else ' ', end=' ')"
   ]
  },
  {
   "cell_type": "markdown",
   "metadata": {},
   "source": [
    "Nous transformons ces instructions en une fonction:"
   ]
  },
  {
   "cell_type": "code",
   "execution_count": 30,
   "metadata": {},
   "outputs": [],
   "source": [
    "def diagram(R, E):\n",
    "    print('  ', end=' ')\n",
    "    for a in E:\n",
    "        print(a, end=' ')\n",
    "    for a in E:\n",
    "        print('\\n', a, end=' ')\n",
    "        for b in E:\n",
    "            print('x' if R(a, b) else ' ', end=' ')"
   ]
  },
  {
   "cell_type": "markdown",
   "metadata": {},
   "source": [
    "Voici les diagrammes cartésiens de ces relations:"
   ]
  },
  {
   "cell_type": "code",
   "execution_count": 31,
   "metadata": {},
   "outputs": [
    {
     "name": "stdout",
     "output_type": "stream",
     "text": [
      "   1 2 3 4 5 6 \n",
      " 1 x x x x x x \n",
      " 2   x x x x x \n",
      " 3     x x x x \n",
      " 4       x x x \n",
      " 5         x x \n",
      " 6           x "
     ]
    }
   ],
   "source": [
    "diagram(R1, E)"
   ]
  },
  {
   "cell_type": "code",
   "execution_count": 32,
   "metadata": {},
   "outputs": [
    {
     "name": "stdout",
     "output_type": "stream",
     "text": [
      "   1 2 3 4 5 6 \n",
      " 1   x x x x x \n",
      " 2     x x x x \n",
      " 3       x x x \n",
      " 4         x x \n",
      " 5           x \n",
      " 6             "
     ]
    }
   ],
   "source": [
    "diagram(R2, E)"
   ]
  },
  {
   "cell_type": "code",
   "execution_count": 33,
   "metadata": {},
   "outputs": [
    {
     "name": "stdout",
     "output_type": "stream",
     "text": [
      "   1 2 3 4 5 6 \n",
      " 1 x   x   x   \n",
      " 2   x   x   x \n",
      " 3 x   x   x   \n",
      " 4   x   x   x \n",
      " 5 x   x   x   \n",
      " 6   x   x   x "
     ]
    }
   ],
   "source": [
    "diagram(R3, E)"
   ]
  },
  {
   "cell_type": "code",
   "execution_count": 34,
   "metadata": {},
   "outputs": [
    {
     "name": "stdout",
     "output_type": "stream",
     "text": [
      "   1 2 3 4 5 6 \n",
      " 1 x x x x x x \n",
      " 2   x   x   x \n",
      " 3     x     x \n",
      " 4       x     \n",
      " 5         x   \n",
      " 6           x "
     ]
    }
   ],
   "source": [
    "diagram(R4, E)"
   ]
  },
  {
   "cell_type": "markdown",
   "metadata": {},
   "source": [
    "#### Propriété reflexive\n",
    "Une relation binaire $R$ définie sur un ensemble $E$ est dite **reflexive** si pour tout élément $a$ de $E$ on a $R(a, a)$.\n",
    "\n",
    "On voit que R1 est reflexive, mais R2 n'est pas reflexive."
   ]
  },
  {
   "cell_type": "code",
   "execution_count": 35,
   "metadata": {},
   "outputs": [
    {
     "data": {
      "text/plain": [
       "[True, True, True, True, True, True]"
      ]
     },
     "execution_count": 35,
     "metadata": {},
     "output_type": "execute_result"
    }
   ],
   "source": [
    "[R1(a, a) for a in E]"
   ]
  },
  {
   "cell_type": "code",
   "execution_count": 36,
   "metadata": {},
   "outputs": [
    {
     "data": {
      "text/plain": [
       "[False, False, False, False, False, False]"
      ]
     },
     "execution_count": 36,
     "metadata": {},
     "output_type": "execute_result"
    }
   ],
   "source": [
    "[R2(a, a) for a in E]"
   ]
  },
  {
   "cell_type": "markdown",
   "metadata": {},
   "source": [
    "La relation est reflexive si la condition est vrai pour **tout** élément. Dans Python il a la fonction `all` qui retourne vrai seuelment si tout les éléments sont vrai."
   ]
  },
  {
   "cell_type": "code",
   "execution_count": 37,
   "metadata": {},
   "outputs": [
    {
     "data": {
      "text/plain": [
       "True"
      ]
     },
     "execution_count": 37,
     "metadata": {},
     "output_type": "execute_result"
    }
   ],
   "source": [
    "all(R1(a, a) for a in E)"
   ]
  },
  {
   "cell_type": "code",
   "execution_count": 38,
   "metadata": {},
   "outputs": [
    {
     "data": {
      "text/plain": [
       "False"
      ]
     },
     "execution_count": 38,
     "metadata": {},
     "output_type": "execute_result"
    }
   ],
   "source": [
    "all(R2(a, a) for a in E)"
   ]
  },
  {
   "cell_type": "markdown",
   "metadata": {},
   "source": [
    "Nous pouvons définir une fonction qui retourne si une rélation binaire $R$ définie sur un ensemble $E$ est reflexive."
   ]
  },
  {
   "cell_type": "code",
   "execution_count": 39,
   "metadata": {},
   "outputs": [],
   "source": [
    "def reflexive(R, E):\n",
    "    return all(R(a, a) for a in E)"
   ]
  },
  {
   "cell_type": "markdown",
   "metadata": {},
   "source": [
    "Voici le résultat pour les 4 relations."
   ]
  },
  {
   "cell_type": "code",
   "execution_count": 40,
   "metadata": {},
   "outputs": [
    {
     "data": {
      "text/plain": [
       "[True, False, True, True]"
      ]
     },
     "execution_count": 40,
     "metadata": {},
     "output_type": "execute_result"
    }
   ],
   "source": [
    "[reflexive(R, E) for R in (R1, R2, R3, R4)]"
   ]
  },
  {
   "cell_type": "markdown",
   "metadata": {},
   "source": [
    "Le diagramme cartésien d'une relation réfléxive a sa **diagonale** (celle qui va du haut à gauche en bas à droite) entièrement cochée."
   ]
  },
  {
   "cell_type": "code",
   "execution_count": 41,
   "metadata": {},
   "outputs": [
    {
     "name": "stdout",
     "output_type": "stream",
     "text": [
      "   1 2 3 4 5 6 \n",
      " 1 x x x x x x \n",
      " 2   x x x x x \n",
      " 3     x x x x \n",
      " 4       x x x \n",
      " 5         x x \n",
      " 6           x "
     ]
    }
   ],
   "source": [
    "diagram(R1, E)"
   ]
  },
  {
   "cell_type": "markdown",
   "metadata": {},
   "source": [
    "#### Propriété symétrique\n",
    "\n",
    "Une relation binaire $R$ définie sur un ensemble $E$ est dite **symétrique** si pour tout couple $(a, b)$ d'éléments de $E \\times E$ on a : $R(a, b) \\implies R(b, a)$.\n",
    "\n",
    "D'abord nous dévons définir la fonction d'**implication logique**."
   ]
  },
  {
   "cell_type": "code",
   "execution_count": 42,
   "metadata": {},
   "outputs": [
    {
     "data": {
      "text/plain": [
       "[True, True, False, True]"
      ]
     },
     "execution_count": 42,
     "metadata": {},
     "output_type": "execute_result"
    }
   ],
   "source": [
    "def imply(P, Q):\n",
    "    return not P or Q\n",
    "\n",
    "[imply(P, Q) for P in (False, True) for Q in (False, True)]"
   ]
  },
  {
   "cell_type": "markdown",
   "metadata": {},
   "source": [
    "De nouveau nous pouvons définir une fonction qui retourne si une relation binaire $R$ définie sur un ensemble $E$ est symétrique."
   ]
  },
  {
   "cell_type": "code",
   "execution_count": 43,
   "metadata": {},
   "outputs": [],
   "source": [
    "def symmetric(R, E):\n",
    "    return all(imply(R(a, b), R(b, a)) for a in E for b in E)"
   ]
  },
  {
   "cell_type": "markdown",
   "metadata": {},
   "source": [
    "Voici le résultat pour les 4 relations."
   ]
  },
  {
   "cell_type": "code",
   "execution_count": 44,
   "metadata": {},
   "outputs": [
    {
     "data": {
      "text/plain": [
       "[False, False, True, False]"
      ]
     },
     "execution_count": 44,
     "metadata": {},
     "output_type": "execute_result"
    }
   ],
   "source": [
    "[symmetric(R, E) for R in (R1, R2, R3, R4)]"
   ]
  },
  {
   "cell_type": "markdown",
   "metadata": {},
   "source": [
    "Seule $R_3$ est symétrique. Les cases cochées du diagramme cartésien d'une relation symétrique, sont placées symétriquement par rapport à la diagonale."
   ]
  },
  {
   "cell_type": "code",
   "execution_count": 45,
   "metadata": {},
   "outputs": [
    {
     "name": "stdout",
     "output_type": "stream",
     "text": [
      "   1 2 3 4 5 6 \n",
      " 1 x   x   x   \n",
      " 2   x   x   x \n",
      " 3 x   x   x   \n",
      " 4   x   x   x \n",
      " 5 x   x   x   \n",
      " 6   x   x   x "
     ]
    }
   ],
   "source": [
    "diagram(R3, E)"
   ]
  },
  {
   "cell_type": "markdown",
   "metadata": {},
   "source": [
    "#### Propriété antisymétrique\n",
    "Une relation binaire $R$ définie sur un ensemble $E$ est dite **antisymétrique** si pour tout couple $(a, b)$ d'éléments de $E \\times E$ on a $R(a, b) \\implies R(b, a)$."
   ]
  },
  {
   "cell_type": "code",
   "execution_count": 46,
   "metadata": {},
   "outputs": [],
   "source": [
    "def antisymmetric(R, E):\n",
    "    return all(imply(R(a, b) and R(b, a), a == b) for a in E for b in E)"
   ]
  },
  {
   "cell_type": "code",
   "execution_count": 47,
   "metadata": {},
   "outputs": [
    {
     "data": {
      "text/plain": [
       "[True, True, False, True]"
      ]
     },
     "execution_count": 47,
     "metadata": {},
     "output_type": "execute_result"
    }
   ],
   "source": [
    "[antisymmetric(R, E) for R in (R1, R2, R3, R4)]"
   ]
  },
  {
   "cell_type": "markdown",
   "metadata": {},
   "source": [
    "Dans le diagramme cartésien d'une relation antisymétrique, si une case non situé sur la diagonale est cochée, la case symétrique par rapport à la diagonale ne peut pas l'être également."
   ]
  },
  {
   "cell_type": "code",
   "execution_count": 48,
   "metadata": {},
   "outputs": [
    {
     "name": "stdout",
     "output_type": "stream",
     "text": [
      "   1 2 3 4 5 6 \n",
      " 1 x x x x x x \n",
      " 2   x x x x x \n",
      " 3     x x x x \n",
      " 4       x x x \n",
      " 5         x x \n",
      " 6           x "
     ]
    }
   ],
   "source": [
    "diagram(R1, E)"
   ]
  },
  {
   "cell_type": "markdown",
   "metadata": {},
   "source": [
    "#### Propriété transitive\n",
    "Une relation binaire $R$ définie sur un ensemble $E$ est dite **transitive** si pour tout triplet $(a, b, c)$ d'éléments de $E \\times E \\times E$ on a $R(a, b) \\land R(b,c) \\implies R(a, c)$."
   ]
  },
  {
   "cell_type": "code",
   "execution_count": 53,
   "metadata": {},
   "outputs": [],
   "source": [
    "def transitive(R, E):\n",
    "    return all(imply(R(a, b) and R(b, c), R(a, c)) for a in E for b in E for c in E)"
   ]
  },
  {
   "cell_type": "code",
   "execution_count": 54,
   "metadata": {},
   "outputs": [
    {
     "data": {
      "text/plain": [
       "[True, True, True, True]"
      ]
     },
     "execution_count": 54,
     "metadata": {},
     "output_type": "execute_result"
    }
   ],
   "source": [
    "[transitive(R, E) for R in (R1, R2, R3, R4)]"
   ]
  },
  {
   "cell_type": "markdown",
   "metadata": {},
   "source": [
    "Tous les 4 relations binaires sont transitives. Il n'est par contre pas évident de déterminer une propriété du tableau qui permette de s'assurer visuellement que la relation est transitive."
   ]
  },
  {
   "cell_type": "markdown",
   "metadata": {},
   "source": [
    "### Relation d'équivalence\n",
    "Une relation binaire $R$ sur $E$ qui est à la fois réflexive, symétrique et transitive est appelé **relation d'équivalence**. Les éléments de l'ensemble peuvent être regroupés par **classes d'équivalence**. L'ensemble de ces classes d'équivalence est appelé **ensemble quotient** de $E$ par $R$ et noté $E/R$. \n",
    "\n",
    "**Exemple**  \n",
    "$R_3$ est une relation d'équivalence sur $E$. Ses éléments peuvent être séparé en deux groupes: ceux qui ont la même parité que 1: $\\{1, 2, 5\\}$ et ceux qui ont la même parité que 2: $\\{2, 4, 6\\}$"
   ]
  },
  {
   "cell_type": "markdown",
   "metadata": {},
   "source": [
    "## Exercices"
   ]
  },
  {
   "cell_type": "markdown",
   "metadata": {},
   "source": [
    "On appele $E$ l'ensemble des multiples de 5 compris entre 20 et 50.\n",
    "* Donner la **définition en extension** de l'ensemble E.\n",
    "* Donner la **défintion en compréhension** à l'aide d'une formulation mathématique"
   ]
  },
  {
   "cell_type": "code",
   "execution_count": 42,
   "metadata": {},
   "outputs": [
    {
     "data": {
      "text/plain": [
       "{20, 25, 30, 35, 40, 45, 50}"
      ]
     },
     "execution_count": 42,
     "metadata": {},
     "output_type": "execute_result"
    }
   ],
   "source": [
    "{20, 25, 30, 35, 40, 45, 50}"
   ]
  },
  {
   "cell_type": "code",
   "execution_count": 43,
   "metadata": {},
   "outputs": [
    {
     "data": {
      "text/plain": [
       "{20, 25, 30, 35, 40, 45, 50}"
      ]
     },
     "execution_count": 43,
     "metadata": {},
     "output_type": "execute_result"
    }
   ],
   "source": [
    "E = set(range(20, 51, 5))\n",
    "E"
   ]
  },
  {
   "cell_type": "markdown",
   "metadata": {},
   "source": [
    "**Solution**  \n",
    "Défininition en compréhension\n",
    "$$ E = \\{20+5i, \\quad 0 \\le i \\le 5\\} $$"
   ]
  },
  {
   "cell_type": "markdown",
   "metadata": {},
   "source": [
    "### Exercice 2\n",
    "Soient $A = \\{1, 3, 5 \\}$ $B = \\{2, 4\\}$ et $C = \\{1, 2, 5\\}$"
   ]
  },
  {
   "cell_type": "code",
   "execution_count": 50,
   "metadata": {},
   "outputs": [
    {
     "name": "stdout",
     "output_type": "stream",
     "text": [
      "{1, 2, 3, 5}\n",
      "{1, 2, 3, 5}\n"
     ]
    }
   ],
   "source": [
    "A = {1, 3, 5}\n",
    "B = {2, 4}\n",
    "C = {1, 2, 5}\n",
    "\n",
    "print( A | (B & C))\n",
    "print((A | B) & (A | C))"
   ]
  },
  {
   "cell_type": "code",
   "execution_count": 44,
   "metadata": {},
   "outputs": [
    {
     "data": {
      "text/plain": [
       "True"
      ]
     },
     "execution_count": 44,
     "metadata": {},
     "output_type": "execute_result"
    }
   ],
   "source": [
    "A | (B & C) == (A | B) & (A | C)"
   ]
  },
  {
   "cell_type": "markdown",
   "metadata": {},
   "source": [
    "## Exercice 3"
   ]
  },
  {
   "cell_type": "code",
   "execution_count": 45,
   "metadata": {},
   "outputs": [],
   "source": [
    "E = {'a', 'b', 'c'}"
   ]
  },
  {
   "cell_type": "code",
   "execution_count": null,
   "metadata": {},
   "outputs": [],
   "source": [
    "P = {{'a'}, }"
   ]
  }
 ],
 "metadata": {
  "kernelspec": {
   "display_name": "Python 3",
   "language": "python",
   "name": "python3"
  },
  "language_info": {
   "codemirror_mode": {
    "name": "ipython",
    "version": 3
   },
   "file_extension": ".py",
   "mimetype": "text/x-python",
   "name": "python",
   "nbconvert_exporter": "python",
   "pygments_lexer": "ipython3",
   "version": "3.7.9"
  }
 },
 "nbformat": 4,
 "nbformat_minor": 4
}
