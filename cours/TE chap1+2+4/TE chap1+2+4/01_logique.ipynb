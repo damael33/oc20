{
 "cells": [
  {
   "cell_type": "markdown",
   "metadata": {},
   "source": [
    "# Logique\n",
    "Les objectifs de cette sections \n",
    "* introduction à la logique mathématiques\n",
    "* présentation du formalisme LaTeX pour \n",
    "* fonctions logiques dans Python (and, or, not)\n",
    "\n",
    "De tout temps les penseurs ont cherché à s'assurer que leurs raisonnements, quel qu'en soit le sujet, ne comportaient pas de \"faille\" qui les fassent aboutir à un résultat inexact. Le besoin s'est rapidement fait sentir d'outils fiables sur lesquels la pensée puisse s'appuyer pour manipuler des concepts, et enchaîner des déductions."
   ]
  },
  {
   "cell_type": "markdown",
   "metadata": {},
   "source": [
    "## Calcul propositionnel"
   ]
  },
  {
   "cell_type": "markdown",
   "metadata": {},
   "source": [
    "### La proposition\n",
    "\n",
    "Une **proposition** est une affirmation qui prend toujours la même valeur de vérité (vrai ou faux).  \n",
    "Exemples:\n",
    "* l'affirmation *il pleut* n'est pas une proposition\n",
    "* l'affirmation *6 est un multiple de 3* est une proposition vraie\n",
    "* l'affirmation *3 est plus grand que 5* est une proposition fausse\n",
    "\n",
    "D'habitude nous utilisons les lettres majuscules $P, Q, R, ...$ pour désigner des propositions. Les valeurs de verité en Python sont `True` et `False`. Voici l'affection de la variable $P$ avec la valeur `True`:"
   ]
  },
  {
   "cell_type": "code",
   "execution_count": 1,
   "metadata": {},
   "outputs": [],
   "source": [
    "P = True"
   ]
  },
  {
   "cell_type": "markdown",
   "metadata": {},
   "source": [
    "Quelle est la valeur de la variable propositionelle $P$ ?"
   ]
  },
  {
   "cell_type": "code",
   "execution_count": 2,
   "metadata": {},
   "outputs": [
    {
     "data": {
      "text/plain": [
       "True"
      ]
     },
     "execution_count": 2,
     "metadata": {},
     "output_type": "execute_result"
    }
   ],
   "source": [
    "P"
   ]
  },
  {
   "cell_type": "markdown",
   "metadata": {},
   "source": [
    "Le type de cette variable $P$ est booléen."
   ]
  },
  {
   "cell_type": "code",
   "execution_count": 3,
   "metadata": {},
   "outputs": [
    {
     "data": {
      "text/plain": [
       "bool"
      ]
     },
     "execution_count": 3,
     "metadata": {},
     "output_type": "execute_result"
    }
   ],
   "source": [
    "type(P)"
   ]
  },
  {
   "cell_type": "markdown",
   "metadata": {},
   "source": [
    "Les deux valeurs de vérité peuvent être placé dans un tuple."
   ]
  },
  {
   "cell_type": "code",
   "execution_count": 4,
   "metadata": {},
   "outputs": [
    {
     "data": {
      "text/plain": [
       "(False, True)"
      ]
     },
     "execution_count": 4,
     "metadata": {},
     "output_type": "execute_result"
    }
   ],
   "source": [
    "(False, True)"
   ]
  },
  {
   "cell_type": "markdown",
   "metadata": {},
   "source": [
    "Nous pouvons imprimer les deux valeurs du tuple avec une boucle `for`."
   ]
  },
  {
   "cell_type": "code",
   "execution_count": 5,
   "metadata": {},
   "outputs": [
    {
     "name": "stdout",
     "output_type": "stream",
     "text": [
      "False\n",
      "True\n"
     ]
    }
   ],
   "source": [
    "for P in (False, True):\n",
    "    print(P)"
   ]
  },
  {
   "cell_type": "markdown",
   "metadata": {},
   "source": [
    "### La négation\n",
    "La **négation** d'une proposition $P$, notée $\\neg P$ est la proposition obtenu en affirmant son contraire.\n",
    "\n",
    "Exemples:\n",
    "* La négation de $x \\ge 0$ est $x \\lt 0$\n",
    "* La négation de *$k$ est un entier pair* est *$k$ est un entier impair*"
   ]
  },
  {
   "cell_type": "markdown",
   "metadata": {},
   "source": [
    "L'opérateur de négation logique en Python est `not`."
   ]
  },
  {
   "cell_type": "code",
   "execution_count": 6,
   "metadata": {},
   "outputs": [
    {
     "data": {
      "text/plain": [
       "False"
      ]
     },
     "execution_count": 6,
     "metadata": {},
     "output_type": "execute_result"
    }
   ],
   "source": [
    "not P"
   ]
  },
  {
   "cell_type": "markdown",
   "metadata": {},
   "source": [
    "Affichons la négation de P pour les deux possibilités."
   ]
  },
  {
   "cell_type": "code",
   "execution_count": 7,
   "metadata": {},
   "outputs": [
    {
     "name": "stdout",
     "output_type": "stream",
     "text": [
      "False True\n",
      "True False\n"
     ]
    }
   ],
   "source": [
    "for P in (False, True):\n",
    "    print(P, not P)"
   ]
  },
  {
   "cell_type": "markdown",
   "metadata": {},
   "source": [
    "Les deux colonnes ne sont pas alignées. Par défaut, la fonction `print` sépare ses arguments avec une espace. Mais ce séparateur peut être changé pour un tabulateur `\\t`, qui aligne les arguments toutes les 8 caractères."
   ]
  },
  {
   "cell_type": "code",
   "execution_count": 8,
   "metadata": {},
   "outputs": [
    {
     "name": "stdout",
     "output_type": "stream",
     "text": [
      "False\tTrue\n",
      "True\tFalse\n"
     ]
    }
   ],
   "source": [
    "for P in (False, True):\n",
    "    print(P, not P, sep='\\t')"
   ]
  },
  {
   "cell_type": "markdown",
   "metadata": {},
   "source": [
    "Nous pouvons également ajouter un en-tête pour cette table."
   ]
  },
  {
   "cell_type": "code",
   "execution_count": 9,
   "metadata": {},
   "outputs": [
    {
     "name": "stdout",
     "output_type": "stream",
     "text": [
      "P\t¬P\n",
      "False\tTrue\n",
      "True\tFalse\n"
     ]
    }
   ],
   "source": [
    "print('P\\t¬P')\n",
    "for P in (False, True):\n",
    "    print(P, not(P), sep='\\t')"
   ]
  },
  {
   "cell_type": "markdown",
   "metadata": {},
   "source": [
    "### La disjonction\n",
    "La **disjonction** $P \\lor Q$ de deux propositions $P$ et $Q$ est la proposition qui est vraie dès qu'au moins une des deux propositions $P$ ou $Q$ est vraie. On dit que c'est la proposition $P$ **ou** $Q$.  \n",
    "Exemples:\n",
    "* La carte tirée est une figure ou un coeur\n",
    "* Un nombre entier est pair ou impair\n",
    "\n",
    "Définissons une deuxième proposition $Q$"
   ]
  },
  {
   "cell_type": "code",
   "execution_count": 10,
   "metadata": {},
   "outputs": [],
   "source": [
    "Q = False"
   ]
  },
  {
   "cell_type": "markdown",
   "metadata": {},
   "source": [
    "L'opérateur en Python pour la disjonction est `or`."
   ]
  },
  {
   "cell_type": "code",
   "execution_count": 11,
   "metadata": {},
   "outputs": [
    {
     "data": {
      "text/plain": [
       "True"
      ]
     },
     "execution_count": 11,
     "metadata": {},
     "output_type": "execute_result"
    }
   ],
   "source": [
    "P or Q"
   ]
  },
  {
   "cell_type": "markdown",
   "metadata": {},
   "source": [
    "Nous pouvons afficher les 4 possiblité pour $P$ et $Q$ dans une table de vérité, en utilisant deux boucles `for` imbriquées."
   ]
  },
  {
   "cell_type": "code",
   "execution_count": 12,
   "metadata": {},
   "outputs": [
    {
     "name": "stdout",
     "output_type": "stream",
     "text": [
      "False\tFalse\tFalse\n",
      "False\tTrue\tTrue\n",
      "True\tFalse\tTrue\n",
      "True\tTrue\tTrue\n"
     ]
    }
   ],
   "source": [
    "for P in (False, True):\n",
    "    for Q in (False, True):\n",
    "        print(P, Q, P or Q, sep='\\t')"
   ]
  },
  {
   "cell_type": "markdown",
   "metadata": {},
   "source": [
    "Nous pouvons créer une fonction `truth_table(f)` qui calcule la table the verité pour une fonction booléennne `f`."
   ]
  },
  {
   "cell_type": "code",
   "execution_count": 13,
   "metadata": {},
   "outputs": [],
   "source": [
    "def truth_table(f):\n",
    "    print('P', 'Q', 'f(P, Q)', sep='\\t')\n",
    "    for P in (False, True):\n",
    "        for Q in (False, True):\n",
    "            print(P, Q, f(P, Q), sep='\\t')"
   ]
  },
  {
   "cell_type": "markdown",
   "metadata": {},
   "source": [
    "Pour l'utiliser nous devons d'abord définir une fonction logique `f` à afficher."
   ]
  },
  {
   "cell_type": "code",
   "execution_count": 14,
   "metadata": {},
   "outputs": [
    {
     "name": "stdout",
     "output_type": "stream",
     "text": [
      "P\tQ\tf(P, Q)\n",
      "False\tFalse\tFalse\n",
      "False\tTrue\tTrue\n",
      "True\tFalse\tTrue\n",
      "True\tTrue\tTrue\n"
     ]
    }
   ],
   "source": [
    "def f(P, Q):\n",
    "    return P or Q\n",
    "\n",
    "truth_table(f)"
   ]
  },
  {
   "cell_type": "markdown",
   "metadata": {},
   "source": [
    "Au lieu de définir explicitement une fonction `f`, nous pouvons aussi utiliser une fonction `lambda`."
   ]
  },
  {
   "cell_type": "markdown",
   "metadata": {},
   "source": [
    "## Fonction lambda\n",
    "\n",
    "Voici une fonction très simple, qui prend 1 argument et qui retourne cet argument incrémenté de 1."
   ]
  },
  {
   "cell_type": "code",
   "execution_count": 15,
   "metadata": {},
   "outputs": [],
   "source": [
    "def f(x):\n",
    "    return x + 1"
   ]
  },
  {
   "cell_type": "markdown",
   "metadata": {},
   "source": [
    "Nous pouvons appeler cette fonction avec un argument specifique."
   ]
  },
  {
   "cell_type": "code",
   "execution_count": 16,
   "metadata": {},
   "outputs": [
    {
     "data": {
      "text/plain": [
       "3"
      ]
     },
     "execution_count": 16,
     "metadata": {},
     "output_type": "execute_result"
    }
   ],
   "source": [
    "f(2)"
   ]
  },
  {
   "cell_type": "markdown",
   "metadata": {},
   "source": [
    "Une fonction lamda est une fonction anonyme, sans lui donner un nom. Voici cette même fonction avec un argument (x) et qui retourne cette valeur incrémenté par 1 (x+1) maintant écrit sous forme de fonction lambda:"
   ]
  },
  {
   "cell_type": "code",
   "execution_count": 17,
   "metadata": {},
   "outputs": [
    {
     "data": {
      "text/plain": [
       "<function __main__.<lambda>(x)>"
      ]
     },
     "execution_count": 17,
     "metadata": {},
     "output_type": "execute_result"
    }
   ],
   "source": [
    "lambda x : x+1"
   ]
  },
  {
   "cell_type": "code",
   "execution_count": null,
   "metadata": {},
   "outputs": [],
   "source": [
    "test = lambda x :"
   ]
  },
  {
   "cell_type": "markdown",
   "metadata": {},
   "source": [
    "Nous pouvons lui donner un argument comme avant"
   ]
  },
  {
   "cell_type": "code",
   "execution_count": 18,
   "metadata": {},
   "outputs": [
    {
     "data": {
      "text/plain": [
       "3"
      ]
     },
     "execution_count": 18,
     "metadata": {},
     "output_type": "execute_result"
    }
   ],
   "source": [
    "(lambda x : x+1)(2)"
   ]
  },
  {
   "cell_type": "markdown",
   "metadata": {},
   "source": [
    "La fonction lambda exprimer une fonction booléenne `or`."
   ]
  },
  {
   "cell_type": "code",
   "execution_count": 19,
   "metadata": {},
   "outputs": [
    {
     "data": {
      "text/plain": [
       "<function __main__.<lambda>(P, Q)>"
      ]
     },
     "execution_count": 19,
     "metadata": {},
     "output_type": "execute_result"
    }
   ],
   "source": [
    "lambda P, Q: P or Q"
   ]
  },
  {
   "cell_type": "markdown",
   "metadata": {},
   "source": [
    "L'appel de la fonction `truth_table` avec la fonction lambda devient"
   ]
  },
  {
   "cell_type": "code",
   "execution_count": 20,
   "metadata": {},
   "outputs": [
    {
     "name": "stdout",
     "output_type": "stream",
     "text": [
      "P\tQ\tf(P, Q)\n",
      "False\tFalse\tFalse\n",
      "False\tTrue\tTrue\n",
      "True\tFalse\tTrue\n",
      "True\tTrue\tTrue\n"
     ]
    }
   ],
   "source": [
    "truth_table(lambda P, Q: P or Q)"
   ]
  },
  {
   "cell_type": "markdown",
   "metadata": {},
   "source": [
    "Il serait préférable de remplacer le `f(P, Q)` dans l'entête par un texte explicite. Nous ajoutons un deuxième paramètre dans notre fonction."
   ]
  },
  {
   "cell_type": "code",
   "execution_count": 21,
   "metadata": {},
   "outputs": [],
   "source": [
    "def truth_table(f, label):\n",
    "    print('P', 'Q', label, sep='\\t')\n",
    "    for P in (False, True):\n",
    "        for Q in (False, True):\n",
    "            print(P, Q, f(P, Q), sep='\\t')"
   ]
  },
  {
   "cell_type": "markdown",
   "metadata": {},
   "source": [
    "Ceci permet d'imprimer la table de vérité avec une entête correcte."
   ]
  },
  {
   "cell_type": "code",
   "execution_count": 22,
   "metadata": {},
   "outputs": [
    {
     "name": "stdout",
     "output_type": "stream",
     "text": [
      "P\tQ\tP ∨ Q\n",
      "False\tFalse\tFalse\n",
      "False\tTrue\tTrue\n",
      "True\tFalse\tTrue\n",
      "True\tTrue\tTrue\n"
     ]
    }
   ],
   "source": [
    "truth_table(lambda P, Q: P or Q, 'P ∨ Q')"
   ]
  },
  {
   "cell_type": "markdown",
   "metadata": {},
   "source": [
    "### La conjonction\n",
    "La **conjonction** $P \\wedge Q$ de deux propositions $P$ et $Q$ est la proposition qui est vraie uniqement quand les deux propositions $P$ ou $Q$ sont vraies simultanément. On dit que c'est la proposition $P$ **et** $Q$.  \n",
    "Exemples:\n",
    "* 10 est un multiple de 2 est de 5\n",
    "\n",
    "En Python, l'opérateur de conjonction est `and`."
   ]
  },
  {
   "cell_type": "code",
   "execution_count": 23,
   "metadata": {},
   "outputs": [
    {
     "data": {
      "text/plain": [
       "False"
      ]
     },
     "execution_count": 23,
     "metadata": {},
     "output_type": "execute_result"
    }
   ],
   "source": [
    "Q = False\n",
    "P and Q"
   ]
  },
  {
   "cell_type": "markdown",
   "metadata": {},
   "source": [
    "Voici la table de vérité pour la conjonction."
   ]
  },
  {
   "cell_type": "code",
   "execution_count": 24,
   "metadata": {},
   "outputs": [
    {
     "name": "stdout",
     "output_type": "stream",
     "text": [
      "P\tQ\tP ∧ Q\n",
      "False\tFalse\tFalse\n",
      "False\tTrue\tFalse\n",
      "True\tFalse\tFalse\n",
      "True\tTrue\tTrue\n"
     ]
    }
   ],
   "source": [
    "truth_table(lambda P, Q: P and Q, 'P ∧ Q')"
   ]
  },
  {
   "cell_type": "markdown",
   "metadata": {},
   "source": [
    "### La loi de Morgan\n",
    "\n",
    "La négation d'une conjonction est équivalente à la disjonction des négations des deux propositions $P$ et $Q$.\n",
    "$$ \\neg (P \\land Q) = (\\neg P) \\lor (\\neg Q) $$"
   ]
  },
  {
   "cell_type": "code",
   "execution_count": 25,
   "metadata": {},
   "outputs": [
    {
     "name": "stdout",
     "output_type": "stream",
     "text": [
      "P\tQ\t(¬P)∨(¬Q)\n",
      "False\tFalse\tTrue\n",
      "False\tTrue\tTrue\n",
      "True\tFalse\tTrue\n",
      "True\tTrue\tFalse\n"
     ]
    }
   ],
   "source": [
    "truth_table(lambda P, Q: not P or not Q, '(¬P)∨(¬Q)')"
   ]
  },
  {
   "cell_type": "markdown",
   "metadata": {},
   "source": [
    "La négation d'une disjonction est équivalente à la conjonction des négations des deux propositions $P$ et $Q$.\n",
    "$$ \\neg (P \\lor Q) = (\\neg P) \\land (\\neg Q) $$"
   ]
  },
  {
   "cell_type": "code",
   "execution_count": 26,
   "metadata": {},
   "outputs": [
    {
     "name": "stdout",
     "output_type": "stream",
     "text": [
      "P\tQ\t(¬P)∧(¬Q)\n",
      "False\tFalse\tTrue\n",
      "False\tTrue\tFalse\n",
      "True\tFalse\tFalse\n",
      "True\tTrue\tFalse\n"
     ]
    }
   ],
   "source": [
    "truth_table(lambda P, Q: not P and not Q, '(¬P)∧(¬Q)')"
   ]
  },
  {
   "cell_type": "markdown",
   "metadata": {},
   "source": [
    "Ceci a comme conséquence que la conjonction peut être exprimé par la disjonction et vice-versa.\n",
    "La conjonction peut être exprimée par la négation de la disjonction des négations des deux propositions $P$ et $Q$.\n",
    "$$ P \\wedge Q = \\neg(\\neg P \\lor \\neg Q) $$"
   ]
  },
  {
   "cell_type": "code",
   "execution_count": 27,
   "metadata": {},
   "outputs": [
    {
     "name": "stdout",
     "output_type": "stream",
     "text": [
      "P\tQ\t¬(¬P∨¬Q)\n",
      "False\tFalse\tFalse\n",
      "False\tTrue\tFalse\n",
      "True\tFalse\tFalse\n",
      "True\tTrue\tTrue\n"
     ]
    }
   ],
   "source": [
    "truth_table(lambda P, Q: not(not P or not Q), '¬(¬P∨¬Q)')"
   ]
  },
  {
   "cell_type": "markdown",
   "metadata": {},
   "source": [
    "La disjonction peut être exprimée par la négation de la conjonction des deux négations des propopsitions $P$ et $Q$.\n",
    "$$ P \\lor Q = \\neg(\\neg P \\wedge \\neg Q) $$"
   ]
  },
  {
   "cell_type": "code",
   "execution_count": 28,
   "metadata": {},
   "outputs": [
    {
     "name": "stdout",
     "output_type": "stream",
     "text": [
      "P\tQ\t¬(¬P∧¬Q)\n",
      "False\tFalse\tFalse\n",
      "False\tTrue\tTrue\n",
      "True\tFalse\tTrue\n",
      "True\tTrue\tTrue\n"
     ]
    }
   ],
   "source": [
    "truth_table(lambda P, Q: not(not P and not Q), '¬(¬P∧¬Q)')"
   ]
  }
 ],
 "metadata": {
  "kernelspec": {
   "display_name": "Python 3",
   "language": "python",
   "name": "python3"
  },
  "language_info": {
   "codemirror_mode": {
    "name": "ipython",
    "version": 3
   },
   "file_extension": ".py",
   "mimetype": "text/x-python",
   "name": "python",
   "nbconvert_exporter": "python",
   "pygments_lexer": "ipython3",
   "version": "3.8.3"
  }
 },
 "nbformat": 4,
 "nbformat_minor": 4
}
