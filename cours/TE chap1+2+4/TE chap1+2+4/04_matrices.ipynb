{
 "cells": [
  {
   "cell_type": "markdown",
   "metadata": {},
   "source": [
    "# Calcul matriciel"
   ]
  },
  {
   "cell_type": "markdown",
   "metadata": {},
   "source": [
    "Très présentes en mathématiques, les matrices sont un moyen pratique de présenter des données et d'en tirer des informations importantes. Leurs premiers utilisations se faisaient dans le cadre de l'algèbre linéaire mais au fil des années, elles ont pris une place de plus en plus importante dans des domaines comme la statistique ou la théorie des graphes."
   ]
  },
  {
   "cell_type": "markdown",
   "metadata": {},
   "source": [
    "## Les matrices"
   ]
  },
  {
   "cell_type": "markdown",
   "metadata": {},
   "source": [
    "Les matrices permettent de simplifier la présentation d'un tableau à double entrée. Bien qu'utilisées avant lui, c'est **James Joseph Sylvester** qui les nomma ainsi en 1850 dans la mesure où elles donnent naissance à des familles de déterminants associés."
   ]
  },
  {
   "cell_type": "markdown",
   "metadata": {},
   "source": [
    "### L'ensemble $M_{n, p}(K)$\n",
    "Dans ce qui suit, $n$ et $p$ sont des entiers strictement positifs et $K$ designe une structure algébrique (un ensemble de nombres) vérifiant des propriétés particulières. $K$ pourra par exemple être l'ensemble $\\mathbb{R}$ des réels ou $\\{0, 1\\}$."
   ]
  },
  {
   "cell_type": "markdown",
   "metadata": {},
   "source": [
    "**Définition**  \n",
    "* Une **matrice** de dimension $(n, p)$ ou $n \\times p$ à coefficients dans $K$ est un tableau de $n$ lignes et $p$ colonnes d'éléments de $K$.\n",
    "* $M_{n, p}(K)$ désigne l'ensemble de ces matrices."
   ]
  },
  {
   "cell_type": "markdown",
   "metadata": {},
   "source": [
    "Quelques matrices particulières portent des noms bien définis:\n",
    "* Si $n=1$, alors la matrice est une **matrice ligne**.\n",
    "* Si $p=1$, alors la matrice est une **matrice colonne**.\n",
    "* Si $n=p$, alors la matrice est une **matrice carrée** de dimension $n$"
   ]
  },
  {
   "cell_type": "markdown",
   "metadata": {},
   "source": [
    "Pour les calculs matriciels en Python, nous importons le module **numpy** avec la commmande suivante:"
   ]
  },
  {
   "cell_type": "code",
   "execution_count": 227,
   "metadata": {},
   "outputs": [],
   "source": [
    "import numpy as np"
   ]
  },
  {
   "cell_type": "markdown",
   "metadata": {},
   "source": [
    "Voici une matrice $2 \\times 3$ avec des coefficients entiers."
   ]
  },
  {
   "cell_type": "code",
   "execution_count": 228,
   "metadata": {},
   "outputs": [
    {
     "data": {
      "text/plain": [
       "array([[ 1,  2,  3],\n",
       "       [-1,  1,  4]])"
      ]
     },
     "execution_count": 228,
     "metadata": {},
     "output_type": "execute_result"
    }
   ],
   "source": [
    "A = np.array([[1, 2, 3], [-1, 1, 4]])\n",
    "A"
   ]
  },
  {
   "cell_type": "markdown",
   "metadata": {},
   "source": [
    "La fonction `print` affiche la matrice sous une forme plus compacte:\n",
    "- sans le mot `array`\n",
    "- sans les parenthèses\n",
    "- sans les virgules"
   ]
  },
  {
   "cell_type": "code",
   "execution_count": 229,
   "metadata": {},
   "outputs": [
    {
     "name": "stdout",
     "output_type": "stream",
     "text": [
      "[[ 1  2  3]\n",
      " [-1  1  4]]\n"
     ]
    }
   ],
   "source": [
    "print(A)"
   ]
  },
  {
   "cell_type": "markdown",
   "metadata": {},
   "source": [
    "Voici une matrice carré $2 \\times 2$ avec des coefficients réels."
   ]
  },
  {
   "cell_type": "code",
   "execution_count": 230,
   "metadata": {},
   "outputs": [
    {
     "name": "stdout",
     "output_type": "stream",
     "text": [
      "[[0.         4.        ]\n",
      " [3.2        3.14159265]]\n"
     ]
    }
   ],
   "source": [
    "B = np.array([[0, 4], [3.2, np.pi]])\n",
    "print(B)"
   ]
  },
  {
   "cell_type": "markdown",
   "metadata": {},
   "source": [
    "Voici une matrice colonne $3 \\times 1$ avec des coefficients réels."
   ]
  },
  {
   "cell_type": "code",
   "execution_count": 231,
   "metadata": {},
   "outputs": [
    {
     "name": "stdout",
     "output_type": "stream",
     "text": [
      "[[ 1. ]\n",
      " [ 3. ]\n",
      " [-7.8]]\n"
     ]
    }
   ],
   "source": [
    "C = np.array([[1], [3], [-7.8]])\n",
    "print(C)"
   ]
  },
  {
   "cell_type": "markdown",
   "metadata": {},
   "source": [
    "### Indexation des coefficients et transposé\n",
    "Le coefficient d'une matrice $A \\in M_{n, p}(\\mathbb{R})$ situé à la i-ème ligne et à la j-ème colonne se note $a_{i, j}$.\n",
    "\n",
    "La matrice $A$ peut s'écrire\n",
    "$$ (a_{i, j})_{0 \\le i \\lt n, 0 \\le j \\lt p} $$"
   ]
  },
  {
   "cell_type": "code",
   "execution_count": 232,
   "metadata": {},
   "outputs": [
    {
     "name": "stdout",
     "output_type": "stream",
     "text": [
      "[[ 1  2  3]\n",
      " [-1  1  4]]\n"
     ]
    }
   ],
   "source": [
    "print(A)"
   ]
  },
  {
   "cell_type": "markdown",
   "metadata": {},
   "source": [
    "Quelle est la valeur du coefficient de la ligne 1 et colonne 0?"
   ]
  },
  {
   "cell_type": "code",
   "execution_count": 233,
   "metadata": {},
   "outputs": [
    {
     "data": {
      "text/plain": [
       "-1"
      ]
     },
     "execution_count": 233,
     "metadata": {},
     "output_type": "execute_result"
    }
   ],
   "source": [
    "A[1, 0]"
   ]
  },
  {
   "cell_type": "markdown",
   "metadata": {},
   "source": [
    "La méthode `flatten` applatit la matrice vers 1 dimension."
   ]
  },
  {
   "cell_type": "code",
   "execution_count": 234,
   "metadata": {},
   "outputs": [
    {
     "data": {
      "text/plain": [
       "array([ 1,  2,  3, -1,  1,  4])"
      ]
     },
     "execution_count": 234,
     "metadata": {},
     "output_type": "execute_result"
    }
   ],
   "source": [
    "A.flatten()"
   ]
  },
  {
   "cell_type": "markdown",
   "metadata": {},
   "source": [
    "Dans ces conditions le coefficient cherché a le coefficient 3."
   ]
  },
  {
   "cell_type": "code",
   "execution_count": 235,
   "metadata": {},
   "outputs": [
    {
     "data": {
      "text/plain": [
       "-1"
      ]
     },
     "execution_count": 235,
     "metadata": {},
     "output_type": "execute_result"
    }
   ],
   "source": [
    "A.flatten()[3]"
   ]
  },
  {
   "cell_type": "markdown",
   "metadata": {},
   "source": [
    "**Définition**  \n",
    "Lorsque  $A \\in M_{n, p}(K)$, la **transposée** de $A$ notée $A^t$ est la matrice $M_{p, n}(K)$, telle que $a_{i, j}^t = a_{j, i}$\n",
    "\n",
    "En **numpy** la méthode `transpose()` transforme une matrice en sa transposé."
   ]
  },
  {
   "cell_type": "code",
   "execution_count": 236,
   "metadata": {},
   "outputs": [
    {
     "data": {
      "text/plain": [
       "array([[ 1, -1],\n",
       "       [ 2,  1],\n",
       "       [ 3,  4]])"
      ]
     },
     "execution_count": 236,
     "metadata": {},
     "output_type": "execute_result"
    }
   ],
   "source": [
    "A.transpose()"
   ]
  },
  {
   "cell_type": "code",
   "execution_count": 237,
   "metadata": {},
   "outputs": [
    {
     "data": {
      "text/plain": [
       "array([[0.        , 3.2       ],\n",
       "       [4.        , 3.14159265]])"
      ]
     },
     "execution_count": 237,
     "metadata": {},
     "output_type": "execute_result"
    }
   ],
   "source": [
    "B.transpose()"
   ]
  },
  {
   "cell_type": "markdown",
   "metadata": {},
   "source": [
    "La transposé d'une matrice colonne est une matrice ligne."
   ]
  },
  {
   "cell_type": "code",
   "execution_count": 238,
   "metadata": {},
   "outputs": [
    {
     "name": "stdout",
     "output_type": "stream",
     "text": [
      "[[ 1. ]\n",
      " [ 3. ]\n",
      " [-7.8]]\n",
      "\n",
      "[[ 1.   3.  -7.8]]\n"
     ]
    }
   ],
   "source": [
    "print(C)\n",
    "print()\n",
    "print(C.transpose())"
   ]
  },
  {
   "cell_type": "markdown",
   "metadata": {},
   "source": [
    "### Cas particuliers des matrices carrées\n",
    "Dans cette section $A$ est une matrice carrée de dimension $n > 0$ à coefficients dans $\\mathbb{R}$.\n",
    "\n",
    "La diagonale de la matrice $A$ est l'ensemble de ses coefficients qui sont de la forme $a_{i, i}$ c'est-à-dire l'ensemble des nombres situes sur la diagonale allant du haut à gauche vers le bas à droite."
   ]
  },
  {
   "cell_type": "markdown",
   "metadata": {},
   "source": [
    "#### Matrice triangulaire\n",
    "A est une matrice **triangulaire supérieur** si tous ses éléments situés sals la diagonale sont nuls c'est-à-dire si \n",
    "$$ i>j \\implies a_{i, j}=0 $$\n",
    "\n",
    "Exemple:"
   ]
  },
  {
   "cell_type": "code",
   "execution_count": 239,
   "metadata": {},
   "outputs": [
    {
     "name": "stdout",
     "output_type": "stream",
     "text": [
      "[[1 2 7]\n",
      " [0 1 4]\n",
      " [0 0 5]]\n"
     ]
    }
   ],
   "source": [
    "A = np.array([[1, 2, 7], [0, 1, 4], [0, 0, 5]])\n",
    "print(A)"
   ]
  },
  {
   "cell_type": "markdown",
   "metadata": {},
   "source": [
    "$A$ est une matrice **triangulaire inférieure** si tous ses éléments situés au-dessus de la diagonale sont nuls c'est-à-dire si \n",
    "$$ i<j \\implies a_{i, j}=0 $$\n",
    "\n",
    "Exemple:"
   ]
  },
  {
   "cell_type": "code",
   "execution_count": 240,
   "metadata": {},
   "outputs": [
    {
     "name": "stdout",
     "output_type": "stream",
     "text": [
      "[[1 0 0]\n",
      " [5 1 0]\n",
      " [2 9 5]]\n"
     ]
    }
   ],
   "source": [
    "B = np.array([[1, 0, 0], [5, 1, 0], [2, 9, 5]])\n",
    "print(B)"
   ]
  },
  {
   "cell_type": "markdown",
   "metadata": {},
   "source": [
    "#### Matrice diagonale\n",
    "$A$ est une matrice **diagonale** si tous ses éléments situés au-dessus de la diagonale sont nuls c'est-à-dire si \n",
    "$$ i \\neq j \\implies a_{i, j}=0 $$\n",
    "\n",
    "Exemple:"
   ]
  },
  {
   "cell_type": "code",
   "execution_count": 241,
   "metadata": {},
   "outputs": [
    {
     "name": "stdout",
     "output_type": "stream",
     "text": [
      "[[1 0 0]\n",
      " [0 5 0]\n",
      " [0 0 9]]\n"
     ]
    }
   ],
   "source": [
    "D = np.array([[1, 0, 0], [0, 5, 0], [0, 0, 9]])\n",
    "print(D)"
   ]
  },
  {
   "cell_type": "markdown",
   "metadata": {},
   "source": [
    "Parmis les matrices diagonales de $M_n (\\mathbb{R})$, la matrice ne présentant que des 1 sur al diagonale est la matrice identié. Elle est noté $I_n$ et elle possède un rôle bien particulier."
   ]
  },
  {
   "cell_type": "code",
   "execution_count": 242,
   "metadata": {},
   "outputs": [
    {
     "name": "stdout",
     "output_type": "stream",
     "text": [
      "[[1 0 0]\n",
      " [0 1 0]\n",
      " [0 0 1]]\n"
     ]
    }
   ],
   "source": [
    "I = np.identity(3, dtype='int')\n",
    "print(I)"
   ]
  },
  {
   "cell_type": "markdown",
   "metadata": {},
   "source": [
    "#### Matrice symétrique\n",
    "$A$ est une matrice **symétrique** si $A^t = A$, c'est-à-dire si \n",
    "\n",
    "Exemple:"
   ]
  },
  {
   "cell_type": "code",
   "execution_count": 243,
   "metadata": {},
   "outputs": [
    {
     "name": "stdout",
     "output_type": "stream",
     "text": [
      "[[-1  1  3]\n",
      " [ 1  4  0]\n",
      " [ 3  0  7]]\n"
     ]
    }
   ],
   "source": [
    "D = np.array([[-1, 1, 3], [1, 4, 0], [3, 0, 7]])\n",
    "print(D)"
   ]
  },
  {
   "cell_type": "markdown",
   "metadata": {},
   "source": [
    "Pour vérifier si $D$ est symétrique nous faisons ceci."
   ]
  },
  {
   "cell_type": "code",
   "execution_count": 244,
   "metadata": {},
   "outputs": [
    {
     "data": {
      "text/plain": [
       "array([[ True,  True,  True],\n",
       "       [ True,  True,  True],\n",
       "       [ True,  True,  True]])"
      ]
     },
     "execution_count": 244,
     "metadata": {},
     "output_type": "execute_result"
    }
   ],
   "source": [
    "D.transpose() == D"
   ]
  },
  {
   "cell_type": "markdown",
   "metadata": {},
   "source": [
    "## Le calcul matriciel\n",
    "Dans cette section nous allons détailler les règles du calcul matriciel. Si l'addition de deux matrices et la multiplication d'une matrice par une constante sont des opérations assez intuitives, il n'en est pas de même pour le produit matriciel."
   ]
  },
  {
   "cell_type": "markdown",
   "metadata": {},
   "source": [
    "### Somme et différence de deux matrices"
   ]
  },
  {
   "cell_type": "markdown",
   "metadata": {},
   "source": [
    "La somme de deux matrices $S = A + B$ est obtenu en additionnant les coefficients correspondants\n",
    "$$ s_{i,j} = a_{i,j} + b_{i,j} $$"
   ]
  },
  {
   "cell_type": "code",
   "execution_count": 245,
   "metadata": {},
   "outputs": [
    {
     "name": "stdout",
     "output_type": "stream",
     "text": [
      "[[ 1  2  9]\n",
      " [-7  0  8]]\n"
     ]
    }
   ],
   "source": [
    "A = np.array([[1, 2, 9], [-7, 0, 8]])\n",
    "print(A)"
   ]
  },
  {
   "cell_type": "code",
   "execution_count": 246,
   "metadata": {},
   "outputs": [
    {
     "name": "stdout",
     "output_type": "stream",
     "text": [
      "[[ 5  4 -1]\n",
      " [-2  3  0]]\n"
     ]
    }
   ],
   "source": [
    "B = np.array([[5, 4, -1], [-2, 3, 0]])\n",
    "print(B)"
   ]
  },
  {
   "cell_type": "code",
   "execution_count": 247,
   "metadata": {},
   "outputs": [
    {
     "name": "stdout",
     "output_type": "stream",
     "text": [
      "[[ 1  2  9]\n",
      " [-7  0  8]]\n",
      "+\n",
      "[[ 5  4 -1]\n",
      " [-2  3  0]]\n",
      "------------\n",
      "[[ 6  6  8]\n",
      " [-9  3  8]]\n"
     ]
    }
   ],
   "source": [
    "print(A)\n",
    "print('+')\n",
    "print(B)\n",
    "print('-' * 12)\n",
    "print(A + B)"
   ]
  },
  {
   "cell_type": "markdown",
   "metadata": {},
   "source": [
    "La différence de deux matrices $D = A - B$ est obtenu en soustrayant les coefficients correspondants\n",
    "$$ d_{i,j} = a_{i,j} - b_{i,j} $$"
   ]
  },
  {
   "cell_type": "code",
   "execution_count": 248,
   "metadata": {},
   "outputs": [
    {
     "name": "stdout",
     "output_type": "stream",
     "text": [
      "[[ 1  2  9]\n",
      " [-7  0  8]]\n",
      "-\n",
      "[[ 5  4 -1]\n",
      " [-2  3  0]]\n",
      "------------\n",
      "[[-4 -2 10]\n",
      " [-5 -3  8]]\n"
     ]
    }
   ],
   "source": [
    "print(A)\n",
    "print('-')\n",
    "print(B)\n",
    "print('-' * 12)\n",
    "print(A - B)"
   ]
  },
  {
   "cell_type": "markdown",
   "metadata": {},
   "source": [
    "**Propriété**  \n",
    "* L'addition est **commutative**: $A + B = B + A$\n",
    "* L'addition est **transitive**: $(A + B) + C = A + (B + C)$  \n",
    "* La matrice **nulle** noté 0 qui ne contient que des zéros est l'**élément neutre** de l'addition et de la soustraction."
   ]
  },
  {
   "cell_type": "code",
   "execution_count": 249,
   "metadata": {},
   "outputs": [
    {
     "name": "stdout",
     "output_type": "stream",
     "text": [
      "[[0. 0. 0.]\n",
      " [0. 0. 0.]]\n"
     ]
    }
   ],
   "source": [
    "Z = np.zeros((2, 3))\n",
    "print(Z)"
   ]
  },
  {
   "cell_type": "markdown",
   "metadata": {},
   "source": [
    "La matrice nulle $Z$ est l'élément neutre."
   ]
  },
  {
   "cell_type": "code",
   "execution_count": 250,
   "metadata": {},
   "outputs": [
    {
     "name": "stdout",
     "output_type": "stream",
     "text": [
      "[[ True  True  True]\n",
      " [ True  True  True]]\n"
     ]
    }
   ],
   "source": [
    "print(A + Z == A)"
   ]
  },
  {
   "cell_type": "code",
   "execution_count": 251,
   "metadata": {},
   "outputs": [
    {
     "name": "stdout",
     "output_type": "stream",
     "text": [
      "[[ True  True  True]\n",
      " [ True  True  True]]\n"
     ]
    }
   ],
   "source": [
    "print(B - Z == B)"
   ]
  },
  {
   "cell_type": "markdown",
   "metadata": {},
   "source": [
    "### Multiplication d'une matrice par un nombre\n",
    "Le produit d'une matrice A avec un scalaire $P = kA $ est obtenu en multipliant tous les coefficients par $k$.\n",
    "$$ p_{i,j} = k a_{i,j}$$"
   ]
  },
  {
   "cell_type": "code",
   "execution_count": 252,
   "metadata": {},
   "outputs": [
    {
     "name": "stdout",
     "output_type": "stream",
     "text": [
      "2 *\n",
      "[[ 1  2  9]\n",
      " [-7  0  8]]\n",
      "---------------\n",
      "[[  2   4  18]\n",
      " [-14   0  16]]\n"
     ]
    }
   ],
   "source": [
    "print('2 *')\n",
    "print(A)\n",
    "print('-' * 15)\n",
    "print(2 * A)"
   ]
  },
  {
   "cell_type": "markdown",
   "metadata": {},
   "source": [
    "### Produit de deux matrices\n",
    "La multiplication de deux matrices est un peu plus complexe à mettre en oeuvre et n'est pas toujours possible. Pour pouvoir calculer $A \\times B$ il faut que ne nombre de colonne de $A$ soit égale au nombre de lignes de $B$.\n",
    "\n",
    "$$ c_{i, j} = \\sum_{k=0}^{p-1} a_{i, k} \\times b_{k, j} $$"
   ]
  },
  {
   "cell_type": "code",
   "execution_count": 253,
   "metadata": {},
   "outputs": [
    {
     "name": "stdout",
     "output_type": "stream",
     "text": [
      "[[ 1  2  9]\n",
      " [-7  0  8]]\n"
     ]
    }
   ],
   "source": [
    "A = np.array([[1, 2, 9], [-7, 0, 8]])\n",
    "print(A)"
   ]
  },
  {
   "cell_type": "code",
   "execution_count": 254,
   "metadata": {},
   "outputs": [
    {
     "name": "stdout",
     "output_type": "stream",
     "text": [
      "[[ 5  4 -1]\n",
      " [-2  3  0]\n",
      " [ 1  7 -2]]\n"
     ]
    }
   ],
   "source": [
    "B = np.array([[5, 4, -1], [-2, 3, 0], [1, 7, -2]])\n",
    "print(B)"
   ]
  },
  {
   "cell_type": "markdown",
   "metadata": {},
   "source": [
    "Voici la multplication de \n",
    "- la première ligne de $A$ avec \n",
    "- la première coloenne de $B$ "
   ]
  },
  {
   "cell_type": "code",
   "execution_count": 255,
   "metadata": {},
   "outputs": [
    {
     "data": {
      "text/plain": [
       "10"
      ]
     },
     "execution_count": 255,
     "metadata": {},
     "output_type": "execute_result"
    }
   ],
   "source": [
    "1*5 + 2*-2 + 9*1"
   ]
  },
  {
   "cell_type": "markdown",
   "metadata": {},
   "source": [
    "Voici la multipliction des deux matrices."
   ]
  },
  {
   "cell_type": "code",
   "execution_count": 256,
   "metadata": {},
   "outputs": [
    {
     "name": "stdout",
     "output_type": "stream",
     "text": [
      "[[ 10  73 -19]\n",
      " [-27  28  -9]]\n"
     ]
    }
   ],
   "source": [
    "M = np.matmul(A, B)\n",
    "print(M)"
   ]
  },
  {
   "cell_type": "markdown",
   "metadata": {},
   "source": [
    "Le symbole `@` permet également la multiplication de matrices."
   ]
  },
  {
   "cell_type": "code",
   "execution_count": 257,
   "metadata": {},
   "outputs": [
    {
     "name": "stdout",
     "output_type": "stream",
     "text": [
      "[[ 10  73 -19]\n",
      " [-27  28  -9]]\n"
     ]
    }
   ],
   "source": [
    "print(A @ B)"
   ]
  },
  {
   "cell_type": "markdown",
   "metadata": {},
   "source": [
    "**Propriété**  \n",
    "* La multiplication n'est **pas commutative**: $A \\times B \\neq B \\times A$ en général\n",
    "* La multiplication est **associative**: $(A \\times B) \\times C = A \\times (B \\times C)$\n",
    "* La matrice identité est l'**élément neutre** de la multiplication: $I_n \\times A = A \\times I_p = A$\n",
    "* La multiplication est **distributive** par rapport à l'addition: $A \\times (B + C) = A \\times B + A \\times C$ \n"
   ]
  },
  {
   "cell_type": "markdown",
   "metadata": {},
   "source": [
    "### La matrice identié\n",
    "La matrice identité est l'élément neutre de la multiplication."
   ]
  },
  {
   "cell_type": "code",
   "execution_count": 258,
   "metadata": {},
   "outputs": [
    {
     "data": {
      "text/plain": [
       "array([[1., 0.],\n",
       "       [0., 1.]])"
      ]
     },
     "execution_count": 258,
     "metadata": {},
     "output_type": "execute_result"
    }
   ],
   "source": [
    "test = np.identity(2)\n",
    "test"
   ]
  },
  {
   "cell_type": "code",
   "execution_count": 259,
   "metadata": {},
   "outputs": [
    {
     "name": "stdout",
     "output_type": "stream",
     "text": [
      "[[1 0]\n",
      " [0 1]]\n"
     ]
    }
   ],
   "source": [
    "I2 = np.identity(2, dtype=int)\n",
    "print(I2)"
   ]
  },
  {
   "cell_type": "code",
   "execution_count": 260,
   "metadata": {},
   "outputs": [
    {
     "name": "stdout",
     "output_type": "stream",
     "text": [
      "[[1 0 0]\n",
      " [0 1 0]\n",
      " [0 0 1]]\n"
     ]
    }
   ],
   "source": [
    "I3 = np.identity(3, dtype=int)\n",
    "print(I3)"
   ]
  },
  {
   "cell_type": "code",
   "execution_count": 261,
   "metadata": {},
   "outputs": [
    {
     "data": {
      "text/plain": [
       "array([[ 1,  2,  9],\n",
       "       [-7,  0,  8]])"
      ]
     },
     "execution_count": 261,
     "metadata": {},
     "output_type": "execute_result"
    }
   ],
   "source": [
    "np.matmul(I2, A)"
   ]
  },
  {
   "cell_type": "code",
   "execution_count": 262,
   "metadata": {},
   "outputs": [
    {
     "data": {
      "text/plain": [
       "array([[ 1,  2,  9],\n",
       "       [-7,  0,  8]])"
      ]
     },
     "execution_count": 262,
     "metadata": {},
     "output_type": "execute_result"
    }
   ],
   "source": [
    "np.matmul(A, I3)"
   ]
  },
  {
   "cell_type": "markdown",
   "metadata": {},
   "source": [
    "## Le cas particulier des matrices booléennes\n",
    "En utilisant des matrices booléennes, on a l'ensemble $K=\\{0, 1\\}$. Les sommes de matrices deviennent des sommes booléennes et les produits des produits booléens.\n",
    "Bien sûr la soustraction et la multiplication par un nombre différent de 0 ou de 1 n'ont plus de sens."
   ]
  },
  {
   "cell_type": "code",
   "execution_count": 263,
   "metadata": {},
   "outputs": [
    {
     "name": "stdout",
     "output_type": "stream",
     "text": [
      "[[ True False False]\n",
      " [ True  True  True]\n",
      " [False  True  True]]\n"
     ]
    }
   ],
   "source": [
    "A = np.array([[1, 0, 0], [1, 1, 1], [0, 1, 1]], dtype=bool)\n",
    "print(A)"
   ]
  },
  {
   "cell_type": "code",
   "execution_count": 264,
   "metadata": {},
   "outputs": [
    {
     "name": "stdout",
     "output_type": "stream",
     "text": [
      "[[False  True  True]\n",
      " [ True False  True]\n",
      " [False False  True]]\n"
     ]
    }
   ],
   "source": [
    "B = np.array([[0, 1, 1], [1, 0, 1], [0, 0, 1]], dtype=bool)\n",
    "print(B)"
   ]
  },
  {
   "cell_type": "markdown",
   "metadata": {},
   "source": [
    "Alors la somme des deux matrices $A+B$ "
   ]
  },
  {
   "cell_type": "code",
   "execution_count": 265,
   "metadata": {},
   "outputs": [
    {
     "name": "stdout",
     "output_type": "stream",
     "text": [
      "[[ True False False]\n",
      " [ True  True  True]\n",
      " [False  True  True]]\n",
      "+\n",
      "[[False  True  True]\n",
      " [ True False  True]\n",
      " [False False  True]]\n",
      "--------------------\n",
      "[[ True  True  True]\n",
      " [ True  True  True]\n",
      " [False  True  True]]\n"
     ]
    }
   ],
   "source": [
    "print(A)\n",
    "print('+')\n",
    "print(B)\n",
    "print('-' * 20)\n",
    "print(A + B)"
   ]
  },
  {
   "cell_type": "markdown",
   "metadata": {},
   "source": [
    "Ainsi que le produit $A \\times B$"
   ]
  },
  {
   "cell_type": "code",
   "execution_count": 266,
   "metadata": {},
   "outputs": [
    {
     "name": "stdout",
     "output_type": "stream",
     "text": [
      "[[0 1 1]\n",
      " [1 1 1]\n",
      " [1 0 1]]\n"
     ]
    }
   ],
   "source": [
    "print(np.matmul(A, B)*1)"
   ]
  },
  {
   "cell_type": "markdown",
   "metadata": {},
   "source": [
    "## Exercices"
   ]
  },
  {
   "cell_type": "markdown",
   "metadata": {},
   "source": [
    "### Exercice 1 - coefficient général\n",
    "Représenter les matrices carrées de dimension 4 dont le coefficient général est donnée par \n",
    "* $a_{i, j} = i + j$\n",
    "* $b_{i, j} = (-1)^{i + j}$\n",
    "* $c_{i, j} = a_{i, j} + b_{i, j}$\n",
    "\n",
    "Remarque : les indices de Python commencent à zéro : $i, j \\in \\{0, 1, 2, 3\\}$"
   ]
  },
  {
   "cell_type": "code",
   "execution_count": 267,
   "metadata": {},
   "outputs": [
    {
     "name": "stdout",
     "output_type": "stream",
     "text": [
      "[[0 1 2 3]\n",
      " [1 2 3 4]\n",
      " [2 3 4 5]\n",
      " [3 4 5 6]]\n"
     ]
    }
   ],
   "source": [
    "A = np.fromfunction(lambda i, j: i + j, (4, 4), dtype=int)\n",
    "print(A)"
   ]
  },
  {
   "cell_type": "code",
   "execution_count": 268,
   "metadata": {},
   "outputs": [
    {
     "name": "stdout",
     "output_type": "stream",
     "text": [
      "[[ 1 -1  1 -1]\n",
      " [-1  1 -1  1]\n",
      " [ 1 -1  1 -1]\n",
      " [-1  1 -1  1]]\n"
     ]
    }
   ],
   "source": [
    "B = np.fromfunction(lambda i, j: (-1)**(i + j), (4, 4), dtype=int)\n",
    "print(B)"
   ]
  },
  {
   "cell_type": "code",
   "execution_count": 269,
   "metadata": {},
   "outputs": [
    {
     "name": "stdout",
     "output_type": "stream",
     "text": [
      "[[1 0 3 2]\n",
      " [0 3 2 5]\n",
      " [3 2 5 4]\n",
      " [2 5 4 7]]\n"
     ]
    }
   ],
   "source": [
    "C = A + B\n",
    "print(C)"
   ]
  },
  {
   "cell_type": "markdown",
   "metadata": {},
   "source": [
    "### Exercice 2 - matrice carrée\n",
    "Donner une matrice carrée de dimension 3 qui, quand on l'ajoute à sa transposé, donne la matrice identité."
   ]
  },
  {
   "cell_type": "code",
   "execution_count": 270,
   "metadata": {},
   "outputs": [
    {
     "name": "stdout",
     "output_type": "stream",
     "text": [
      "[[ 0.5  1.   1. ]\n",
      " [-1.   0.5  1. ]\n",
      " [-1.  -1.   0.5]]\n"
     ]
    }
   ],
   "source": [
    "A = np.array([[.5, 1, 1], [-1, 0.5, 1], [-1, -1, 0.5]])\n",
    "print(A)"
   ]
  },
  {
   "cell_type": "code",
   "execution_count": 271,
   "metadata": {},
   "outputs": [
    {
     "name": "stdout",
     "output_type": "stream",
     "text": [
      "[[1. 0. 0.]\n",
      " [0. 1. 0.]\n",
      " [0. 0. 1.]]\n"
     ]
    }
   ],
   "source": [
    "print(A + A.transpose())"
   ]
  },
  {
   "cell_type": "markdown",
   "metadata": {},
   "source": [
    "### Exercice 3 - matrice antisymétrique\n",
    "Que valent forcément les coefficients d'une matrice carrée antisymétrique ?"
   ]
  },
  {
   "cell_type": "markdown",
   "metadata": {},
   "source": [
    "Pour les coefficients de la diagonale : $a_{i, i} = -a_{i, i}$, donc ils sont zéro."
   ]
  },
  {
   "cell_type": "markdown",
   "metadata": {},
   "source": [
    "### Exercice 4 - propriétés des matrices\n",
    "Donner une matrice carrée de dimension 3 qui soit à la fois:\n",
    "1. symétrique et antisymétrique\n",
    "1. triangulaire supérieure et inférieure\n",
    "1. antisymétrique et triangulaire inférieure"
   ]
  },
  {
   "cell_type": "markdown",
   "metadata": {},
   "source": [
    "Symétrique et antisymétrique:  \n",
    "$a_{i, j} = a_{j, i} = -a_{j, i}$  \n",
    "c'est donc la matrice nulle"
   ]
  },
  {
   "cell_type": "code",
   "execution_count": 272,
   "metadata": {},
   "outputs": [
    {
     "name": "stdout",
     "output_type": "stream",
     "text": [
      "[[0. 0. 0.]\n",
      " [0. 0. 0.]\n",
      " [0. 0. 0.]]\n"
     ]
    }
   ],
   "source": [
    "A = np.zeros((3, 3))\n",
    "print(A)"
   ]
  },
  {
   "cell_type": "markdown",
   "metadata": {},
   "source": [
    "Triangulaire supérieure et inférieure:  \n",
    "c'est donc une matrice diagonale"
   ]
  },
  {
   "cell_type": "code",
   "execution_count": 273,
   "metadata": {},
   "outputs": [
    {
     "name": "stdout",
     "output_type": "stream",
     "text": [
      "[[1 0 0]\n",
      " [0 2 0]\n",
      " [0 0 3]]\n"
     ]
    }
   ],
   "source": [
    "B = np.diag([1, 2, 3])\n",
    "print(B)"
   ]
  },
  {
   "cell_type": "markdown",
   "metadata": {},
   "source": [
    "Antisymétrique et triangulaire inférieure:  \n",
    "c'est donc une matrice nulle."
   ]
  },
  {
   "cell_type": "code",
   "execution_count": 274,
   "metadata": {},
   "outputs": [
    {
     "name": "stdout",
     "output_type": "stream",
     "text": [
      "[[0. 0. 0.]\n",
      " [0. 0. 0.]\n",
      " [0. 0. 0.]]\n"
     ]
    }
   ],
   "source": [
    "A = np.zeros((3, 3))\n",
    "print(A)"
   ]
  },
  {
   "cell_type": "markdown",
   "metadata": {},
   "source": [
    "### Exercice 5 - multiplication\n",
    "Soient les matrices suivantes:"
   ]
  },
  {
   "cell_type": "code",
   "execution_count": 275,
   "metadata": {},
   "outputs": [
    {
     "name": "stdout",
     "output_type": "stream",
     "text": [
      "[[1 2 3]\n",
      " [0 1 3]]\n"
     ]
    }
   ],
   "source": [
    "A = np.array([[1, 2, 3], [0, 1, 3]])\n",
    "print(A)"
   ]
  },
  {
   "cell_type": "code",
   "execution_count": 276,
   "metadata": {},
   "outputs": [
    {
     "name": "stdout",
     "output_type": "stream",
     "text": [
      "[[ 3  1  0]\n",
      " [-1  1  2]\n",
      " [ 0  1  1]]\n"
     ]
    }
   ],
   "source": [
    "B = np.array([[3, 1, 0], [-1, 1, 2], [0, 1, 1]])\n",
    "print(B)"
   ]
  },
  {
   "cell_type": "code",
   "execution_count": 277,
   "metadata": {},
   "outputs": [
    {
     "name": "stdout",
     "output_type": "stream",
     "text": [
      "[[2]\n",
      " [1]]\n"
     ]
    }
   ],
   "source": [
    "C = np.array([[2], [1]])\n",
    "print(C)"
   ]
  },
  {
   "cell_type": "code",
   "execution_count": 278,
   "metadata": {},
   "outputs": [
    {
     "name": "stdout",
     "output_type": "stream",
     "text": [
      "[[1 2 3]]\n"
     ]
    }
   ],
   "source": [
    "D = np.array([[1, 2, 3]])\n",
    "print(D)"
   ]
  },
  {
   "cell_type": "code",
   "execution_count": 279,
   "metadata": {},
   "outputs": [
    {
     "name": "stdout",
     "output_type": "stream",
     "text": [
      "[[ 1]\n",
      " [ 0]\n",
      " [-1]]\n"
     ]
    }
   ],
   "source": [
    "E = np.array([[1], [0], [-1]])\n",
    "print(E)"
   ]
  },
  {
   "cell_type": "code",
   "execution_count": 280,
   "metadata": {},
   "outputs": [
    {
     "name": "stdout",
     "output_type": "stream",
     "text": [
      "[[ 1 -1]\n",
      " [-1  1]]\n"
     ]
    }
   ],
   "source": [
    "F = np.array([[1, -1], [-1, 1]])\n",
    "print(F)"
   ]
  },
  {
   "cell_type": "code",
   "execution_count": 281,
   "metadata": {},
   "outputs": [
    {
     "name": "stdout",
     "output_type": "stream",
     "text": [
      "[[-2]]\n"
     ]
    }
   ],
   "source": [
    "print(np.matmul(D, E))"
   ]
  },
  {
   "cell_type": "code",
   "execution_count": 282,
   "metadata": {},
   "outputs": [
    {
     "name": "stdout",
     "output_type": "stream",
     "text": [
      "[[ 1  2  3]\n",
      " [ 0  0  0]\n",
      " [-1 -2 -3]]\n"
     ]
    }
   ],
   "source": [
    "print(np.matmul(E, D))"
   ]
  },
  {
   "cell_type": "code",
   "execution_count": 283,
   "metadata": {},
   "outputs": [
    {
     "name": "stdout",
     "output_type": "stream",
     "text": [
      "[[-2 -4 -6]\n",
      " [-3 -6 -9]]\n"
     ]
    }
   ],
   "source": [
    "print(np.matmul(np.matmul(A, E), D))"
   ]
  },
  {
   "cell_type": "code",
   "execution_count": 284,
   "metadata": {},
   "outputs": [
    {
     "name": "stdout",
     "output_type": "stream",
     "text": [
      "[[ 1  6  7]\n",
      " [-1 -6 -7]]\n"
     ]
    }
   ],
   "source": [
    "print(np.matmul(np.matmul(np.matmul(F, C), D), B))"
   ]
  },
  {
   "cell_type": "code",
   "execution_count": 285,
   "metadata": {},
   "outputs": [],
   "source": [
    "#print(np.matmul(np.matmul(np.matmul(B, E), C), D)) #error: shapes not aligned"
   ]
  },
  {
   "cell_type": "markdown",
   "metadata": {},
   "source": [
    "### Exercice 6 - distributivité\n",
    "Soient les matrices $A$, $B$ et $C$.  \n",
    "Vérifier que $(A+B) \\times C = A \\times C + B \\times C$"
   ]
  },
  {
   "cell_type": "code",
   "execution_count": 286,
   "metadata": {},
   "outputs": [],
   "source": [
    "A = np.array([[1, 2], [4, -1]])\n",
    "B = np.array([[0, 3], [-7, 5]])\n",
    "C = np.array([[1, 0], [2, -2]])"
   ]
  },
  {
   "cell_type": "code",
   "execution_count": 287,
   "metadata": {},
   "outputs": [
    {
     "name": "stdout",
     "output_type": "stream",
     "text": [
      "[[ 11 -10]\n",
      " [  5  -8]]\n"
     ]
    }
   ],
   "source": [
    "print(np.matmul(A + B, C))"
   ]
  },
  {
   "cell_type": "code",
   "execution_count": 288,
   "metadata": {},
   "outputs": [
    {
     "name": "stdout",
     "output_type": "stream",
     "text": [
      "[[ 11 -10]\n",
      " [  5  -8]]\n"
     ]
    }
   ],
   "source": [
    "print(np.matmul(A, C) + np.matmul(B, C))"
   ]
  },
  {
   "cell_type": "code",
   "execution_count": 289,
   "metadata": {},
   "outputs": [
    {
     "data": {
      "text/plain": [
       "True"
      ]
     },
     "execution_count": 289,
     "metadata": {},
     "output_type": "execute_result"
    }
   ],
   "source": [
    "(np.matmul(A + B, C) == np.matmul(A, C) + np.matmul(B, C)).all()"
   ]
  },
  {
   "cell_type": "markdown",
   "metadata": {},
   "source": [
    "### Exercice 7"
   ]
  },
  {
   "cell_type": "markdown",
   "metadata": {},
   "source": [
    "### Exercice 8 - commutativité\n",
    "Donner deux matrices carrées $A$ et $B$ de dimension 2 telles que $A \\times B = 0$ et $B \\times A \\neq 0$"
   ]
  },
  {
   "cell_type": "code",
   "execution_count": 290,
   "metadata": {},
   "outputs": [
    {
     "name": "stdout",
     "output_type": "stream",
     "text": [
      "[[1 1]\n",
      " [2 2]]\n"
     ]
    }
   ],
   "source": [
    "A = np.array([[1, 1], [2, 2]])\n",
    "print(A)"
   ]
  },
  {
   "cell_type": "code",
   "execution_count": 291,
   "metadata": {},
   "outputs": [
    {
     "name": "stdout",
     "output_type": "stream",
     "text": [
      "[[ 1 -1]\n",
      " [-1  1]]\n"
     ]
    }
   ],
   "source": [
    "B = np.array([[1, -1], [-1, 1]])\n",
    "print(B)"
   ]
  },
  {
   "cell_type": "code",
   "execution_count": 292,
   "metadata": {},
   "outputs": [
    {
     "data": {
      "text/plain": [
       "array([[0, 0],\n",
       "       [0, 0]])"
      ]
     },
     "execution_count": 292,
     "metadata": {},
     "output_type": "execute_result"
    }
   ],
   "source": [
    "np.matmul(A, B)"
   ]
  },
  {
   "cell_type": "code",
   "execution_count": 293,
   "metadata": {},
   "outputs": [
    {
     "data": {
      "text/plain": [
       "array([[-1, -1],\n",
       "       [ 1,  1]])"
      ]
     },
     "execution_count": 293,
     "metadata": {},
     "output_type": "execute_result"
    }
   ],
   "source": [
    "np.matmul(B, A)"
   ]
  },
  {
   "cell_type": "markdown",
   "metadata": {},
   "source": [
    "### Exercice 9 - coûts de véhicule\n",
    "Un artisan a besoin de louer un véhicule pendant 4 jours pour effectuer au total 500 km. Il a le choix entre trois loueurs dont les tarifs sont les suivants:\n",
    "* loueur A: 70 Euros par jour\n",
    "* loueur B: 50 centimes par km parcouru\n",
    "* loueur C: 40 Euros par jour plus 40 centimes par km parcouru\n",
    "\n",
    "Ecrire deux matrices ayant pour produit une matrice colonne contenant les montants que devrait payer l'artisan.  \n",
    "Quel loueur a-t-il intérêt à choisir"
   ]
  },
  {
   "cell_type": "code",
   "execution_count": 294,
   "metadata": {},
   "outputs": [
    {
     "name": "stdout",
     "output_type": "stream",
     "text": [
      "[[280.]\n",
      " [250.]\n",
      " [360.]]\n"
     ]
    }
   ],
   "source": [
    "A = np.array([[70, 0], [0, 0.5], [40, 0.4]])\n",
    "B = np.array([[4], [500]])\n",
    "\n",
    "C = np.matmul(A,B)\n",
    "print(C)"
   ]
  },
  {
   "cell_type": "markdown",
   "metadata": {},
   "source": [
    "Il devrait choisir loueur B"
   ]
  },
  {
   "cell_type": "markdown",
   "metadata": {},
   "source": [
    "### Exercice 10 - coûts de jouets\n",
    "Reprenons l'entreprise du début de ce chaptire. Elle fabrique trois types de jouets en bois pour lesquels on dispose des informations suivantes: \n",
    "\n",
    "| -  | Main d'oevre (heures) | Bois (cubes) | Peinture (litres) |\n",
    "|---|--------------------------|-----------------|----------------------|\n",
    "| Jouet A | 2   | 1  | 2  |\n",
    "| Jouet B | 2.5 | 4  | 4  |\n",
    "| Jouet C | 1.5 | 3  | 2.5|\n",
    "\n",
    "On sait de plus que les coûts pour l'entreprise sont de 30 Euros pour l'heure de main d'oeuvre, 10 Euro par cube de bois et 15 Euros par littre de peinture.\n",
    "\n",
    "On pose:"
   ]
  },
  {
   "cell_type": "code",
   "execution_count": 295,
   "metadata": {},
   "outputs": [
    {
     "name": "stdout",
     "output_type": "stream",
     "text": [
      "[[2.  1.  2. ]\n",
      " [2.5 4.  4. ]\n",
      " [1.5 3.  2.5]]\n"
     ]
    }
   ],
   "source": [
    "A = np.array([[2, 1, 2], [2.5, 4, 4], [1.5, 3, 2.5]])\n",
    "print(A)"
   ]
  },
  {
   "cell_type": "code",
   "execution_count": 296,
   "metadata": {},
   "outputs": [
    {
     "name": "stdout",
     "output_type": "stream",
     "text": [
      "[[30]\n",
      " [10]\n",
      " [15]]\n"
     ]
    }
   ],
   "source": [
    "Cost = np.array([[30], [10], [15]])\n",
    "print(Cost)"
   ]
  },
  {
   "cell_type": "code",
   "execution_count": 297,
   "metadata": {},
   "outputs": [
    {
     "name": "stdout",
     "output_type": "stream",
     "text": [
      "[100 200 150]\n"
     ]
    }
   ],
   "source": [
    "Quantity = np.array([100, 200, 150])\n",
    "print(Quantity)"
   ]
  },
  {
   "cell_type": "code",
   "execution_count": 298,
   "metadata": {},
   "outputs": [
    {
     "name": "stdout",
     "output_type": "stream",
     "text": [
      "[[100. ]\n",
      " [175. ]\n",
      " [112.5]]\n"
     ]
    }
   ],
   "source": [
    "# Unitary cost per toy\n",
    "D = np.matmul(A, Cost)\n",
    "print(D)"
   ]
  },
  {
   "cell_type": "code",
   "execution_count": 299,
   "metadata": {},
   "outputs": [
    {
     "name": "stdout",
     "output_type": "stream",
     "text": [
      "[ 925. 1350. 1375.]\n"
     ]
    }
   ],
   "source": [
    "# Total resources consumed\n",
    "print(np.matmul(Quantity, A))"
   ]
  },
  {
   "cell_type": "code",
   "execution_count": 300,
   "metadata": {},
   "outputs": [
    {
     "name": "stdout",
     "output_type": "stream",
     "text": [
      "[61875.]\n"
     ]
    }
   ],
   "source": [
    "# Total cost\n",
    "print(np.matmul(Quantity, D))"
   ]
  },
  {
   "cell_type": "markdown",
   "metadata": {},
   "source": [
    "### Exercice 11"
   ]
  },
  {
   "cell_type": "markdown",
   "metadata": {},
   "source": [
    "### Exercice 12"
   ]
  },
  {
   "cell_type": "markdown",
   "metadata": {},
   "source": [
    "### Exercice 13"
   ]
  },
  {
   "cell_type": "markdown",
   "metadata": {},
   "source": [
    "### Exercice 14 - puissance\n",
    "Soit la matrice booléenne\n",
    "\n",
    "$A=\n",
    "\\begin{pmatrix} \n",
    "0 & 1 & 1 \\\\\n",
    "1 & 0 & 1 \\\\\n",
    "1 & 1 & 0 \\\\\n",
    "\\end{pmatrix}\n",
    "$\n",
    "\n",
    "Calculer $A^n$ pour tout entier $n$ strictement positif lorsque le produit est le produit classique et lorsque le produit est le produit booléen."
   ]
  },
  {
   "cell_type": "code",
   "execution_count": 301,
   "metadata": {},
   "outputs": [
    {
     "name": "stdout",
     "output_type": "stream",
     "text": [
      "[[0 1 1]\n",
      " [1 0 1]\n",
      " [1 1 0]]\n"
     ]
    }
   ],
   "source": [
    "A = np.array([[0, 1, 1], [1, 0, 1], [1, 1, 0]])\n",
    "print(A)"
   ]
  },
  {
   "cell_type": "code",
   "execution_count": 302,
   "metadata": {},
   "outputs": [
    {
     "name": "stdout",
     "output_type": "stream",
     "text": [
      "n = 2\n",
      "[[2 1 1]\n",
      " [1 2 1]\n",
      " [1 1 2]]\n",
      "\n",
      "n = 3\n",
      "[[2 3 3]\n",
      " [3 2 3]\n",
      " [3 3 2]]\n",
      "\n",
      "n = 4\n",
      "[[6 5 5]\n",
      " [5 6 5]\n",
      " [5 5 6]]\n",
      "\n",
      "n = 5\n",
      "[[10 11 11]\n",
      " [11 10 11]\n",
      " [11 11 10]]\n",
      "\n"
     ]
    }
   ],
   "source": [
    "B = A\n",
    "for i in range(2, 6):\n",
    "    print('n =', i)\n",
    "    B = np.matmul(B, A)\n",
    "    print(B)\n",
    "    print()"
   ]
  },
  {
   "cell_type": "code",
   "execution_count": 303,
   "metadata": {},
   "outputs": [
    {
     "name": "stdout",
     "output_type": "stream",
     "text": [
      "n = 2\n",
      "[[1 1 1]\n",
      " [1 1 1]\n",
      " [1 1 1]]\n",
      "\n",
      "n = 3\n",
      "[[1 1 1]\n",
      " [1 1 1]\n",
      " [1 1 1]]\n",
      "\n",
      "n = 4\n",
      "[[1 1 1]\n",
      " [1 1 1]\n",
      " [1 1 1]]\n",
      "\n"
     ]
    }
   ],
   "source": [
    "A = np.array([[0, 1, 1], [1, 0, 1], [1, 1, 0]], dtype=bool)\n",
    "B = A\n",
    "for i in range(2, 5):\n",
    "    print('n =', i)\n",
    "    B = np.matmul(B, A)\n",
    "    print(B *1)\n",
    "    print()"
   ]
  },
  {
   "cell_type": "markdown",
   "metadata": {},
   "source": [
    "# Images"
   ]
  },
  {
   "cell_type": "code",
   "execution_count": 304,
   "metadata": {},
   "outputs": [],
   "source": [
    "import matplotlib.pyplot as plt\n",
    "import numpy as np"
   ]
  },
  {
   "cell_type": "markdown",
   "metadata": {},
   "source": [
    "## Créer des matrices 2D"
   ]
  },
  {
   "cell_type": "code",
   "execution_count": 305,
   "metadata": {},
   "outputs": [
    {
     "name": "stdout",
     "output_type": "stream",
     "text": [
      "[[0. 0. 0. 0. 0. 0. 0. 0.]\n",
      " [0. 0. 0. 0. 0. 0. 0. 0.]\n",
      " [0. 0. 0. 0. 0. 0. 0. 0.]\n",
      " [0. 0. 0. 0. 0. 0. 0. 0.]\n",
      " [0. 0. 0. 0. 0. 0. 0. 0.]]\n"
     ]
    }
   ],
   "source": [
    "img = np.zeros((5, 8))\n",
    "print(img)"
   ]
  },
  {
   "cell_type": "code",
   "execution_count": 306,
   "metadata": {},
   "outputs": [
    {
     "name": "stdout",
     "output_type": "stream",
     "text": [
      "[[0 0 0 0 0 0 0 0 0 0 0 0]\n",
      " [0 0 0 0 0 0 0 0 0 0 0 0]\n",
      " [0 0 0 0 0 0 0 0 0 0 0 0]\n",
      " [0 0 0 0 0 0 0 0 0 0 0 0]]\n"
     ]
    }
   ],
   "source": [
    "img2 = np.zeros((4, 12), dtype='uint8')\n",
    "print(img2)"
   ]
  },
  {
   "cell_type": "markdown",
   "metadata": {},
   "source": [
    "## Afficher une matrice"
   ]
  },
  {
   "cell_type": "code",
   "execution_count": 307,
   "metadata": {},
   "outputs": [
    {
     "data": {
      "image/png": "[encoded data removed]",
      "text/plain": [
       "<Figure size 432x288 with 1 Axes>"
      ]
     },
     "metadata": {
      "needs_background": "light"
     },
     "output_type": "display_data"
    }
   ],
   "source": [
    "plt.grid()\n",
    "plt.imshow(img);"
   ]
  },
  {
   "cell_type": "code",
   "execution_count": 308,
   "metadata": {},
   "outputs": [
    {
     "data": {
      "text/plain": [
       "(5, 8)"
      ]
     },
     "execution_count": 308,
     "metadata": {},
     "output_type": "execute_result"
    }
   ],
   "source": [
    "img.shape"
   ]
  },
  {
   "cell_type": "code",
   "execution_count": 309,
   "metadata": {},
   "outputs": [
    {
     "data": {
      "text/plain": [
       "40"
      ]
     },
     "execution_count": 309,
     "metadata": {},
     "output_type": "execute_result"
    }
   ],
   "source": [
    "img.size"
   ]
  },
  {
   "cell_type": "code",
   "execution_count": 310,
   "metadata": {},
   "outputs": [
    {
     "data": {
      "text/plain": [
       "(4, 12)"
      ]
     },
     "execution_count": 310,
     "metadata": {},
     "output_type": "execute_result"
    }
   ],
   "source": [
    "img2.shape"
   ]
  },
  {
   "cell_type": "code",
   "execution_count": 311,
   "metadata": {},
   "outputs": [
    {
     "data": {
      "text/plain": [
       "48"
      ]
     },
     "execution_count": 311,
     "metadata": {},
     "output_type": "execute_result"
    }
   ],
   "source": [
    "img2.size"
   ]
  },
  {
   "cell_type": "markdown",
   "metadata": {},
   "source": [
    "## Addresser un pixel"
   ]
  },
  {
   "cell_type": "code",
   "execution_count": 312,
   "metadata": {},
   "outputs": [
    {
     "name": "stdout",
     "output_type": "stream",
     "text": [
      "[[0. 0. 0. 0. 0. 0. 0. 0.]\n",
      " [0. 0. 1. 0. 0. 0. 0. 0.]\n",
      " [0. 0. 0. 0. 0. 0. 1. 0.]\n",
      " [0. 0. 0. 0. 0. 0. 0. 0.]\n",
      " [0. 0. 0. 0. 0. 0. 0. 0.]]\n"
     ]
    }
   ],
   "source": [
    "img[1, 2] = 1\n",
    "img[2, 6] = 1\n",
    "print(img)"
   ]
  },
  {
   "cell_type": "code",
   "execution_count": 313,
   "metadata": {},
   "outputs": [
    {
     "data": {
      "image/png": "[encoded data removed]",
      "text/plain": [
       "<Figure size 432x288 with 1 Axes>"
      ]
     },
     "metadata": {
      "needs_background": "light"
     },
     "output_type": "display_data"
    }
   ],
   "source": [
    "plt.imshow(img, cmap='gray');"
   ]
  },
  {
   "cell_type": "markdown",
   "metadata": {},
   "source": [
    "## Des pixels blancs"
   ]
  },
  {
   "cell_type": "code",
   "execution_count": 314,
   "metadata": {},
   "outputs": [
    {
     "name": "stdout",
     "output_type": "stream",
     "text": [
      "[[1 1 1 1 1]\n",
      " [1 1 1 1 1]\n",
      " [1 1 1 1 1]\n",
      " [1 1 1 1 1]\n",
      " [1 1 1 1 1]]\n"
     ]
    }
   ],
   "source": [
    "img = np.ones((5, 5), dtype='uint8')\n",
    "print(img)"
   ]
  },
  {
   "cell_type": "code",
   "execution_count": 315,
   "metadata": {},
   "outputs": [
    {
     "data": {
      "image/png": "[encoded data removed]",
      "text/plain": [
       "<Figure size 432x288 with 1 Axes>"
      ]
     },
     "metadata": {
      "needs_background": "light"
     },
     "output_type": "display_data"
    }
   ],
   "source": [
    "img = np.ones((5, 5), dtype='uint8')\n",
    "img[1, 1] = 0\n",
    "img[1, 3] = 0\n",
    "img[3, 1:4] = 0\n",
    "plt.imshow(img, cmap='gray');"
   ]
  },
  {
   "cell_type": "markdown",
   "metadata": {},
   "source": [
    "## Créer des lettres"
   ]
  },
  {
   "cell_type": "code",
   "execution_count": 316,
   "metadata": {},
   "outputs": [
    {
     "data": {
      "image/png": "[encoded data removed]",
      "text/plain": [
       "<Figure size 432x288 with 1 Axes>"
      ]
     },
     "metadata": {
      "needs_background": "light"
     },
     "output_type": "display_data"
    }
   ],
   "source": [
    "E = np.array([[1, 0, 0, 0, 1], \n",
    "              [1, 0, 1, 1, 1],\n",
    "              [1, 0, 0, 0, 1],\n",
    "              [1, 0, 1, 1, 1],\n",
    "              [1, 0, 0, 0, 1],\n",
    "              [1, 1, 1, 1, 1]])\n",
    "plt.imshow(E, cmap='gray')\n",
    "plt.grid()"
   ]
  },
  {
   "cell_type": "code",
   "execution_count": 317,
   "metadata": {},
   "outputs": [
    {
     "data": {
      "image/png": "[encoded data removed]",
      "text/plain": [
       "<Figure size 432x288 with 1 Axes>"
      ]
     },
     "metadata": {
      "needs_background": "light"
     },
     "output_type": "display_data"
    }
   ],
   "source": [
    "F = np.array([[1, 0, 0, 0, 1], \n",
    "              [1, 0, 1, 1, 1],\n",
    "              [1, 0, 0, 0, 1],\n",
    "              [1, 0, 1, 1, 1],\n",
    "              [1, 0, 1, 1, 1],\n",
    "              [1, 1, 1, 1, 1]])\n",
    "plt.imshow(F, cmap='gray')\n",
    "plt.grid()"
   ]
  },
  {
   "cell_type": "code",
   "execution_count": 318,
   "metadata": {},
   "outputs": [
    {
     "data": {
      "image/png": "[encoded data removed]",
      "text/plain": [
       "<Figure size 432x288 with 1 Axes>"
      ]
     },
     "metadata": {
      "needs_background": "light"
     },
     "output_type": "display_data"
    }
   ],
   "source": [
    "L = np.array([[1, 0, 1, 1, 1], \n",
    "              [1, 0, 1, 1, 1],\n",
    "              [1, 0, 1, 1, 1],\n",
    "              [1, 0, 1, 1, 1],\n",
    "              [1, 0, 0, 0, 1], \n",
    "              [1, 1, 1, 1, 1]])\n",
    "plt.imshow(L, cmap='gray')\n",
    "plt.grid()"
   ]
  },
  {
   "cell_type": "markdown",
   "metadata": {},
   "source": [
    "## Empiler des images"
   ]
  },
  {
   "cell_type": "code",
   "execution_count": 319,
   "metadata": {},
   "outputs": [
    {
     "data": {
      "image/png": "[encoded data removed]",
      "text/plain": [
       "<Figure size 432x288 with 1 Axes>"
      ]
     },
     "metadata": {
      "needs_background": "light"
     },
     "output_type": "display_data"
    }
   ],
   "source": [
    "ELLE = np.hstack((E, L, L, E))\n",
    "plt.imshow(ELLE, cmap='gray');"
   ]
  },
  {
   "cell_type": "code",
   "execution_count": 320,
   "metadata": {},
   "outputs": [
    {
     "data": {
      "text/plain": [
       "(6, 20)"
      ]
     },
     "execution_count": 320,
     "metadata": {},
     "output_type": "execute_result"
    }
   ],
   "source": [
    "ELLE.shape"
   ]
  },
  {
   "cell_type": "code",
   "execution_count": 321,
   "metadata": {},
   "outputs": [
    {
     "data": {
      "text/plain": [
       "120"
      ]
     },
     "execution_count": 321,
     "metadata": {},
     "output_type": "execute_result"
    }
   ],
   "source": [
    "ELLE.size"
   ]
  },
  {
   "cell_type": "code",
   "execution_count": 322,
   "metadata": {},
   "outputs": [
    {
     "data": {
      "image/png": "[encoded data removed]",
      "text/plain": [
       "<Figure size 432x288 with 1 Axes>"
      ]
     },
     "metadata": {
      "needs_background": "light"
     },
     "output_type": "display_data"
    }
   ],
   "source": [
    "ELF = np.hstack((E, L, F))\n",
    "plt.imshow(ELF);"
   ]
  },
  {
   "cell_type": "code",
   "execution_count": 323,
   "metadata": {},
   "outputs": [
    {
     "data": {
      "image/png": "[encoded data removed]",
      "text/plain": [
       "<Figure size 432x288 with 1 Axes>"
      ]
     },
     "metadata": {
      "needs_background": "light"
     },
     "output_type": "display_data"
    }
   ],
   "source": [
    "FLL = np.hstack((F, L, L))\n",
    "plt.imshow(FLL);"
   ]
  },
  {
   "cell_type": "code",
   "execution_count": 324,
   "metadata": {},
   "outputs": [
    {
     "data": {
      "image/png": "[encoded data removed]",
      "text/plain": [
       "<Figure size 432x288 with 1 Axes>"
      ]
     },
     "metadata": {
      "needs_background": "light"
     },
     "output_type": "display_data"
    }
   ],
   "source": [
    "img = np.vstack((ELF, FLL))\n",
    "plt.imshow(img);"
   ]
  },
  {
   "cell_type": "code",
   "execution_count": 325,
   "metadata": {},
   "outputs": [
    {
     "data": {
      "text/plain": [
       "(12, 15)"
      ]
     },
     "execution_count": 325,
     "metadata": {},
     "output_type": "execute_result"
    }
   ],
   "source": [
    "img.shape"
   ]
  },
  {
   "cell_type": "markdown",
   "metadata": {},
   "source": [
    "## Adresser lignes et colonnes"
   ]
  },
  {
   "cell_type": "code",
   "execution_count": 326,
   "metadata": {},
   "outputs": [
    {
     "data": {
      "image/png": "[encoded data removed]",
      "text/plain": [
       "<Figure size 432x288 with 1 Axes>"
      ]
     },
     "metadata": {
      "needs_background": "light"
     },
     "output_type": "display_data"
    }
   ],
   "source": [
    "img = np.ones((5, 8), dtype='uint8')\n",
    "img[0, :] = 0\n",
    "img[2, :2] = 0\n",
    "img[3, 2:5] = 0\n",
    "img[4, 5:] = 0\n",
    "plt.imshow(img, cmap='gray');"
   ]
  },
  {
   "cell_type": "code",
   "execution_count": 327,
   "metadata": {},
   "outputs": [
    {
     "data": {
      "image/png": "[encoded data removed]",
      "text/plain": [
       "<Figure size 432x288 with 1 Axes>"
      ]
     },
     "metadata": {
      "needs_background": "light"
     },
     "output_type": "display_data"
    }
   ],
   "source": [
    "img = np.ones((5, 8), dtype='uint8')\n",
    "img[1, :] = 0\n",
    "img[:, 0] = 0\n",
    "img[:, 2] = 0\n",
    "img[:, 4] = 0\n",
    "img[:, 6] = 0\n",
    "plt.imshow(img, cmap='gray');"
   ]
  },
  {
   "cell_type": "markdown",
   "metadata": {},
   "source": [
    "## Des pixels aléatoires"
   ]
  },
  {
   "cell_type": "code",
   "execution_count": 328,
   "metadata": {},
   "outputs": [
    {
     "data": {
      "image/png": "[encoded data removed]",
      "text/plain": [
       "<Figure size 432x288 with 1 Axes>"
      ]
     },
     "metadata": {
      "needs_background": "light"
     },
     "output_type": "display_data"
    }
   ],
   "source": [
    "A = np.random.randint(2, size=(50, 100))\n",
    "plt.imshow(A, cmap='gray');"
   ]
  },
  {
   "cell_type": "code",
   "execution_count": 329,
   "metadata": {},
   "outputs": [
    {
     "data": {
      "image/png": "[encoded data removed]",
      "text/plain": [
       "<Figure size 432x288 with 2 Axes>"
      ]
     },
     "metadata": {
      "needs_background": "light"
     },
     "output_type": "display_data"
    }
   ],
   "source": [
    "A = np.random.randint(6, size=(10, 12))\n",
    "plt.imshow(A, cmap='jet')\n",
    "plt.colorbar();"
   ]
  },
  {
   "cell_type": "code",
   "execution_count": 330,
   "metadata": {},
   "outputs": [
    {
     "name": "stdout",
     "output_type": "stream",
     "text": [
      "[[5 5 0 3 2 2 5 4 3 2 1 0]\n",
      " [0 0 0 5 3 5 1 1 2 2 4 1]\n",
      " [3 4 1 1 2 2 3 4 3 1 3 1]\n",
      " [5 3 3 1 3 1 4 3 4 1 2 1]\n",
      " [3 3 0 0 1 4 4 0 0 5 5 5]\n",
      " [3 5 1 3 5 2 4 3 2 1 1 1]\n",
      " [0 4 1 2 2 1 3 1 0 4 5 2]\n",
      " [3 5 5 3 0 2 3 3 4 3 0 2]\n",
      " [5 4 1 2 5 3 2 1 2 1 1 2]\n",
      " [5 5 1 4 5 0 0 0 5 2 1 2]]\n"
     ]
    }
   ],
   "source": [
    "print(A)"
   ]
  },
  {
   "cell_type": "markdown",
   "metadata": {},
   "source": [
    "## Lire une image"
   ]
  },
  {
   "cell_type": "code",
   "execution_count": 331,
   "metadata": {},
   "outputs": [
    {
     "name": "stdout",
     "output_type": "stream",
     "text": [
      " Le volume dans le lecteur C s’appelle Acer\n",
      " Le numéro de série du volume est D001-BB9F\n",
      "\n",
      " Répertoire de C:\\Users\\moi\\Documents\\GitHub\\oc20\\cours\\TE chap1+2+4\\TE chap1+2+4\n",
      "\n",
      "10.05.2021  17:13            70 968 maison.png\n",
      "               1 fichier(s)           70 968 octets\n",
      "               0 Rép(s)  811 484 786 688 octets libres\n"
     ]
    }
   ],
   "source": [
    "ls *.png"
   ]
  },
  {
   "cell_type": "code",
   "execution_count": 332,
   "metadata": {},
   "outputs": [],
   "source": [
    "img = plt.imread('maison.png')[:,:, 0]"
   ]
  },
  {
   "cell_type": "code",
   "execution_count": 333,
   "metadata": {},
   "outputs": [
    {
     "data": {
      "image/png": "[encoded data removed]",
      "text/plain": [
       "<Figure size 432x288 with 1 Axes>"
      ]
     },
     "metadata": {
      "needs_background": "light"
     },
     "output_type": "display_data"
    }
   ],
   "source": [
    "plt.imshow(img, cmap='gray');"
   ]
  },
  {
   "cell_type": "code",
   "execution_count": 334,
   "metadata": {},
   "outputs": [
    {
     "data": {
      "text/plain": [
       "(225, 225)"
      ]
     },
     "execution_count": 334,
     "metadata": {},
     "output_type": "execute_result"
    }
   ],
   "source": [
    "img.shape"
   ]
  },
  {
   "cell_type": "code",
   "execution_count": 337,
   "metadata": {},
   "outputs": [
    {
     "data": {
      "text/plain": [
       "<matplotlib.colorbar.Colorbar at 0x1c18e3b2190>"
      ]
     },
     "execution_count": 337,
     "metadata": {},
     "output_type": "execute_result"
    },
    {
     "data": {
      "image/png": "[encoded data removed]",
      "text/plain": [
       "<Figure size 432x288 with 2 Axes>"
      ]
     },
     "metadata": {
      "needs_background": "light"
     },
     "output_type": "display_data"
    }
   ],
   "source": [
    "plt.imshow(img, cmap='hot')\n",
    "plt.colorbar();"
   ]
  }
 ],
 "metadata": {
  "kernelspec": {
   "display_name": "Python 3",
   "language": "python",
   "name": "python3"
  },
  "language_info": {
   "codemirror_mode": {
    "name": "ipython",
    "version": 3
   },
   "file_extension": ".py",
   "mimetype": "text/x-python",
   "name": "python",
   "nbconvert_exporter": "python",
   "pygments_lexer": "ipython3",
   "version": "3.8.3"
  }
 },
 "nbformat": 4,
 "nbformat_minor": 4
}
