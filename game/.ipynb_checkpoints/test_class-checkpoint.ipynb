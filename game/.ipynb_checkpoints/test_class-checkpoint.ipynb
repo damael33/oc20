{
 "cells": [
  {
   "cell_type": "code",
   "execution_count": null,
   "id": "adjusted-watson",
   "metadata": {},
   "outputs": [],
   "source": [
    "efficace_sur = {'Feu':'Plante', 'Feu':'Glace', 'Feu':'Insecte', 'Feu':'Acier', \n",
    "             'Eau':'Feu', 'Eau':'Sol', 'Eau':'Roche', \n",
    "             'Plante':'Sol', 'Plante':'Roche', 'Plante':'Eau', \n",
    "             'Electrik':'Eau', 'Elektric':'Vol', \n",
    "             'Glace':'Plante', 'Glace':'Sol', 'Glace':'Vol', 'Glace':'Dragon', \n",
    "             'Combat':'Normal', 'Combat':'Glace', 'Combat':'Roche', 'Combat':'Ténèbres', 'Combat':'Acier', \n",
    "             'Poison':'Plante', \n",
    "             'Sol':'Feu', 'Sol':'Electrik', 'Sol':'Poison', 'Sol':'Roche', 'Sol':'Acier', \n",
    "             'Vol':'Plante', 'Vol':'Combat', 'Vol':'Insecte', \n",
    "             'Psy':'Combat', 'Psy':'Poison', \n",
    "             'Insecte':'Plante', 'Insecte':'Psy', 'Insecte':'Ténèbres', \n",
    "             'Roche':'Feu', 'Roche':'Glace', 'Roche':'Vol', 'Roche':'Insecte', \n",
    "             'Spectre':'Psy', 'Spectre':'Spectre', \n",
    "             'Dragon':'Dragon', \n",
    "             'Ténèbres':'Psy', 'Ténèbres':'Roche', \n",
    "             'Acier':'Glace', 'Acier':'Roche'}\n",
    "\n",
    "inefficace_sur = {'Normal':'Spectre', 'Electrik':'Sol', 'Combat':'Spectre', 'Poison':'Acier',\n",
    "                  'Sol':'Vol', 'Psy':'Ténèbres', 'Spectre':'Normal'}\n",
    "\n",
    "peu_efficace_sur = {'Normal':'Roche', 'Normal':'Acier', \n",
    "                    'Feu':'Feu', 'Feu':'Eau', 'Feu':'Roche', 'Feu':'Dragon', \n",
    "                    'Eau':'Eau', 'Eau':'Plante', 'Eau':'Dragon', \n",
    "                    'Plante':'Feu', 'Plante':'Plante', 'Plante':'Poison', 'Plante':'Vol', 'Plante':'Insecte', 'Plante':'Dragon', 'Plante':'Acier',\n",
    "                    'Electrik':'Plante', 'Electrik':'Electrik', 'Electrik':'Dragon', \n",
    "                    'Glace':'Feu', 'Glace':'Eau', 'Glace':'Glace', 'Glace':'Acier', \n",
    "                    'Combat':'Poison', 'Combat':'', 'Feu':'Feu', 'Feu':'Feu', \n",
    "                    'Feu':'Feu', 'Feu':'Feu', 'Feu':'Feu', 'Feu':'Feu', \n",
    "                    'Feu':'Feu', 'Feu':'Feu', \n",
    "                    'Feu':'Feu', 'Feu':'Feu', 'Feu':'Feu', \n",
    "                    'Feu':'Feu', 'Feu':'Feu', \n",
    "                    'Feu':'Feu', 'Feu':'Feu', 'Feu':'Feu', 'Feu':'Feu', 'Feu':'Feu', 'Feu':'Feu', \n",
    "                    'Feu':'Feu', 'Feu':'Feu', 'Feu':'Feu', \n",
    "                    'Feu':'Feu', 'Feu':'Feu', \n",
    "                    'Feu':'Feu', \n",
    "                    'Feu':'Feu', 'Feu':'Feu', 'Feu':'Feu', \n",
    "                    'Feu':'Feu', 'Feu':'Feu', 'Feu':'Feu', }"
   ]
  },
  {
   "cell_type": "code",
   "execution_count": 8,
   "id": "choice-macintosh",
   "metadata": {},
   "outputs": [
    {
     "name": "stdout",
     "output_type": "stream",
     "text": [
      "1\n",
      "d\n",
      "2\n"
     ]
    }
   ],
   "source": [
    "degat = ['            d0  d',\n",
    "         ' dd2 2     2d d 2',\n",
    "         ' 2dd.   2.  2 d  ',\n",
    "         ' d2d.  d2d d2 d d',\n",
    "         '  2dd.  02    d  ',\n",
    "         ' dd 2 d  22   2 d',\n",
    "         '2.   2 d ddd20 22',\n",
    "         '   2   dd   dd  0',\n",
    "         ' 2 d2  2 0 d2   2',\n",
    "         '   2d 2    2d   d',\n",
    "         '      22  d    0d',\n",
    "         ' d 2  dd d2  d 2d',\n",
    "         ' 2   2d d2 2    d',\n",
    "         Spectre"
   ]
  },
  {
   "cell_type": "code",
   "execution_count": 5,
   "id": "heated-manufacturer",
   "metadata": {},
   "outputs": [
    {
     "ename": "IndentationError",
     "evalue": "expected an indented block (<ipython-input-5-95497aa11f2c>, line 9)",
     "output_type": "error",
     "traceback": [
      "\u001b[0;36m  File \u001b[0;32m\"<ipython-input-5-95497aa11f2c>\"\u001b[0;36m, line \u001b[0;32m9\u001b[0m\n\u001b[0;31m    class Pokemon:\u001b[0m\n\u001b[0m                  ^\u001b[0m\n\u001b[0;31mIndentationError\u001b[0m\u001b[0;31m:\u001b[0m expected an indented block\n"
     ]
    }
   ],
   "source": [
    "class Attaque:\n",
    "    def __init__(self, degat, typa, critique):\n",
    "        self.degat = degat\n",
    "        self.typ = typ\n",
    "        self.critique = critique\n",
    "    \n",
    "    def compare_type(adversaire):\n",
    "        \n",
    "class Pokemon:\n",
    "    def __init__(self, name, pv, typp, xp, attaques):\n",
    "        self.pv = pv\n",
    "        self.typp = typp\n",
    "        self.xp = xp\n",
    "        self.attaques = attaques\n",
    "         \n",
    "class Rattata(Pokemon):\n",
    "    def __init__(self, name, pv, typp, xp, attaques):\n",
    "        Pokemon.__init__(self, name, pv, typp, xp, attaque)\n"
   ]
  }
 ],
 "metadata": {
  "kernelspec": {
   "display_name": "Python 3",
   "language": "python",
   "name": "python3"
  },
  "language_info": {
   "codemirror_mode": {
    "name": "ipython",
    "version": 3
   },
   "file_extension": ".py",
   "mimetype": "text/x-python",
   "name": "python",
   "nbconvert_exporter": "python",
   "pygments_lexer": "ipython3",
   "version": "3.7.9"
  }
 },
 "nbformat": 4,
 "nbformat_minor": 5
}
